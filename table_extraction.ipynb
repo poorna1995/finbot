{
 "cells": [
  {
   "cell_type": "code",
   "execution_count": 165,
   "metadata": {},
   "outputs": [
    {
     "data": {
      "text/plain": [
       "True"
      ]
     },
     "execution_count": 165,
     "metadata": {},
     "output_type": "execute_result"
    }
   ],
   "source": [
    "import os\n",
    "from dotenv import load_dotenv \n",
    "import json\n",
    "from unstructured_client import UnstructuredClient\n",
    "from unstructured_client.models import shared, operations\n",
    "from unstructured_client.models.errors import SDKError\n",
    "from unstructured.staging.base import dict_to_elements, elements_to_json\n",
    "from langchain_core.output_parsers import StrOutputParser\n",
    "from langchain_core.prompts import ChatPromptTemplate\n",
    "from langchain_core.runnables import RunnablePassthrough\n",
    "from langchain_ollama import ChatOllama\n",
    "import uuid\n",
    "from langchain_ollama import OllamaEmbeddings\n",
    "from langchain.vectorstores import Chroma\n",
    "from langchain.storage import InMemoryStore\n",
    "from langchain.schema.document import Document\n",
    "\n",
    "from langchain.retrievers.multi_vector import MultiVectorRetriever\n",
    "load_dotenv()"
   ]
  },
  {
   "cell_type": "markdown",
   "metadata": {},
   "source": [
    "## Unstructed api call"
   ]
  },
  {
   "cell_type": "code",
   "execution_count": 2,
   "metadata": {},
   "outputs": [],
   "source": [
    "unstructured_api_key = os.getenv(\"UNSTRUCTURED_API_KEY\")\n",
    "unstructured_api_url = os.getenv(\"UNSTRUCTURED_API_URL\")"
   ]
  },
  {
   "cell_type": "markdown",
   "metadata": {},
   "source": [
    "## Define a cilent"
   ]
  },
  {
   "cell_type": "code",
   "execution_count": 3,
   "metadata": {},
   "outputs": [],
   "source": [
    "client = UnstructuredClient(\n",
    "    api_key_auth=unstructured_api_key,\n",
    "    server_url=unstructured_api_url,\n",
    ")"
   ]
  },
  {
   "cell_type": "markdown",
   "metadata": {},
   "source": [
    "## Load a PDF File "
   ]
  },
  {
   "cell_type": "code",
   "execution_count": 4,
   "metadata": {},
   "outputs": [],
   "source": [
    "pdf_path=\"statement.pdf\"\n",
    "\n",
    "\n",
    "with open(pdf_path, \"rb\") as f:\n",
    "    files = shared.Files(\n",
    "        content=f.read(),\n",
    "        file_name=pdf_path\n",
    "    )"
   ]
  },
  {
   "cell_type": "markdown",
   "metadata": {},
   "source": [
    "## Requests to api for PDF"
   ]
  },
  {
   "cell_type": "code",
   "execution_count": 7,
   "metadata": {},
   "outputs": [
    {
     "name": "stderr",
     "output_type": "stream",
     "text": [
      "INFO: HTTP Request: GET https://api.unstructuredapp.io/general/docs \"HTTP/1.1 200 OK\"\n",
      "INFO: HTTP Request: POST https://api.unstructuredapp.io/general/v0/general \"HTTP/1.1 200 OK\"\n",
      "INFO: HTTP Request: POST https://api.unstructuredapp.io/general/v0/general \"HTTP/1.1 200 OK\"\n",
      "INFO: HTTP Request: POST https://api.unstructuredapp.io/general/v0/general \"HTTP/1.1 200 OK\"\n",
      "INFO: HTTP Request: POST https://api.unstructuredapp.io/general/v0/general \"HTTP/1.1 200 OK\"\n",
      "INFO: HTTP Request: POST https://api.unstructuredapp.io/general/v0/general \"HTTP/1.1 200 OK\"\n"
     ]
    }
   ],
   "source": [
    "req = operations.PartitionRequest(\n",
    "    partition_parameters=shared.PartitionParameters(\n",
    "        files=files,\n",
    "        strategy=\"hi_res\",\n",
    "        hi_res_model_name=\"yolox\",\n",
    "        skip_infer_table_types=[],\n",
    "        pdf_infer_table_structure=True,\n",
    "        coordinates = True,\n",
    "    )\n",
    ")\n",
    "try:\n",
    "    resp = client.general.partition(request=req)\n",
    "    elements = dict_to_elements(resp.elements)\n",
    "except SDKError as e:\n",
    "    print(e)"
   ]
  },
  {
   "cell_type": "markdown",
   "metadata": {},
   "source": [
    "### Print element of the PDF\n",
    "1. Table\n",
    "2. Text\n",
    "3. Footer\n",
    "4. ListItem\n",
    "5. NarrativeText\n",
    "6. UncategorizedText"
   ]
  },
  {
   "cell_type": "code",
   "execution_count": 11,
   "metadata": {},
   "outputs": [],
   "source": [
    "elements_category=set()\n",
    "for el in elements:\n",
    "    elements_category.add(el.category)\n",
    "    "
   ]
  },
  {
   "cell_type": "code",
   "execution_count": 13,
   "metadata": {},
   "outputs": [
    {
     "data": {
      "text/plain": [
       "{'Footer',\n",
       " 'Image',\n",
       " 'ListItem',\n",
       " 'NarrativeText',\n",
       " 'Table',\n",
       " 'Title',\n",
       " 'UncategorizedText'}"
      ]
     },
     "execution_count": 13,
     "metadata": {},
     "output_type": "execute_result"
    }
   ],
   "source": [
    "elements_category"
   ]
  },
  {
   "cell_type": "markdown",
   "metadata": {},
   "source": [
    "## Extract only the table element from the elements of the pdf"
   ]
  },
  {
   "cell_type": "code",
   "execution_count": 16,
   "metadata": {},
   "outputs": [],
   "source": [
    "table_elements = [element for element in elements if element.category == \"Table\"]"
   ]
  },
  {
   "cell_type": "markdown",
   "metadata": {},
   "source": [
    "# Length of the table elements\n",
    "\n",
    "Means no of the table in a pdf"
   ]
  },
  {
   "cell_type": "code",
   "execution_count": 18,
   "metadata": {},
   "outputs": [
    {
     "data": {
      "text/plain": [
       "49"
      ]
     },
     "execution_count": 18,
     "metadata": {},
     "output_type": "execute_result"
    }
   ],
   "source": [
    "len(table_elements)"
   ]
  },
  {
   "cell_type": "markdown",
   "metadata": {},
   "source": [
    "# Generate a title and headers using LLM for the table elements\n",
    "\n",
    "To do this first convert all the table elemets convert ino the HTML Format"
   ]
  },
  {
   "cell_type": "code",
   "execution_count": 151,
   "metadata": {},
   "outputs": [],
   "source": [
    "table_html = [table.metadata.text_as_html for table in table_elements]"
   ]
  },
  {
   "cell_type": "code",
   "execution_count": null,
   "metadata": {},
   "outputs": [],
   "source": [
    "\n"
   ]
  },
  {
   "cell_type": "code",
   "execution_count": 23,
   "metadata": {},
   "outputs": [
    {
     "data": {
      "text/plain": [
       "True"
      ]
     },
     "execution_count": 23,
     "metadata": {},
     "output_type": "execute_result"
    }
   ],
   "source": [
    "len(table_html) == len(table_elements)"
   ]
  },
  {
   "cell_type": "code",
   "execution_count": 41,
   "metadata": {},
   "outputs": [
    {
     "data": {
      "text/plain": [
       "['<table><thead><tr><th>ndex</th><th>Page No.</th></tr></thead><tbody><tr><td>“ondensed Consolidated Balance Sheet</td><td>1</td></tr><tr><td>“ondensed Consolidated Statement of Profit and Loss</td><td></td></tr><tr><td>“ondensed Consolidated Statement of Changes in Equity</td><td>E</td></tr><tr><td>“ondensed Consolidated Statement of Cash Flows</td><td>5</td></tr><tr><td colspan=\"2\">)verview and Notes to the Interim Condensed Consolidated Financial Statements</td></tr><tr><td colspan=\"2\">. Overview</td></tr><tr><td>1.1 Company overview</td><td></td></tr><tr><td>1.2 Basis of preparation of financial statements</td><td>R 7</td></tr><tr><td>1.3 Basis of consolidation</td><td>S</td></tr><tr><td>1.4 Use of estimates and judgments</td><td>7</td></tr><tr><td>1.5 Critical accounting estimates and judgments....</td><td>[ R 8</td></tr><tr><td colspan=\"2\">. Notes to the Interim Condensed Consolidated Financial Statements</td></tr><tr><td>2.1 Business Combinations</td><td>10</td></tr><tr><td>2.2 Property, plant and equipment</td><td>12</td></tr><tr><td>2.3 Goodwill and other intangible assets</td><td>14</td></tr><tr><td>2.4 Investments</td><td>15</td></tr><tr><td>2.5 Loans</td><td>16</td></tr><tr><td>2.6 Other financial assets</td><td>16</td></tr><tr><td>2.7 Trade receivables</td><td>16</td></tr><tr><td>2.8 Cash and cash equivalents ..</td><td>17</td></tr><tr><td></td><td></td></tr><tr><td>2.9 Other assets</td><td>17</td></tr><tr><td>2.10 Financial instruments</td><td>18</td></tr><tr><td>2.11 Equity</td><td>22</td></tr><tr><td>2.12 Other financial liabilities</td><td>25</td></tr><tr><td>2.13 Other liabilities</td><td>25</td></tr><tr><td>2.14 Provisions</td><td>26</td></tr><tr><td>2.15 Income taxes</td><td>27</td></tr><tr><td>2.16 Revenue from operations</td><td>28</td></tr><tr><td>2.17 Other income, net</td><td>30</td></tr><tr><td>2.18 Expenses</td><td>31</td></tr><tr><td>2.19 Leases</td><td>32</td></tr><tr><td>2.20 Basic and diluted shares used in computing earnings per equity share</td><td>34</td></tr><tr><td>2.21 Contingent liabilities and commitments</td><td>34</td></tr><tr><td>2.22 Related party transactions</td><td>36</td></tr><tr><td>2.23 Segment reporting</td><td>37</td></tr><tr><td>2.24 Function wise classification of Condensed Consolidated Statement of Profit and Loss</td><td>39</td></tr></tbody></table>',\n",
       " '<table><thead><tr><th>Condensed Consolidated Balance Sheets as at</th><th>Note No.</th><th>March 31, 2024</th><th>(4~ crore March 31, 2023</th></tr></thead><tbody><tr><td colspan=\"4\">ASSETS</td></tr><tr><td colspan=\"4\">Non-current assets</td></tr><tr><td>Property, plant and equipment</td><td>22</td><td>12,370</td><td>13,346</td></tr><tr><td>Right-of-use assets</td><td>2.19</td><td>6,552</td><td>6,882</td></tr><tr><td>Capital work-in-progress</td><td></td><td>293</td><td>288</td></tr><tr><td>Goodwi</td><td>2.3</td><td>7,303</td><td>7,248</td></tr><tr><td>Other intangible assets</td><td></td><td>1,397</td><td>1,749</td></tr><tr><td colspan=\"4\">Financial assets</td></tr><tr><td>Investments</td><td>2.4</td><td>11,708</td><td>12,569</td></tr><tr><td>Loans</td><td>2.5</td><td>34</td><td>39</td></tr><tr><td>Other financial assets</td><td>2.6</td><td>3,105</td><td>2,798</td></tr><tr><td>Deferred tax assets (net)</td><td></td><td>454</td><td>1,245</td></tr><tr><td>ncome tax assets (net)</td><td></td><td>3,045</td><td>6,453</td></tr><tr><td>Other non-current assets</td><td>2.9</td><td>2,121</td><td>2,318</td></tr><tr><td>Total non-current assets</td><td></td><td>48,382</td><td>54,935</td></tr><tr><td colspan=\"4\">Current assets</td></tr><tr><td colspan=\"4\">Financial assets</td></tr><tr><td>Investments</td><td>2.4</td><td>12,915</td><td>6,909</td></tr><tr><td>Trade receivables</td><td>2.7</td><td>30,193</td><td>25,424</td></tr><tr><td>Cash and cash equivalents</td><td>2.8</td><td>14,786</td><td>12,173</td></tr><tr><td>Loans</td><td>2.5</td><td>248</td><td>289</td></tr><tr><td>Other financial assets</td><td>2.6</td><td>12,085</td><td>11,604</td></tr><tr><td>Income tax assets (net)</td><td></td><td>6,397</td><td>6</td></tr><tr><td>Other current assets</td><td>2.9</td><td>12,808</td><td>14,476</td></tr><tr><td>Total current assets</td><td></td><td>89,432</td><td>70,881</td></tr><tr><td>Total assets</td><td></td><td>137,814</td><td>125,816</td></tr><tr><td colspan=\"4\" rowspan=\"2\">EQUITY AND LIABILITIES Equity</td></tr><tr><td>Equity share capital</td><td>2.11</td><td>2,071</td><td>2,069</td></tr><tr><td>Other equity</td><td></td><td>86,045</td><td>73,338</td></tr><tr><td>Total equity attributable to equity holders of the C ompany</td><td></td><td>88,116</td><td>75,407</td></tr><tr><td>Non-controlling interests</td><td></td><td>345</td><td>388</td></tr><tr><td>Total equity</td><td></td><td>88,461</td><td>75,795</td></tr><tr><td colspan=\"4\">Liabilities\\n Non-current liabilities</td></tr><tr><td>Financial Liabilities</td><td></td><td></td><td></td></tr><tr><td>Lease liabilities</td><td>2.19</td><td>6,400</td><td>7,057</td></tr><tr><td>Other financial liabilities</td><td>2.12</td><td>2,130</td><td>2,058</td></tr><tr><td>Deferred tax liabilities (net)</td><td></td><td>1,794</td><td>1,220</td></tr><tr><td>Other non-current liabilities</td><td>2.13</td><td>235</td><td>500</td></tr><tr><td>Total non-current liabilities</td><td></td><td>10,559</td><td>10,835</td></tr><tr><td colspan=\"4\">Current liabilities</td></tr><tr><td>Financial Liabilities</td><td></td><td></td><td></td></tr><tr><td>Lease liabilities</td><td>2.19</td><td>1,959</td><td>1,242</td></tr><tr><td>Trade payables</td><td></td><td>3,956</td><td>3,865</td></tr><tr><td>Other financial liabilities</td><td>2.12</td><td>16,959</td><td>18,558</td></tr><tr><td>Other current liabilities</td><td>2.13</td><td>10,539</td><td>10,830</td></tr><tr><td>Provisions</td><td>2.14</td><td>1,796</td><td>1,307</td></tr><tr><td>Income tax liabilities (net)</td><td></td><td>3,585</td><td>3,384</td></tr><tr><td>Total current liabilities</td><td></td><td>38,794</td><td>39,186</td></tr><tr><td>Total equity and liabilities</td><td></td><td>137,814</td><td>125,816</td></tr></tbody></table>']"
      ]
     },
     "execution_count": 41,
     "metadata": {},
     "output_type": "execute_result"
    }
   ],
   "source": [
    "first_table = table_html[:2]\n",
    "first_table"
   ]
  },
  {
   "cell_type": "code",
   "execution_count": 46,
   "metadata": {},
   "outputs": [],
   "source": [
    "# summary =  ChatPromptTemplate.from_template(\n",
    "#     \"\"\"\n",
    "#     generate summary for the following tables given : \\n {doc} \n",
    "#     \"\"\"\n",
    "# )\n",
    "\n",
    "# title = ChatPromptTemplate.from_template(\n",
    "#     \"\"\"\n",
    "#     provide a title of the given {summary}\n",
    "    \n",
    "#     \"\"\"\n",
    "# )\n",
    "\n",
    "\n",
    "\n",
    "prompt = ChatPromptTemplate.from_template(\n",
    "    \"\"\"\n",
    "    1. Generate a summary for the following tables given: \\n {doc}\n",
    "    2. Provide a title for the from the summary\n",
    "    \"\"\"\n",
    ")\n"
   ]
  },
  {
   "cell_type": "code",
   "execution_count": 47,
   "metadata": {},
   "outputs": [],
   "source": [
    "model=\"llama3:latest\"\n",
    "llm = ChatOllama(model = model)"
   ]
  },
  {
   "cell_type": "code",
   "execution_count": 48,
   "metadata": {},
   "outputs": [],
   "source": [
    "summary_chain = (\n",
    "    {\"doc\": lambda x: x}\n",
    "    |prompt\n",
    "    |llm\n",
    "    |StrOutputParser()  \n",
    ")\n"
   ]
  },
  {
   "cell_type": "code",
   "execution_count": 50,
   "metadata": {},
   "outputs": [
    {
     "data": {
      "text/plain": [
       "{\n",
       "  doc: RunnableLambda(lambda x: x)\n",
       "}\n",
       "| ChatPromptTemplate(input_variables=['doc'], input_types={}, partial_variables={}, messages=[HumanMessagePromptTemplate(prompt=PromptTemplate(input_variables=['doc'], input_types={}, partial_variables={}, template='\\n    1. Generate a summary for the following tables given: \\n {doc}\\n    2. Provide a title for the from the summary\\n    '), additional_kwargs={})])\n",
       "| ChatOllama(model='llama3:latest')\n",
       "| StrOutputParser()"
      ]
     },
     "execution_count": 50,
     "metadata": {},
     "output_type": "execute_result"
    }
   ],
   "source": [
    "summary_chain"
   ]
  },
  {
   "cell_type": "code",
   "execution_count": 65,
   "metadata": {},
   "outputs": [
    {
     "name": "stderr",
     "output_type": "stream",
     "text": [
      "INFO: HTTP Request: POST http://127.0.0.1:11434/api/chat \"HTTP/1.1 200 OK\"\n",
      "INFO: HTTP Request: POST http://127.0.0.1:11434/api/chat \"HTTP/1.1 200 OK\"\n",
      "INFO: HTTP Request: POST http://127.0.0.1:11434/api/chat \"HTTP/1.1 200 OK\"\n",
      "INFO: HTTP Request: POST http://127.0.0.1:11434/api/chat \"HTTP/1.1 200 OK\"\n",
      "INFO: HTTP Request: POST http://127.0.0.1:11434/api/chat \"HTTP/1.1 200 OK\"\n",
      "INFO: HTTP Request: POST http://127.0.0.1:11434/api/chat \"HTTP/1.1 200 OK\"\n",
      "INFO: HTTP Request: POST http://127.0.0.1:11434/api/chat \"HTTP/1.1 200 OK\"\n",
      "INFO: HTTP Request: POST http://127.0.0.1:11434/api/chat \"HTTP/1.1 200 OK\"\n",
      "INFO: HTTP Request: POST http://127.0.0.1:11434/api/chat \"HTTP/1.1 200 OK\"\n",
      "INFO: HTTP Request: POST http://127.0.0.1:11434/api/chat \"HTTP/1.1 200 OK\"\n",
      "INFO: HTTP Request: POST http://127.0.0.1:11434/api/chat \"HTTP/1.1 200 OK\"\n",
      "INFO: HTTP Request: POST http://127.0.0.1:11434/api/chat \"HTTP/1.1 200 OK\"\n",
      "INFO: HTTP Request: POST http://127.0.0.1:11434/api/chat \"HTTP/1.1 200 OK\"\n",
      "INFO: HTTP Request: POST http://127.0.0.1:11434/api/chat \"HTTP/1.1 200 OK\"\n",
      "INFO: HTTP Request: POST http://127.0.0.1:11434/api/chat \"HTTP/1.1 200 OK\"\n",
      "INFO: HTTP Request: POST http://127.0.0.1:11434/api/chat \"HTTP/1.1 200 OK\"\n",
      "INFO: HTTP Request: POST http://127.0.0.1:11434/api/chat \"HTTP/1.1 200 OK\"\n",
      "INFO: HTTP Request: POST http://127.0.0.1:11434/api/chat \"HTTP/1.1 200 OK\"\n",
      "INFO: HTTP Request: POST http://127.0.0.1:11434/api/chat \"HTTP/1.1 200 OK\"\n",
      "INFO: HTTP Request: POST http://127.0.0.1:11434/api/chat \"HTTP/1.1 200 OK\"\n",
      "INFO: HTTP Request: POST http://127.0.0.1:11434/api/chat \"HTTP/1.1 200 OK\"\n",
      "INFO: HTTP Request: POST http://127.0.0.1:11434/api/chat \"HTTP/1.1 200 OK\"\n",
      "INFO: HTTP Request: POST http://127.0.0.1:11434/api/chat \"HTTP/1.1 200 OK\"\n",
      "INFO: HTTP Request: POST http://127.0.0.1:11434/api/chat \"HTTP/1.1 200 OK\"\n",
      "INFO: HTTP Request: POST http://127.0.0.1:11434/api/chat \"HTTP/1.1 200 OK\"\n",
      "INFO: HTTP Request: POST http://127.0.0.1:11434/api/chat \"HTTP/1.1 200 OK\"\n",
      "INFO: HTTP Request: POST http://127.0.0.1:11434/api/chat \"HTTP/1.1 200 OK\"\n",
      "INFO: HTTP Request: POST http://127.0.0.1:11434/api/chat \"HTTP/1.1 200 OK\"\n",
      "INFO: HTTP Request: POST http://127.0.0.1:11434/api/chat \"HTTP/1.1 200 OK\"\n",
      "INFO: HTTP Request: POST http://127.0.0.1:11434/api/chat \"HTTP/1.1 200 OK\"\n",
      "INFO: HTTP Request: POST http://127.0.0.1:11434/api/chat \"HTTP/1.1 200 OK\"\n",
      "INFO: HTTP Request: POST http://127.0.0.1:11434/api/chat \"HTTP/1.1 200 OK\"\n",
      "INFO: HTTP Request: POST http://127.0.0.1:11434/api/chat \"HTTP/1.1 200 OK\"\n",
      "INFO: HTTP Request: POST http://127.0.0.1:11434/api/chat \"HTTP/1.1 200 OK\"\n",
      "INFO: HTTP Request: POST http://127.0.0.1:11434/api/chat \"HTTP/1.1 200 OK\"\n",
      "INFO: HTTP Request: POST http://127.0.0.1:11434/api/chat \"HTTP/1.1 200 OK\"\n",
      "INFO: HTTP Request: POST http://127.0.0.1:11434/api/chat \"HTTP/1.1 200 OK\"\n",
      "INFO: HTTP Request: POST http://127.0.0.1:11434/api/chat \"HTTP/1.1 200 OK\"\n",
      "INFO: HTTP Request: POST http://127.0.0.1:11434/api/chat \"HTTP/1.1 200 OK\"\n",
      "INFO: HTTP Request: POST http://127.0.0.1:11434/api/chat \"HTTP/1.1 200 OK\"\n",
      "INFO: HTTP Request: POST http://127.0.0.1:11434/api/chat \"HTTP/1.1 200 OK\"\n",
      "INFO: HTTP Request: POST http://127.0.0.1:11434/api/chat \"HTTP/1.1 200 OK\"\n",
      "INFO: HTTP Request: POST http://127.0.0.1:11434/api/chat \"HTTP/1.1 200 OK\"\n",
      "INFO: HTTP Request: POST http://127.0.0.1:11434/api/chat \"HTTP/1.1 200 OK\"\n",
      "INFO: HTTP Request: POST http://127.0.0.1:11434/api/chat \"HTTP/1.1 200 OK\"\n",
      "INFO: HTTP Request: POST http://127.0.0.1:11434/api/chat \"HTTP/1.1 200 OK\"\n",
      "INFO: HTTP Request: POST http://127.0.0.1:11434/api/chat \"HTTP/1.1 200 OK\"\n",
      "INFO: HTTP Request: POST http://127.0.0.1:11434/api/chat \"HTTP/1.1 200 OK\"\n",
      "INFO: HTTP Request: POST http://127.0.0.1:11434/api/chat \"HTTP/1.1 200 OK\"\n"
     ]
    }
   ],
   "source": [
    "response = summary_chain.batch(table_html,{\"max_concurrency\":2})\n",
    "\n"
   ]
  },
  {
   "cell_type": "code",
   "execution_count": 66,
   "metadata": {},
   "outputs": [
    {
     "data": {
      "text/plain": [
       "['**Summary:**\\n\\nThe table provides an overview of the company\\'s financial statements, including its condensed consolidated balance sheet, statement of profit and loss, changes in equity, and cash flows. The \"Overview\" section covers the basis of preparation of financial statements, consolidation, use of estimates and judgments, and critical accounting estimates and judgments.\\n\\nThe \"Notes to the Interim Condensed Consolidated Financial Statements\" section provides additional information on various topics, including:\\n\\n* Business combinations\\n* Property, plant, and equipment\\n* Goodwill and other intangible assets\\n* Investments\\n* Loans\\n* Other financial assets and liabilities\\n* Trade receivables and cash and cash equivalents\\n* Other assets and equity\\n* Financial instruments\\n* Provisions, income taxes, revenue from operations, and expenses\\n\\nThe notes also cover leases, contingent liabilities and commitments, related party transactions, segment reporting, and function-wise classification of the statement of profit and loss.\\n\\n**Title:** Interim Condensed Consolidated Financial Statements Overview and Notes',\n",
       " \"**Summary Title:** Consolidated Balance Sheets as at March 31, 2024 and March 31, 2023\\n\\n**Summary:**\\n\\nThe consolidated balance sheets of [Company Name] show a significant increase in total assets from ₹125.82 crore (March 31, 2023) to ₹137.81 crore (March 31, 2024). The main contributors to this growth are:\\n\\n* Non-current assets, which increased by ₹7.89 crore (15.9%) to ₹48.38 billion\\n* Current assets, which rose by ₹18.55 crore (26.2%) to ₹89.43 billion\\n\\nThe company's equity attributable to equity holders of the Company grew from ₹75.41 crore to ₹88.12 crore, an increase of ₹12.71 crore (16.8%). Non-controlling interests also increased from ₹0.39 crore to ₹0.35 crore.\\n\\nLiabilities also increased, with non-current liabilities rising by ₹1.24 crore (11.4%) to ₹10.56 billion and current liabilities increasing by ₹0.94 crore (2.4%) to ₹38.79 billion.\\n\\nOverall, the company's financial position has strengthened over the past year, with a significant increase in total assets and equity.\",\n",
       " '**Summary**\\n\\nThe table appears to be presenting the financial statements of a company, specifically the Statement of Comprehensive Income and the Earnings per Equity Share. Here\\'s a breakdown of the main items:\\n\\n* **Total other comprehensive income/(loss), net of tax**: This item shows a decrease in comprehensive income for both 2022 and 2021, with significant amounts in 2020.\\n* **Profit attributable to: Owners of the Company** and **Non-controlling interests**: These items represent the profit distributed to shareholders (Owners) and minority interest holders (Non-controlling interests), respectively. The company reported higher profits in 2020 compared to the other two years.\\n* **Earnings per equity share**: This section presents the basic and diluted earnings per share, along with the weighted average number of shares used in computing these metrics.\\n\\n**Title**\\n\\n\"Consolidated Statement of Comprehensive Income and Earnings per Equity Share\"\\n\\nNote that this title is a suggested interpretation based on the table\\'s contents. If there are any specific instructions or context regarding the title, please provide those details for me to refine my response.',\n",
       " 'Based on the table, I\\'ll provide a summary and a title.\\n\\n**Summary:**\\n\\nThe table presents a breakdown of the company\\'s reserve movements as at March 31, 2023. The main items include:\\n\\n* Amounts transferred to capital redemption reserve upon buyback: ₹30\\n* Transfers to Special Economic Zone Re-investment reserve: ₹3,139 (outflow) and ₹1,464 (inflow)\\n* Transfer to legal reserve: ₹3\\n* Transferred on account of exercise of stock options: ₹291\\n* Income tax benefit arising from exercise of stock options: ₹51\\n* Dividends: outflow of ₹13,632\\n* Dividends paid to non-controlling interest of subsidiary: outflow of ₹22\\n* Transfers from Special Economic Zone Re-investment reserve on utilization: inflow of ₹1,464\\n\\nThe balance as at March 31, 2023, is summarized below:\\n\\n**Title:** \"Reserve Movements as at March 31, 2023\"',\n",
       " \"**Summary**\\n\\nThe tables present the cash flow statements of a company for two consecutive years (2023 and 2024). The main components of the statement are:\\n\\n**Cash Flow from Operating Activities:**\\n- Profit for the period increased by ₹2,140 crore to ₹26,248 crore.\\n- Adjustments to reconcile net profit to net cash provided by operating activities include changes in income tax, depreciation, amortization, finance cost, loss under credit loss model, impairment recognized, and other adjustments.\\n- Cash generated from operations was ₹34,441 crore in 2024, a significant increase from ₹31,261 crore in 2023.\\n\\n**Cash Flow from Investing Activities:**\\n- The company invested in property, plant, and equipment, intangibles, and deposits placed with the corporation.\\n- It also acquired investments, mutual funds, and government securities, resulting in a net outflow of ₹5,009 crore in 2024.\\n\\nThe company's cash flow position is influenced by its operating activities, which generate significant cash, while investing activities result in a net outflow.\",\n",
       " \"**Summary Title:** Cash Flow Statement Summary (Financing Activities)\\n\\nHere's a summary of the tables:\\n\\nThe company's financing activities for the period resulted in a net cash outflow of $17,504 and $26,695, respectively. The main components driving this outflow were:\\n\\n* Payment of lease liabilities: $2,024 and $1,231\\n* Payment of dividends: $(14,692) and $(13,631)\\n* Payment towards buyback of shares pertaining to non-controlling interest of subsidiary: $(18) and $0\\n* Buyback of equity shares including transaction cost and tax on buyback: $(11,499) and $(nil)\\n\\nThese outflows were partially offset by:\\n\\n* Shares issued on exercise of employee stock options: $35 and $nil\\n* Other receipts: $132 and $nil\\n\\nThe net cash outflow from financing activities was financed through the company's existing cash and cash equivalents. The restricted cash balance increased to $348 at the end of the period, up from $362 at the beginning of the period.\\n\\n**Cash and Cash Equivalents:** The opening cash and cash equivalents balance was $12,173 and $17,472, respectively. After the net cash outflow from financing activities, the closing cash and cash equivalents balance was $14,786 and $12,173, respectively.\",\n",
       " '**Summary Title:** \"Purchase Price Allocation for Acquiree\\'s Net Assets and Intangible Assets\"\\n\\n**Summary:**\\n\\nThe table summarizes the purchase price allocation for the acquiree\\'s net assets and intangible assets. The key findings are:\\n\\n* The total purchase price is ₹981 crore, with a significant portion allocated to goodwill (₹630 crore).\\n* The intangible assets have a fair value of ₹248 crore, comprising:\\n\\t+ Customer contracts and relationships: ₹274 crore\\n\\t+ Vendor relationships: ₹30 crore\\n\\t+ Brand: ₹24 crore\\n\\t+ Deferred tax liabilities on intangible assets: (₹80) crore (i.e., a negative amount, indicating a liability)\\n* The total carrying amount of the acquiree\\'s net assets is ₹103 crore.\\n* The fair value adjustments result in a purchase price allocation of ₹351 crore for the intangible assets and net assets.',\n",
       " 'Based on the table, here is a summary:\\n\\n**Asset Lifespan Summary**\\n\\nThe majority of assets have a lifespan ranging from 3-5 years, with some exceptions. The buildings are expected to last around 22-25 years, while leasehold improvements have an uncertain lifespan tied to their usefulness.\\n\\nAs for the title, I suggest:\\n\\n**\"Estimated Asset Lifespans for Accounting and Financial Planning Purposes\"**\\n\\nLet me know if you\\'d like me to make any changes!',\n",
       " '**Summary Title:** \"Assets and Depreciation Summary as at January 1, 2024 and March 31, 2024\"\\n\\n**Summary:**\\n\\nThe table shows the gross carrying value and accumulated depreciation of various assets (Land - Freehold, Buildings, Plant and machinery, Office Equipment, Computer equipment, Furniture and fixtures, Vehicles) as at January 1, 2024 and March 31, 2024. The additions, deletions, and translation differences for each asset category are also provided.\\n\\n**Key Points:**\\n\\n* Gross carrying value of assets increased from ₹30,051 (as at January 1, 2024) to ₹30,587 (as at March 31, 2024).\\n* Accumulated depreciation increased from ₹17,898 (as at January 1, 2024) to ₹18,217 (as at March 31, 2024).\\n* The carrying value of assets (gross carrying value minus accumulated depreciation) increased from ₹12,153 (as at January 1, 2024) to ₹12,370 (as at March 31, 2024).',\n",
       " '**Summary Title:** \"Asset Depreciation and Carrying Value as at January 1, 2023 and March 31, 2023\"\\n\\n**Summary:**\\n\\nThe table provides a breakdown of the gross carrying value and accumulated depreciation of different types of assets (land-freehold, buildings, plant and machinery, office equipment, computer equipment, furniture and fixtures, vehicles) as at January 1, 2023 and March 31, 2023.\\n\\nKey points:\\n\\n* The gross carrying value of all assets increased from ₹30.54 crore as at January 1, 2023 to ₹30.09 crore as at March 31, 2023.\\n* Accumulated depreciation also increased during the same period, from ₹17.47 crore to ₹16.74 crore.\\n* Depreciation expenses for the period were ₹670 lakh.\\n* The carrying value of assets as at January 1, 2023 was ₹13.07 crore, which increased to ₹13.35 crore as at March 31, 2023.',\n",
       " '**Summary Title:** Changes in Gross Carrying Value and Accumulated Depreciation of Assets as at April 1, 2023 to March 31, 2024\\n\\n**Summary:**\\n\\nThe table provides information on the changes in gross carrying value and accumulated depreciation of various assets from April 1, 2023 to March 31, 2024.\\n\\n**Key Points:**\\n\\n* Gross carrying value increased by ₹1,761 (from ₹30,089 to ₹30,587) due to additions and minor translation differences.\\n* Accumulated depreciation increased by ₹1,474 (from ₹16,743 to ₹18,217) primarily due to depreciation charges of ₹2,685.\\n* The carrying value of assets decreased by ₹976 (from ₹13,346 to ₹12,370) due to the increase in accumulated depreciation.\\n\\nNote: ₹ represents Indian Rupees.',\n",
       " '**Summary Title:** \"Property, Plant and Equipment (Gross Carrying Value and Accumulated Depreciation) as at April 1, 2022 and March 31, 2023\"\\n\\n**Summary:**\\n\\nThe table provides information on the gross carrying value and accumulated depreciation of property, plant, and equipment as at April 1, 2022, and March 31, 2023. The main points are:\\n\\n* Gross carrying value:\\n\\t+ As at April 1, 2022: ₹29,375 crore\\n\\t+ Additions: ₹14 crore (Business Combination) and ₹2,830 crore (other additions)\\n\\t+ Deletions: ₹2,197 crore\\n\\t+ Translation difference: ₹67 crore\\n\\t+ As at March 31, 2023: ₹30,089 crore\\n* Accumulated depreciation:\\n\\t+ As at April 1, 2022: ₹16,300 crore\\n\\t+ Depreciation: ₹2,577 crore\\n\\t+ Accumulated depreciation on deletions: ₹2,182 crore\\n\\t+ Translation difference: ₹48 crore\\n\\t+ As at March 31, 2023: ₹16,743 crore\\n* Carrying value:\\n\\t+ As at April 1, 2022: ₹13,075 crore\\n\\t+ As at March 31, 2023: ₹13,346 crore',\n",
       " 'Based on the table, I generated a summary as follows:\\n\\n**Summary:** The carrying value of intangible assets increased by $108 (from $6,195 to $7,303) between March 31, 2023 and March 31, 2024. This increase was primarily driven by the translation differences, which added $55 to the carrying value. Goodwill on acquisitions also contributed to the increase in the previous year.\\n\\n**Title:** \"Changes in Carrying Value of Intangible Assets\"',\n",
       " '**Summary:**\\n\\nThe table provides a breakdown of the company\\'s non-current and current investments as of March 31, 2024, and March 31, 2023.\\n\\n**Non-Current Investments:**\\n\\n* The total value of non-current investments increased from ₹12,569 million in 2023 to ₹11,708 million in 2024.\\n* Quoted investments (carried at amortized cost) decreased by ₹37 million, while unquoted investments increased by ₹5,650 million.\\n* Fair value through other comprehensive income (FVOCI) investments increased by ₹1,141 million, with a significant increase in government securities.\\n\\n**Current Investments:**\\n\\n* The total value of current investments increased from ₹6,909 million in 2023 to ₹12,915 million in 2024.\\n* Unquoted investments (carried at FVOCI) increased by ₹7,296 million, driven primarily by commercial papers and certificates of deposit.\\n* Fair value through profit or loss (FVPL) investments increased by ₹2,369 million.\\n\\n**Title:** \"Investment Portfolio as of March 31, 2024 and 2023\"',\n",
       " '**Summary**\\n\\nThe table presents the fair value of various investment classes as at March 31, 2024 and March 31, 2023. The investments are classified into six categories: Liquid mutual fund units, Target maturity fund units, Tax-free bonds and government bonds, Non-convertible debentures, Government securities, and Others.\\n\\n**Key Points:**\\n\\n* Total fair value of investments increased from ₹19,706 crore in 2023 to ₹24,837 crore in 2024.\\n* Liquid mutual fund units and Target maturity fund units saw significant increases in fair value, from ₹975 crore to ₹2,615 crore and from ₹402 crore to ₹431 crore, respectively.\\n* Non-convertible debentures and Government securities had the highest fair values at ₹4,179 crore and ₹7,362 crore, respectively.\\n\\n**Title:** Fair Value of Investments as at March 31, 2024 and March 31, 2023',\n",
       " '**Summary Title:** \"Loans Outstanding as at March 31, 2024 and 2023\"\\n\\n**Summary:**\\n\\nAs of March 31, 2024, the company had total loans outstanding of $282 million, which is a decrease of $46 million compared to the same period in 2023 when total loans stood at $328 million.\\n\\nThe breakdown of non-current loans shows that Loans considered good - Unsecured and Other loans (including Loans to employees) decreased by $5 million from $39 million in 2023 to $34 million in 2024. The Loans credit impaired - Unsecured also decreased by $1 million from $2 million in 2023 to $1 million in 2024.\\n\\nFor current loans, the company had total loans outstanding of $248 million as at March 31, 2024, which is a decrease of $41 million compared to the same period in 2023 when total current loans stood at $289 million. The Loans considered good - Unsecured and Other loans (including Loans to employees) also decreased by $41 million from $289 million in 2023 to $248 million in 2024.',\n",
       " '**Summary**\\n\\nThe table presents the financial assets of an entity as at March 31, 2024 and March 31, 2023, categorized into non-current and current assets.\\n\\n**Key Findings:**\\n\\n1. Non-Current Financial Assets:\\n\\t* Total non-current other financial assets increased from $2,798 in 2023 to $3,105 in 2024.\\n\\t* The main components of non-current financial assets are security deposits ($259 in 2024), unbilled revenues ($1,677 in 2024), and others ($1,119 in 2024).\\n2. Current Financial Assets:\\n\\t* Total current other financial assets increased from $11,604 in 2023 to $12,085 in 2024.\\n\\t* The main components of current financial assets are unbilled revenues ($7,923 in 2024), restricted deposits ($2,535 in 2024), and others ($925 in 2024).\\n\\n**Title:** Financial Assets as at March 31, 2024 and March 31, 2023',\n",
       " 'Based on the table, here is a summary:\\n\\n**Summary:** The total trade receivables as of March 31, 2024 are ₹30,193 crore, which represents an increase of ₹4,769 crore compared to March 31, 2023 when it was ₹25,424 crore. The amount considered good and unsecured has increased by ₹4,669 crore from ₹25,965 crore in 2023 to ₹30,193 crore in 2024.\\n\\n**Title:** \"Trade Receivables as of March 31, 2024 and 2023\"',\n",
       " '**Summary Title:** Cash and Cash Equivalents Summary as of March 31, 2024\\n\\n**Summary:**\\n\\nThe table below shows the cash and cash equivalents balance as of March 31, 2024.\\n\\n* Balances with banks in current and deposit accounts have increased to ₹14,786 crore from ₹10,026 crore as of March 31, 2023.\\n* Deposits with financial institutions have decreased to zero from ₹2,147 crore as of March 31, 2023.\\n* Total cash and cash equivalents have increased to ₹14,786 crore from ₹12,173 crore as of March 31, 2023.\\n* Balances with banks in unpaid dividend accounts remained unchanged at ₹37 crore.\\n* Deposits with more than 12 months maturity decreased to ₹57 crore from ₹833 crore as of March 31, 2023.',\n",
       " '**Summary:**\\n\\nThe table shows the Non-Current and Current Other Assets of a company as of March 31, 2024, and March 31, 2023.\\n\\n**Non-Current Other Assets:**\\n\\n* The value decreased from ₹2,318 crore to ₹2,121 crore, a decrease of ₹197 crore or 6.8%.\\n* The main components are:\\n\\t+ Capital advances: ₹155 crore (down from ₹159 crore)\\n\\t+ Advances other than capital advances: Not disclosed\\n\\t+ Others: ₹673 crore (down from ₹684 crore), including withholding taxes and others, unbilled revenues, defined benefit plan assets, and prepaid expenses.\\n* The Deferred Contract Cost decreased by ₹62 crore, from ₹652 crore to ₹687 crore.\\n\\n**Current Other Assets:**\\n\\n* The value decreased from ₹14,476 crore to ₹12,808 crore, a decrease of ₹668 crore or 4.6%.\\n* The main components are:\\n\\t+ Advances other than capital advances: ₹356 crore (up from ₹202 crore)\\n\\t+ Others: ₹4,845 crore (down from ₹6,972 crore), including unbilled revenues, withholding taxes and others, prepaid expenses, and Deferred Contract Cost.\\n* The Deferred Contract Cost decreased by ₹653 crore, from ₹853 crore to ₹200 crore.\\n\\n**Total Other Assets:**\\n\\n* The value decreased from ₹16,794 crore to ₹14,929 crore, a decrease of ₹1,865 crore or 11.1%.',\n",
       " '**Summary Title:** Financial Position of [Company Name] as of [Date]\\n\\n**Summary:**\\n\\nThe financial position of [Company Name] as of [Date] is presented below:\\n\\n**Assets:**\\n\\n* Cash and cash equivalents: ₹14,786 (amortized cost)\\n* Investments: ₹3,305 (fair value through profit or loss) + ₹206 (fair value through OCI) = ₹3,511\\n* Non-current assets:\\n\\t+ Tax-free bonds and government bonds: ₹1,759 (amortized cost)\\n\\t+ Liquid mutual fund units: ₹2,615 (fair value)\\n\\t+ Target maturity fund units: ₹431 (fair value)\\n\\t+ Non-convertible debentures: ₹4,179 (amortized cost)\\n\\t+ Government securities: ₹7,362 (amortized cost)\\n\\t+ Commercial papers: ₹4,830 (amortized cost)\\n\\t+ Certificates of deposit: ₹3,043 (amortized cost)\\n\\t+ Other investments: ₹198 (fair value) = ₹85,074 (total carrying value)\\n\\n**Liabilities:**\\n\\n* Trade payables: ₹3,956\\n* Lease liabilities: ₹8,359\\n* Financial liability under option arrangements: ₹597 (fair value)\\n* Other financial liabilities: ₹15,781 (amortized cost) = ₹28,693 (total carrying value)\\n\\nThe total carrying value of assets is ₹85,074 and the total carrying value of liabilities is ₹28,693. The net asset position of [Company Name] as of [Date] is therefore ₹56,381.',\n",
       " '**Summary Title:** Financial Assets and Liabilities of [Company Name] as of [Date]\\n\\n**Summary:**\\n\\nThe financial assets and liabilities of [Company Name] as of [Date] are presented in the following summary:\\n\\n**Assets:**\\n\\n* Cash and cash equivalents: ₹12,173 crore\\n* Investments: ₹3,920 crore (including equity and preference securities, tax-free bonds, government bonds, liquid mutual fund units, target maturity fund units, non-convertible debentures, government securities, commercial papers, certificates of deposit, and other investments)\\n\\t+ Equity instruments designated upon initial recognition: ₹196 crore\\n* Trade receivables: ₹25,424 crore\\n* Loans: ₹328 crore\\n* Other financial assets: ₹14,402 crore\\n\\nTotal Assets: ₹71,949 crore\\n\\n**Liabilities:**\\n\\n* Trade payables: ₹3,865 crore\\n* Lease liabilities: ₹8,299 crore\\n* Financial liability under option arrangements: ₹600 crore\\n* Other financial liabilities: ₹17,534 crore\\n\\nTotal Liabilities: ₹30,298 crore',\n",
       " \"**Summary:**\\n\\nThe table provides a breakdown of the Company's investments and derivative financial instruments as at March 31, 2024, classified according to the fair value measurement hierarchy (Level 1, Level 2, and Level 3).\\n\\n**Key Points:**\\n\\n* The majority of investments are in liquid mutual funds, target maturity fund units, tax-free bonds, government bonds, non-convertible debentures, and commercial papers, all of which were valued at Level 1 or Level 2 (fair value measurement using observable market prices).\\n* A smaller portion of investments is in government securities, equity securities, preference securities, and certificates of deposit, with some of these being valued at Level 3 (fair value measurement using valuation models or unobservable inputs).\\n* The Company also holds derivative financial instruments, including a gain on outstanding foreign exchange forward and option contracts, and a loss on outstanding foreign exchange forward and option contracts.\\n* Financial liabilities under option arrangements are also recorded.\\n\\n**Title:** Fair Value Measurement of Investments and Derivative Financial Instruments as at March 31, 2024.\",\n",
       " '**Summary: Fair Value Measurement of Assets and Liabilities as at March 31, 2023**\\n\\nThe table provides a breakdown of the fair value measurement of assets and liabilities as at March 31, 2023, using Level 1, Level 2, and Level 3 inputs. The summary is as follows:\\n\\n**Assets:**\\n\\n* Investments in liquid mutual funds (Level 1) - ₹975 million\\n* Investments in tax-free bonds (Level 2) - ₹1,331 million; investments in non-convertible debentures (Level 3) - ₹789 million; investment in government securities (Level 3) - ₹83 million\\n* Other investments (Level 3) - ₹169 million\\n* Equity securities and preference securities are not valued at fair value\\n\\n**Liabilities:**\\n\\n* Derivative financial instruments - loss on outstanding foreign exchange forward and option contracts (Level 3) - ₹78 million\\n* Financial liability under option arrangements (Level 3) - ₹600 million; liability towards contingent consideration (Level 3) - ₹97 million',\n",
       " '**Summary:**\\n\\nThe table provides information on the authorized and issued equity shares of a company as at March 31, 2024, and March 31, 2023.\\n\\n**Authorized Shares:** The company has authorized 480,000,000,000 equity shares with a par value of Z5/-.\\n\\n**Issued, Subscribed, and Paid-Up Shares:**\\n\\nAs at March 31, 2024, the company had issued and subscribed 2,071,000,000 equity shares, which are fully paid-up. This represents approximately 43% of the authorized shares.\\n\\nAs at March 31, 2023, the company had issued and subscribed 2,069,000,000 equity shares, which are also fully paid-up. There is a slight increase in the number of issued and subscribed shares from March 31, 2023 to March 31, 2024.\\n\\n**Title:**\\n\\n\"Authorized and Issued Equity Shares as at March 31, 2024 and March 31, 2023\"',\n",
       " '**Summary:**\\n\\nThe table shows the changes in the number of shares and amount (in crores) held by the company over two consecutive years (March 31, 2023 to March 31, 2024).\\n\\n* At the beginning of the period (March 31, 2023), the company had approximately 419.30 billion shares with a total value of ₹2,098 crore.\\n* During the year, an additional 35.62 million shares were issued on the exercise of employee stock options, bringing the total number of shares to 413.63 billion.\\n* However, the company also bought back 6.04 billion shares, which reduced the total number of shares to approximately 413.99 billion at the end of the period (March 31, 2024).\\n* The amount held by the company remained relatively stable throughout the year, with a slight increase from ₹2,098 crore to ₹2,071 crore.\\n\\n**Title:** \"Share Capital and Amount Held by the Company over Two Consecutive Years\"',\n",
       " '**Summary:**\\n\\nThe table provides information on dividend payments made by a company over three periods:\\n\\n* Three months ended March 31, [year]: No dividend was paid during this period.\\n* Year ended March 31, [year]:\\n\\t+ For fiscal year 2022, the final dividend payment was 20% of the share value (equivalent to $16.00).\\n\\t+ For fiscal year 2023, the interim dividend payment was $16.50 and the final dividend payment was $17.50.\\n\\t+ For fiscal year 2024, the interim dividend payment is expected to be $18.00.\\n\\n**Title:** Dividend Payments by [Company Name]',\n",
       " '**Summary: Equity Settled and Cash Settled RSUs**\\n\\nThis table provides information on equity settled and cash settled restricted stock units (RSUs) granted to Key Management Personnel (KMP) and employees other than KMP for the 2019 plan and 2015 plan.\\n\\nThe main points from the summary are:\\n\\n* Equity settled RSUs:\\n\\t+ For KMP, the total grants were $498,730 in 2024 and $367,479 in 2023.\\n\\t+ For employees other than KMP, the total grants were $4,640,640 in 2024 and $1,784,975 in 2023.\\n* Cash settled RSUs:\\n\\t+ No equity settled RSUs were granted to KMP in 2019 or 2015.\\n\\t+ Cash settled RSUs worth $176,990 (in 2024) and $92,400 (in 2015) were granted to employees other than KMP.\\n\\nOverall, the total grants for equity settled RSUs increased from $2,244,854 in 2015 to $5,316,360 in 2019.',\n",
       " '**Summary Title:** \"Stock Compensation Expense Granted to KMP and Employees\"\\n\\n**Summary:**\\n\\nThe table shows the stock compensation expense granted to Key Management Personnel (KMP) and employees of the company over three months ended March 31, 2024, as well as for the year ended March 31, 2023. The data is presented in Indian rupees (X crore).\\n\\nKey observations:\\n\\n* KMP received a total of 17 million shares (2024) and 8 million shares (2023), with a significant increase from 8 to 17 million shares.\\n* Employees other than KMP received a total of 208 million shares (2024) and 125 million shares (2023), also showing an increase.\\n* The total stock compensation expense granted was higher in 2024 compared to 2023, with a significant jump from 133 million shares to 652 million shares.\\n\\nNote: Cash-settled stock compensation expenses are included in the above figures.',\n",
       " '**Summary:**\\n\\nThe table provides information on the assumptions and calculations used to value stock options granted by the company in fiscal years 2024 and 2023. The main parameters considered are:\\n\\n* Weighted average share price (or ADS) at grant date\\n* Exercise price per share (or ADS)\\n* Expected volatility, life of the option, and dividends\\n* Risk-free interest rate\\n\\nThe assumptions for each year\\'s options grants vary slightly, with some parameters having a wider range than others. The weighted average fair value of the options as on grant date is also provided.\\n\\n**Title:** \"Assumptions and Calculations for Stock Option Grants\"',\n",
       " '**Summary**\\n\\nThe table provides information on the company\\'s other financial liabilities as of March 31, 2024 and March 31, 2023.\\n\\n**Key Points:**\\n\\n* Non-current other financial liabilities increased to ₹2,130 crore in 2024 from ₹2,058 crore in 2023.\\n* Current other financial liabilities decreased to ₹16,959 crore in 2024 from ₹18,558 crore in 2023.\\n* Total other financial liabilities decreased to ₹19,089 crore in 2024 from ₹20,616 crore in 2023.\\n\\n**Title:** \"Other Financial Liabilities as of March 31, 2024 and March 31, 2023\"',\n",
       " '**Summary:**\\n\\nThe total other liabilities decreased by ₹1,556 crore (14%) from March 2023 to March 2024. The non-current other liabilities decreased significantly by ₹265 crore (53%), primarily due to a reduction in accrued defined benefit liability from ₹445 crore to ₹159 crore. The current other liabilities also saw a decrease of ₹291 crore (3%), mainly driven by a decline in unearned revenue and withholding taxes and others.\\n\\n**Title:**\\n\"Change in Other Liabilities from March 2023 to March 2024\"',\n",
       " '**Title:** \"Provisions as at March 31, 2024 and March 31, 2023\"\\n\\n**Summary:**\\n\\nThe table shows the provision details of two periods - March 31, 2024 and March 31, 2023. The provisions are categorized into two main parts: Current Provisions and Others.\\n\\nThe current provisions amount to ₹1,796 crore as at March 31, 2024, which is an increase from ₹1,307 crore as at March 31, 2023. This increase is primarily driven by post-sales client support and other provisions, which also saw a significant jump from ₹1,307 crore to ₹1,796 crore over the same period.',\n",
       " '**Summary Title:** \"Income Tax Expense Summary\"\\n\\nHere is the summary:\\n\\n* The company\\'s income tax expense has increased in both three-month and year-to-date periods.\\n\\t+ Three months ended March 31: Income tax expense decreased by 2% to ₹2,265 crore in 2024 compared to ₹2,332 crore in 2023.\\n\\t+ Year ended March 31: Income tax expense increased by 5% to ₹9,740 crore in 2024 compared to ₹9,214 crore in 2023.\\n\\nThe main takeaway is that the company\\'s income tax expense has shown a moderate increase over the past year.',\n",
       " '**Title:** Revenue Performance of [Company Name] (2023-2024)\\n\\n**Summary:**\\n\\nBased on the provided table, here is a summary of the revenue performance of [Company Name] for the three months ended March 31, 2024, and the year ended December 31, 2024:\\n\\n* Revenue from software services increased by 2.5% to ₹36,064 crore in Q1 FY2024 compared to ₹35,199 crore in Q1 FY2023. For the full year FY2024, revenue from software services grew by 6.0% to ₹145,285 crore compared to ₹137,575 crore in FY2023.\\n* Revenue from products and platforms declined by 17.2% to ₹1,859 crore in Q1 FY2024 compared to ₹2,242 crore in Q1 FY2023. For the full year FY2024, revenue from products and platforms decreased by 8.5% to ₹8,385 crore compared to ₹9,192 crore in FY2023.\\n* Total revenue from operations grew by 1.6% to ₹37,923 crore in Q1 FY2024 compared to ₹37,441 crore in Q1 FY2023. For the full year FY2024, total revenue from operations increased by 4.5% to ₹153,670 crore compared to ₹146,767 crore in FY2023.\\n\\nOverall, [Company Name] reported a moderate increase in total revenue from operations for both the quarter and the year ended December 31, 2024, driven mainly by growth in its software services segment.',\n",
       " \"**Summary:**\\n\\nThe table provides revenue data by geography for two fiscal years (2023 and 2024) and three months ended March 31, 2024.\\n\\nKey points:\\n\\n* Revenues in North America remained relatively stable between 2023 and 2024, with a slight increase from ₹22,842 crore to ₹22,606 crore.\\n* Europe saw an increase in revenues from ₹10,088 crore to ₹10,861 crore over the same period.\\n* India's revenue remained steady at around ₹981-833 crore during the three months ended March 31.\\n* Rest of the world saw a slight increase in revenues from ₹3,530 crore to ₹3,623 crore.\\n\\nOverall, total revenues increased by around 2% between 2023 and 2024, with North America and Europe contributing most to the growth.\",\n",
       " '**Summary:**\\n\\nThe table presents the interest income and other income of a company over three months and a full year, with a comparison between 2024 and 2023.\\n\\n**Key Points:**\\n\\n* Interest income on financial assets carried at amortized cost increased by 14% to ₹1,131 million in 2024 from ₹949 million in 2023.\\n* Interest income on financial assets carried at fair value through other comprehensive income rose by 5.6% to ₹1,007 million in 2024 from ₹955 million in 2023.\\n* Other income, including exchange gains/losses, miscellaneous income, and interest on income tax refund, surged by 75% to ₹4,711 million in 2024 from ₹2,701 million in 2023.\\n\\n**Title:** Financial Performance - Interest Income and Other Income',\n",
       " '**Summary Title:** \"Expenses Summary for Three Months and Year Ended March 31, [Year]\"\\n\\n**Summary:**\\n\\nThe expenses of the company for the three months ended March 31, [Year], were:\\n\\n* Employee benefit expenses: ₹20,393 (2024) / ₹20,311 (2023), which accounted for 63% (2024) / 62% (2023) of total expenses. This included salaries and bonuses, contributions to provident funds, share-based payments, staff welfare, and others.\\n* Cost of software packages and others: ₹13,515 (2024) / ₹10,902 (2023), which accounted for 41% (2024) / 34% (2023) of total expenses. This included costs of software packages for own use and third-party items bought for service delivery to clients.\\n* Other expenses: ₹4,716 (2024) / ₹4,392 (2023), which accounted for 14% (2024) / 12% (2023) of total expenses. This included repairs and maintenance, power and fuel, brand and marketing, rates and taxes, consumables, insurance, provision for post-sales client support, impairment loss recognized/reversed under expected credit loss model, contributions towards Corporate Social Responsibility, and others.\\n\\nOverall, the company\\'s expenses increased by 6% from ₹39,121 (2023) to ₹40,041 (2024).',\n",
       " '**Summary of Changes in Right-of-Use (ROU) Asset**\\n\\nBased on the provided table, here is a summary of the changes in the ROU asset account:\\n\\n* As of January 1, 2024, the balance was $6,892.\\n* Additions to the ROU asset totaled $439, consisting of $61 added to buildings and $376 added to computers.\\n* Deletions from the ROU asset amounted to $307, with $92 deleted from buildings and $215 deleted from computers.\\n* No impairment loss was recorded (—).\\n* Depreciation expense for the period was $423, comprising $185 for buildings and $234 for computers.\\n* A translation difference of $49 was recorded, primarily affecting vehicles ($35) and computers ($14).\\n* As of March 31, 2024, the balance in the ROU asset account was $6,552.',\n",
       " '**Summary Title:** \"Recurring Operating Utility (ROU) Asset Movement and Depreciation Summary as of March 31, 2023\"\\n\\n**Summary:**\\n\\nThe ROU asset movement and depreciation summary shows the changes in the balance of different categories of assets (Land, Buildings, Vehicles, and Computers) from January 1, 2023 to March 31, 2023.\\n\\nKey points:\\n\\n* The total value of ROU assets as of January 1, 2023 was ₹6,480 crore.\\n* Additions to the assets resulted in an increase of ₹881 crore, while deletions led to a decrease of ₹157 crore.\\n* Depreciation charges totaled ₹355 crore, resulting in a net decrease in asset value.\\n* Translation differences, which are adjustments for foreign currency fluctuations, increased the asset value by ₹33 crore.\\n\\nAs of March 31, 2023, the total value of ROU assets stands at ₹6,882 crore.',\n",
       " 'Here is a summary of the table:\\n\\n**Summary:**\\n\\nThe table shows the changes in Right-of-Use (ROU) assets over a one-year period from April 1, 2023 to March 31, 2024. The ROU assets are categorized into land, buildings, vehicles, and computers.\\n\\n* At the beginning of the period, the total value of ROU assets was $6,882.\\n* Additions of new assets during the period totaled $2,278.\\n* Deletions of old or disposed-of assets resulted in a decrease of $947.\\n* An impairment loss of $88 was recognized, reducing the asset values.\\n* Depreciation expenses of $1,595 were recorded to reflect the decline in value of the assets over time.\\n* A translation difference of $22 was recognized due to changes in exchange rates.\\n\\nAs a result, the total value of ROU assets at the end of the period was $6,552, representing a decrease of $330 from the beginning of the period.\\n\\n**Title:** Changes in Right-of-Use (ROU) Assets for the Year Ended March 31, 2024',\n",
       " '**Summary Title:** \"Right-of-Use (ROU) Asset Movement and Depreciation Summary\"\\n\\n**Summary:**\\n\\nThe ROU asset movement and depreciation summary reveals the changes in the company\\'s Right-of-Use assets, including additions, deletions, depreciation, and translation differences, from April 1, 2022 to March 31, 2023.\\n\\n* As of April 1, 2022, the total ROU assets stood at ₹4,823 crore, comprising land (₹628 crore), buildings (₹3,711 crore), vehicles (₹16 crore), and computers (₹468 crore).\\n* Additions to ROU assets during the period were primarily in buildings (₹847 crore) and computers (₹2,646 crore), resulting in a total addition of ₹3,501 crore.\\n* Deletions from ROU assets mainly consisted of building deletions (₹45 crore) and computer deletions (₹364 crore), totaling ₹409 crore.\\n* Depreciation expenses for the period were significant, with buildings (₹671 crore), computers (₹499 crore), and vehicles (₹10 crore) contributing to a total depreciation expense of ₹1,186 crore.\\n* Translation differences, which arise from the conversion of foreign currency transactions into Indian rupees, resulted in an addition of ₹153 crore to the ROU assets.\\n\\nAs of March 31, 2023, the total ROU assets stood at ₹6,882 crore, with land (₹623 crore), buildings (₹3,896 crore), vehicles (₹15 crore), and computers (₹2,348 crore) making up this figure.',\n",
       " '**Summary Title:** \"Asat\\'s Lease Liability Evolution: March 31, 2024 vs. March 31, 2023\"\\n\\n**Summary:**\\n\\nAsat\\'s lease liability position has evolved over the year, with some notable changes. As of March 31, 2024, the company had a total lease liability of $8,359, which is a slight decrease from the previous year\\'s figure of $8,299.\\n\\nThe breakdown shows that current lease liabilities decreased by $717 to $1,959 in 2024, while non-current lease liabilities increased by $643 to $6,400. Overall, Asat\\'s lease liability position remains relatively stable, with only a minor adjustment from the previous year.',\n",
       " '**Title:** Contingent Liabilities and Claims against the Group as of March 31, 2024\\n\\n**Summary:**\\n\\nAs of March 31, 2024, the contingent liabilities of the group amount to ₹3,583 crore, a decrease from ₹4,762 crore in the previous year.',\n",
       " '**Title:** \"Capital Contracts and Other Commitments as of March 2024\"\\n\\n**Summary:**\\n\\nAs of March 2024, the estimated amount of contracts remaining to be executed on capital contracts and not provided for (net of advances and deposits) stands at ₹780 crore, a decrease from ₹959 crore in March 2023. Additionally, other commitments have reduced to ₹79 crore from ₹92 crore over the same period.',\n",
       " '**Summary Title:** Remuneration of Directors and Executive Officers\\n\\n**Summary:**\\n\\nThe tables show the remuneration of whole-time directors, executive officers, non-executive/independent directors, and total remuneration for three months ended March 31, 2024 and 2023, as well as the year ended March 31, 2024 and 2023.\\n\\nFor the three-month period:\\n\\n* Salaries and other short-term employee benefits for whole-time directors and executive officers increased from ₹25 crore in 2023 to ₹30 crore in 2024.\\n* Commission and other benefits for non-executive/independent directors rose from ₹4 crore in 2023 to ₹5 crore in 2024.\\n\\nFor the year ended March 31:\\n\\n* Salaries and other short-term employee benefits for whole-time directors and executive officers increased from ₹111 crore in 2023 to ₹113 crore in 2024.\\n* Commission and other benefits for non-executive/independent directors rose from ₹16 crore in 2023 to ₹17 crore in 2024.\\n\\nThe total remuneration for the year ended March 31, 2024 was ₹130 crore, a slight increase from ₹127 crore in 2023.',\n",
       " \"**Summary of Financial Performance**\\n\\nBased on the provided tables, here is a summary of the financial performance:\\n\\n**Revenue:**\\n\\n* The company's revenue from operations was ₹37,923 crore in the first period and ₹37,441 crore in the second period.\\n* Revenue from various segments was:\\n\\t+ Financial Services: ₹10,010-10,818 crore\\n\\t+ Retail: ₹5,429-5,537 crore\\n\\t+ Communication & Energy, Utilities, Resources and Services: ₹4,666-4,411 crore\\n\\t+ Manufacturing, Hi-Tech, Life Sciences, and All other segments: ₹5,068-4,825 crore\\n\\n**Operating Expenses:**\\n\\n* Identifiable operating expenses were ₹22,325 crore in the first period and ₹21,454 crore in the second period.\\n* Allocated expenses were ₹6,814-6,989 crore.\\n* Segment operating income was ₹8,784-8,998 crore.\\n\\n**Profit:**\\n\\n* Profit before tax was ₹10,240 crore in the first period and ₹8,466 crore in the second period.\\n* Income tax expense was ₹2,265-2,332 crore.\\n* Net profit was ₹7,975 crore in the first period and ₹6,134 crore in the second period.\\n\\n**Depreciation and Amortization:**\\n\\n* Depreciation and amortization expenses were ₹1,163-1,121 crore.\",\n",
       " \"**Summary: Financial Performance of the Company**\\n\\nThe company's financial performance can be summarized as follows:\\n\\n* Revenue from operations increased by 1% to ₹146,767 crore in FY2022 compared to ₹153,670 crore in FY2021.\\n* Identifiable operating expenses decreased by 3% to ₹84,993 crore in FY2022 compared to ₹89,877 crore in FY2021.\\n* Segment operating income increased by 10% to ₹35,130 crore in FY2022 compared to ₹36,425 crore in FY2021.\\n* Profit before tax was ₹33,322 crore in FY2022, a decrease of 7% from ₹35,988 crore in FY2021.\\n* Net profit was ₹24,108 crore in FY2022, a decrease of 9% from ₹26,248 crore in FY2021.\\n* Depreciation and amortization expense increased by 10% to ₹4,225 crore in FY2022 compared to ₹4,678 crore in FY2021.\\n\\nOverall, the company's revenue growth was driven by strong performances in its Manufacturing, Hi-Tech, and Energy segments. However, the increase in identifiable operating expenses and depreciation and amortization expense had a negative impact on the company's profit before tax and net profit.\",\n",
       " \"**Summary: Consolidated Financial Statements for the Year Ended March 31, [Year]**\\n\\nBased on the provided table, here is a summary of the financial performance and position of the company:\\n\\n**Revenue and Gross Profit:**\\nThe company reported revenue from operations of ₹37,923 million and ₹153,670 million for the three months and year ended March 31, 2024, respectively. The gross profit was ₹11,175 million and ₹46,257 million for the same periods.\\n\\n**Operating Expenses and Operating Profit:**\\nThe company incurred operating expenses of ₹3,554 million and ₹14,510 million for the three months and year ended March 31, 2024, respectively. The operating profit was ₹7,621 million and ₹31,747 million for the same periods.\\n\\n**Profit Before Tax and Tax Expense:**\\nThe company reported a profit before tax of ₹10,240 million and ₹35,988 million for the three months and year ended March 31, 2024, respectively. The tax expense was ₹1,173 million and ₹8,390 million for the same periods.\\n\\n**Profit for the Period and Comprehensive Income:**\\nThe company reported a profit for the period of ₹7,975 million and ₹26,248 million for the three months and year ended March 31, 2024, respectively. The comprehensive income was ₹7,823 million and ₹26,768 million for the same periods.\\n\\n**Owners' Equity and Non-Controlling Interests:**\\nThe company reported owners' equity of ₹[amount] million and non-controlling interests of ₹[amount] million at the end of the year ended March 31, 2024.\"]"
      ]
     },
     "execution_count": 66,
     "metadata": {},
     "output_type": "execute_result"
    }
   ],
   "source": [
    "response"
   ]
  },
  {
   "cell_type": "markdown",
   "metadata": {},
   "source": [
    "## Lengof th response"
   ]
  },
  {
   "cell_type": "code",
   "execution_count": 67,
   "metadata": {},
   "outputs": [
    {
     "data": {
      "text/plain": [
       "49"
      ]
     },
     "execution_count": 67,
     "metadata": {},
     "output_type": "execute_result"
    }
   ],
   "source": [
    "len(response)"
   ]
  },
  {
   "cell_type": "code",
   "execution_count": 186,
   "metadata": {},
   "outputs": [
    {
     "name": "stdout",
     "output_type": "stream",
     "text": [
      "Summaries: ['The table provides an overview of the company\\'s financial statements, including its condensed consolidated balance sheet, statement of profit and loss, changes in equity, and cash flows. The \"Overview\" section covers the basis of preparation of financial statements, consolidation, use of estimates and judgments, and critical accounting estimates and judgments.\\n\\nThe \"Notes to the Interim Condensed Consolidated Financial Statements\" section provides additional information on various topics, including:\\n\\n* Business combinations\\n* Property, plant, and equipment\\n* Goodwill and other intangible assets\\n* Investments\\n* Loans\\n* Other financial assets and liabilities\\n* Trade receivables and cash and cash equivalents\\n* Other assets and equity\\n* Financial instruments\\n* Provisions, income taxes, revenue from operations, and expenses\\n\\nThe notes also cover leases, contingent liabilities and commitments, related party transactions, segment reporting, and function-wise classification of the statement of profit and loss.', \"**Summary Title:** Consolidated Balance Sheets as at March 31, 2024 and March 31, 2023\\n\\n\\n\\nThe consolidated balance sheets of [Company Name] show a significant increase in total assets from ₹125.82 crore (March 31, 2023) to ₹137.81 crore (March 31, 2024). The main contributors to this growth are:\\n\\n* Non-current assets, which increased by ₹7.89 crore (15.9%) to ₹48.38 billion\\n* Current assets, which rose by ₹18.55 crore (26.2%) to ₹89.43 billion\\n\\nThe company's equity attributable to equity holders of the Company grew from ₹75.41 crore to ₹88.12 crore, an increase of ₹12.71 crore (16.8%). Non-controlling interests also increased from ₹0.39 crore to ₹0.35 crore.\\n\\nLiabilities also increased, with non-current liabilities rising by ₹1.24 crore (11.4%) to ₹10.56 billion and current liabilities increasing by ₹0.94 crore (2.4%) to ₹38.79 billion.\\n\\nOverall, the company's financial position has strengthened over the past year, with a significant increase in total assets and equity.\", '**Summary**\\n\\nThe table appears to be presenting the financial statements of a company, specifically the Statement of Comprehensive Income and the Earnings per Equity Share. Here\\'s a breakdown of the main items:\\n\\n* **Total other comprehensive income/(loss), net of tax**: This item shows a decrease in comprehensive income for both 2022 and 2021, with significant amounts in 2020.\\n* **Profit attributable to: Owners of the Company** and **Non-controlling interests**: These items represent the profit distributed to shareholders (Owners) and minority interest holders (Non-controlling interests), respectively. The company reported higher profits in 2020 compared to the other two years.\\n* **Earnings per equity share**: This section presents the basic and diluted earnings per share, along with the weighted average number of shares used in computing these metrics.\\n\\n**Title**\\n\\n\"Consolidated Statement of Comprehensive Income and Earnings per Equity Share\"\\n\\nNote that this title is a suggested interpretation based on the table\\'s contents. If there are any specific instructions or context regarding the title, please provide those details for me to refine my response.', \"Based on the table, I'll provide a summary and a title.\\n\\n\\n\\nThe table presents a breakdown of the company's reserve movements as at March 31, 2023. The main items include:\\n\\n* Amounts transferred to capital redemption reserve upon buyback: ₹30\\n* Transfers to Special Economic Zone Re-investment reserve: ₹3,139 (outflow) and ₹1,464 (inflow)\\n* Transfer to legal reserve: ₹3\\n* Transferred on account of exercise of stock options: ₹291\\n* Income tax benefit arising from exercise of stock options: ₹51\\n* Dividends: outflow of ₹13,632\\n* Dividends paid to non-controlling interest of subsidiary: outflow of ₹22\\n* Transfers from Special Economic Zone Re-investment reserve on utilization: inflow of ₹1,464\\n\\nThe balance as at March 31, 2023, is summarized below:\", \"**Summary**\\n\\nThe tables present the cash flow statements of a company for two consecutive years (2023 and 2024). The main components of the statement are:\\n\\n**Cash Flow from Operating Activities:**\\n- Profit for the period increased by ₹2,140 crore to ₹26,248 crore.\\n- Adjustments to reconcile net profit to net cash provided by operating activities include changes in income tax, depreciation, amortization, finance cost, loss under credit loss model, impairment recognized, and other adjustments.\\n- Cash generated from operations was ₹34,441 crore in 2024, a significant increase from ₹31,261 crore in 2023.\\n\\n**Cash Flow from Investing Activities:**\\n- The company invested in property, plant, and equipment, intangibles, and deposits placed with the corporation.\\n- It also acquired investments, mutual funds, and government securities, resulting in a net outflow of ₹5,009 crore in 2024.\\n\\nThe company's cash flow position is influenced by its operating activities, which generate significant cash, while investing activities result in a net outflow.\", \"**Summary Title:** Cash Flow Statement Summary (Financing Activities)\\n\\nHere's a summary of the tables:\\n\\nThe company's financing activities for the period resulted in a net cash outflow of $17,504 and $26,695, respectively. The main components driving this outflow were:\\n\\n* Payment of lease liabilities: $2,024 and $1,231\\n* Payment of dividends: $(14,692) and $(13,631)\\n* Payment towards buyback of shares pertaining to non-controlling interest of subsidiary: $(18) and $0\\n* Buyback of equity shares including transaction cost and tax on buyback: $(11,499) and $(nil)\\n\\nThese outflows were partially offset by:\\n\\n* Shares issued on exercise of employee stock options: $35 and $nil\\n* Other receipts: $132 and $nil\\n\\nThe net cash outflow from financing activities was financed through the company's existing cash and cash equivalents. The restricted cash balance increased to $348 at the end of the period, up from $362 at the beginning of the period.\\n\\n**Cash and Cash Equivalents:** The opening cash and cash equivalents balance was $12,173 and $17,472, respectively. After the net cash outflow from financing activities, the closing cash and cash equivalents balance was $14,786 and $12,173, respectively.\", '**Summary Title:** \"Purchase Price Allocation for Acquiree\\'s Net Assets and Intangible Assets\"\\n\\n\\n\\nThe table summarizes the purchase price allocation for the acquiree\\'s net assets and intangible assets. The key findings are:\\n\\n* The total purchase price is ₹981 crore, with a significant portion allocated to goodwill (₹630 crore).\\n* The intangible assets have a fair value of ₹248 crore, comprising:\\n\\t+ Customer contracts and relationships: ₹274 crore\\n\\t+ Vendor relationships: ₹30 crore\\n\\t+ Brand: ₹24 crore\\n\\t+ Deferred tax liabilities on intangible assets: (₹80) crore (i.e., a negative amount, indicating a liability)\\n* The total carrying amount of the acquiree\\'s net assets is ₹103 crore.\\n* The fair value adjustments result in a purchase price allocation of ₹351 crore for the intangible assets and net assets.', 'Based on the table, here is a summary:\\n\\n**Asset Lifespan Summary**\\n\\nThe majority of assets have a lifespan ranging from 3-5 years, with some exceptions. The buildings are expected to last around 22-25 years, while leasehold improvements have an uncertain lifespan tied to their usefulness.\\n\\nAs for the title, I suggest:\\n\\n**\"Estimated Asset Lifespans for Accounting and Financial Planning Purposes\"**\\n\\nLet me know if you\\'d like me to make any changes!', '**Summary Title:** \"Assets and Depreciation Summary as at January 1, 2024 and March 31, 2024\"\\n\\n\\n\\nThe table shows the gross carrying value and accumulated depreciation of various assets (Land - Freehold, Buildings, Plant and machinery, Office Equipment, Computer equipment, Furniture and fixtures, Vehicles) as at January 1, 2024 and March 31, 2024. The additions, deletions, and translation differences for each asset category are also provided.\\n\\n**Key Points:**\\n\\n* Gross carrying value of assets increased from ₹30,051 (as at January 1, 2024) to ₹30,587 (as at March 31, 2024).\\n* Accumulated depreciation increased from ₹17,898 (as at January 1, 2024) to ₹18,217 (as at March 31, 2024).\\n* The carrying value of assets (gross carrying value minus accumulated depreciation) increased from ₹12,153 (as at January 1, 2024) to ₹12,370 (as at March 31, 2024).', '**Summary Title:** \"Asset Depreciation and Carrying Value as at January 1, 2023 and March 31, 2023\"\\n\\n\\n\\nThe table provides a breakdown of the gross carrying value and accumulated depreciation of different types of assets (land-freehold, buildings, plant and machinery, office equipment, computer equipment, furniture and fixtures, vehicles) as at January 1, 2023 and March 31, 2023.\\n\\nKey points:\\n\\n* The gross carrying value of all assets increased from ₹30.54 crore as at January 1, 2023 to ₹30.09 crore as at March 31, 2023.\\n* Accumulated depreciation also increased during the same period, from ₹17.47 crore to ₹16.74 crore.\\n* Depreciation expenses for the period were ₹670 lakh.\\n* The carrying value of assets as at January 1, 2023 was ₹13.07 crore, which increased to ₹13.35 crore as at March 31, 2023.', '**Summary Title:** Changes in Gross Carrying Value and Accumulated Depreciation of Assets as at April 1, 2023 to March 31, 2024\\n\\n\\n\\nThe table provides information on the changes in gross carrying value and accumulated depreciation of various assets from April 1, 2023 to March 31, 2024.\\n\\n**Key Points:**\\n\\n* Gross carrying value increased by ₹1,761 (from ₹30,089 to ₹30,587) due to additions and minor translation differences.\\n* Accumulated depreciation increased by ₹1,474 (from ₹16,743 to ₹18,217) primarily due to depreciation charges of ₹2,685.\\n* The carrying value of assets decreased by ₹976 (from ₹13,346 to ₹12,370) due to the increase in accumulated depreciation.\\n\\nNote: ₹ represents Indian Rupees.', '**Summary Title:** \"Property, Plant and Equipment (Gross Carrying Value and Accumulated Depreciation) as at April 1, 2022 and March 31, 2023\"\\n\\n\\n\\nThe table provides information on the gross carrying value and accumulated depreciation of property, plant, and equipment as at April 1, 2022, and March 31, 2023. The main points are:\\n\\n* Gross carrying value:\\n\\t+ As at April 1, 2022: ₹29,375 crore\\n\\t+ Additions: ₹14 crore (Business Combination) and ₹2,830 crore (other additions)\\n\\t+ Deletions: ₹2,197 crore\\n\\t+ Translation difference: ₹67 crore\\n\\t+ As at March 31, 2023: ₹30,089 crore\\n* Accumulated depreciation:\\n\\t+ As at April 1, 2022: ₹16,300 crore\\n\\t+ Depreciation: ₹2,577 crore\\n\\t+ Accumulated depreciation on deletions: ₹2,182 crore\\n\\t+ Translation difference: ₹48 crore\\n\\t+ As at March 31, 2023: ₹16,743 crore\\n* Carrying value:\\n\\t+ As at April 1, 2022: ₹13,075 crore\\n\\t+ As at March 31, 2023: ₹13,346 crore', 'Based on the table, I generated a summary as follows:\\n\\n The carrying value of intangible assets increased by $108 (from $6,195 to $7,303) between March 31, 2023 and March 31, 2024. This increase was primarily driven by the translation differences, which added $55 to the carrying value. Goodwill on acquisitions also contributed to the increase in the previous year.', \"The table provides a breakdown of the company's non-current and current investments as of March 31, 2024, and March 31, 2023.\\n\\n**Non-Current Investments:**\\n\\n* The total value of non-current investments increased from ₹12,569 million in 2023 to ₹11,708 million in 2024.\\n* Quoted investments (carried at amortized cost) decreased by ₹37 million, while unquoted investments increased by ₹5,650 million.\\n* Fair value through other comprehensive income (FVOCI) investments increased by ₹1,141 million, with a significant increase in government securities.\\n\\n**Current Investments:**\\n\\n* The total value of current investments increased from ₹6,909 million in 2023 to ₹12,915 million in 2024.\\n* Unquoted investments (carried at FVOCI) increased by ₹7,296 million, driven primarily by commercial papers and certificates of deposit.\\n* Fair value through profit or loss (FVPL) investments increased by ₹2,369 million.\", '**Summary**\\n\\nThe table presents the fair value of various investment classes as at March 31, 2024 and March 31, 2023. The investments are classified into six categories: Liquid mutual fund units, Target maturity fund units, Tax-free bonds and government bonds, Non-convertible debentures, Government securities, and Others.\\n\\n**Key Points:**\\n\\n* Total fair value of investments increased from ₹19,706 crore in 2023 to ₹24,837 crore in 2024.\\n* Liquid mutual fund units and Target maturity fund units saw significant increases in fair value, from ₹975 crore to ₹2,615 crore and from ₹402 crore to ₹431 crore, respectively.\\n* Non-convertible debentures and Government securities had the highest fair values at ₹4,179 crore and ₹7,362 crore, respectively.\\n\\n**Title:** Fair Value of Investments as at March 31, 2024 and March 31, 2023', '**Summary Title:** \"Loans Outstanding as at March 31, 2024 and 2023\"\\n\\n\\n\\nAs of March 31, 2024, the company had total loans outstanding of $282 million, which is a decrease of $46 million compared to the same period in 2023 when total loans stood at $328 million.\\n\\nThe breakdown of non-current loans shows that Loans considered good - Unsecured and Other loans (including Loans to employees) decreased by $5 million from $39 million in 2023 to $34 million in 2024. The Loans credit impaired - Unsecured also decreased by $1 million from $2 million in 2023 to $1 million in 2024.\\n\\nFor current loans, the company had total loans outstanding of $248 million as at March 31, 2024, which is a decrease of $41 million compared to the same period in 2023 when total current loans stood at $289 million. The Loans considered good - Unsecured and Other loans (including Loans to employees) also decreased by $41 million from $289 million in 2023 to $248 million in 2024.', '**Summary**\\n\\nThe table presents the financial assets of an entity as at March 31, 2024 and March 31, 2023, categorized into non-current and current assets.\\n\\n**Key Findings:**\\n\\n1. Non-Current Financial Assets:\\n\\t* Total non-current other financial assets increased from $2,798 in 2023 to $3,105 in 2024.\\n\\t* The main components of non-current financial assets are security deposits ($259 in 2024), unbilled revenues ($1,677 in 2024), and others ($1,119 in 2024).\\n2. Current Financial Assets:\\n\\t* Total current other financial assets increased from $11,604 in 2023 to $12,085 in 2024.\\n\\t* The main components of current financial assets are unbilled revenues ($7,923 in 2024), restricted deposits ($2,535 in 2024), and others ($925 in 2024).\\n\\n**Title:** Financial Assets as at March 31, 2024 and March 31, 2023', 'Based on the table, here is a summary:\\n\\n The total trade receivables as of March 31, 2024 are ₹30,193 crore, which represents an increase of ₹4,769 crore compared to March 31, 2023 when it was ₹25,424 crore. The amount considered good and unsecured has increased by ₹4,669 crore from ₹25,965 crore in 2023 to ₹30,193 crore in 2024.', '**Summary Title:** Cash and Cash Equivalents Summary as of March 31, 2024\\n\\n\\n\\nThe table below shows the cash and cash equivalents balance as of March 31, 2024.\\n\\n* Balances with banks in current and deposit accounts have increased to ₹14,786 crore from ₹10,026 crore as of March 31, 2023.\\n* Deposits with financial institutions have decreased to zero from ₹2,147 crore as of March 31, 2023.\\n* Total cash and cash equivalents have increased to ₹14,786 crore from ₹12,173 crore as of March 31, 2023.\\n* Balances with banks in unpaid dividend accounts remained unchanged at ₹37 crore.\\n* Deposits with more than 12 months maturity decreased to ₹57 crore from ₹833 crore as of March 31, 2023.', 'The table shows the Non-Current and Current Other Assets of a company as of March 31, 2024, and March 31, 2023.\\n\\n**Non-Current Other Assets:**\\n\\n* The value decreased from ₹2,318 crore to ₹2,121 crore, a decrease of ₹197 crore or 6.8%.\\n* The main components are:\\n\\t+ Capital advances: ₹155 crore (down from ₹159 crore)\\n\\t+ Advances other than capital advances: Not disclosed\\n\\t+ Others: ₹673 crore (down from ₹684 crore), including withholding taxes and others, unbilled revenues, defined benefit plan assets, and prepaid expenses.\\n* The Deferred Contract Cost decreased by ₹62 crore, from ₹652 crore to ₹687 crore.\\n\\n**Current Other Assets:**\\n\\n* The value decreased from ₹14,476 crore to ₹12,808 crore, a decrease of ₹668 crore or 4.6%.\\n* The main components are:\\n\\t+ Advances other than capital advances: ₹356 crore (up from ₹202 crore)\\n\\t+ Others: ₹4,845 crore (down from ₹6,972 crore), including unbilled revenues, withholding taxes and others, prepaid expenses, and Deferred Contract Cost.\\n* The Deferred Contract Cost decreased by ₹653 crore, from ₹853 crore to ₹200 crore.\\n\\n**Total Other Assets:**\\n\\n* The value decreased from ₹16,794 crore to ₹14,929 crore, a decrease of ₹1,865 crore or 11.1%.', '**Summary Title:** Financial Position of [Company Name] as of [Date]\\n\\n\\n\\nThe financial position of [Company Name] as of [Date] is presented below:\\n\\n**Assets:**\\n\\n* Cash and cash equivalents: ₹14,786 (amortized cost)\\n* Investments: ₹3,305 (fair value through profit or loss) + ₹206 (fair value through OCI) = ₹3,511\\n* Non-current assets:\\n\\t+ Tax-free bonds and government bonds: ₹1,759 (amortized cost)\\n\\t+ Liquid mutual fund units: ₹2,615 (fair value)\\n\\t+ Target maturity fund units: ₹431 (fair value)\\n\\t+ Non-convertible debentures: ₹4,179 (amortized cost)\\n\\t+ Government securities: ₹7,362 (amortized cost)\\n\\t+ Commercial papers: ₹4,830 (amortized cost)\\n\\t+ Certificates of deposit: ₹3,043 (amortized cost)\\n\\t+ Other investments: ₹198 (fair value) = ₹85,074 (total carrying value)\\n\\n**Liabilities:**\\n\\n* Trade payables: ₹3,956\\n* Lease liabilities: ₹8,359\\n* Financial liability under option arrangements: ₹597 (fair value)\\n* Other financial liabilities: ₹15,781 (amortized cost) = ₹28,693 (total carrying value)\\n\\nThe total carrying value of assets is ₹85,074 and the total carrying value of liabilities is ₹28,693. The net asset position of [Company Name] as of [Date] is therefore ₹56,381.', '**Summary Title:** Financial Assets and Liabilities of [Company Name] as of [Date]\\n\\n\\n\\nThe financial assets and liabilities of [Company Name] as of [Date] are presented in the following summary:\\n\\n**Assets:**\\n\\n* Cash and cash equivalents: ₹12,173 crore\\n* Investments: ₹3,920 crore (including equity and preference securities, tax-free bonds, government bonds, liquid mutual fund units, target maturity fund units, non-convertible debentures, government securities, commercial papers, certificates of deposit, and other investments)\\n\\t+ Equity instruments designated upon initial recognition: ₹196 crore\\n* Trade receivables: ₹25,424 crore\\n* Loans: ₹328 crore\\n* Other financial assets: ₹14,402 crore\\n\\nTotal Assets: ₹71,949 crore\\n\\n**Liabilities:**\\n\\n* Trade payables: ₹3,865 crore\\n* Lease liabilities: ₹8,299 crore\\n* Financial liability under option arrangements: ₹600 crore\\n* Other financial liabilities: ₹17,534 crore\\n\\nTotal Liabilities: ₹30,298 crore', \"The table provides a breakdown of the Company's investments and derivative financial instruments as at March 31, 2024, classified according to the fair value measurement hierarchy (Level 1, Level 2, and Level 3).\\n\\n**Key Points:**\\n\\n* The majority of investments are in liquid mutual funds, target maturity fund units, tax-free bonds, government bonds, non-convertible debentures, and commercial papers, all of which were valued at Level 1 or Level 2 (fair value measurement using observable market prices).\\n* A smaller portion of investments is in government securities, equity securities, preference securities, and certificates of deposit, with some of these being valued at Level 3 (fair value measurement using valuation models or unobservable inputs).\\n* The Company also holds derivative financial instruments, including a gain on outstanding foreign exchange forward and option contracts, and a loss on outstanding foreign exchange forward and option contracts.\\n* Financial liabilities under option arrangements are also recorded.\", '**Summary: Fair Value Measurement of Assets and Liabilities as at March 31, 2023**\\n\\nThe table provides a breakdown of the fair value measurement of assets and liabilities as at March 31, 2023, using Level 1, Level 2, and Level 3 inputs. The summary is as follows:\\n\\n**Assets:**\\n\\n* Investments in liquid mutual funds (Level 1) - ₹975 million\\n* Investments in tax-free bonds (Level 2) - ₹1,331 million; investments in non-convertible debentures (Level 3) - ₹789 million; investment in government securities (Level 3) - ₹83 million\\n* Other investments (Level 3) - ₹169 million\\n* Equity securities and preference securities are not valued at fair value\\n\\n**Liabilities:**\\n\\n* Derivative financial instruments - loss on outstanding foreign exchange forward and option contracts (Level 3) - ₹78 million\\n* Financial liability under option arrangements (Level 3) - ₹600 million; liability towards contingent consideration (Level 3) - ₹97 million', 'The table provides information on the authorized and issued equity shares of a company as at March 31, 2024, and March 31, 2023.\\n\\n**Authorized Shares:** The company has authorized 480,000,000,000 equity shares with a par value of Z5/-.\\n\\n**Issued, Subscribed, and Paid-Up Shares:**\\n\\nAs at March 31, 2024, the company had issued and subscribed 2,071,000,000 equity shares, which are fully paid-up. This represents approximately 43% of the authorized shares.\\n\\nAs at March 31, 2023, the company had issued and subscribed 2,069,000,000 equity shares, which are also fully paid-up. There is a slight increase in the number of issued and subscribed shares from March 31, 2023 to March 31, 2024.', 'The table shows the changes in the number of shares and amount (in crores) held by the company over two consecutive years (March 31, 2023 to March 31, 2024).\\n\\n* At the beginning of the period (March 31, 2023), the company had approximately 419.30 billion shares with a total value of ₹2,098 crore.\\n* During the year, an additional 35.62 million shares were issued on the exercise of employee stock options, bringing the total number of shares to 413.63 billion.\\n* However, the company also bought back 6.04 billion shares, which reduced the total number of shares to approximately 413.99 billion at the end of the period (March 31, 2024).\\n* The amount held by the company remained relatively stable throughout the year, with a slight increase from ₹2,098 crore to ₹2,071 crore.', 'The table provides information on dividend payments made by a company over three periods:\\n\\n* Three months ended March 31, [year]: No dividend was paid during this period.\\n* Year ended March 31, [year]:\\n\\t+ For fiscal year 2022, the final dividend payment was 20% of the share value (equivalent to $16.00).\\n\\t+ For fiscal year 2023, the interim dividend payment was $16.50 and the final dividend payment was $17.50.\\n\\t+ For fiscal year 2024, the interim dividend payment is expected to be $18.00.', '**Summary: Equity Settled and Cash Settled RSUs**\\n\\nThis table provides information on equity settled and cash settled restricted stock units (RSUs) granted to Key Management Personnel (KMP) and employees other than KMP for the 2019 plan and 2015 plan.\\n\\nThe main points from the summary are:\\n\\n* Equity settled RSUs:\\n\\t+ For KMP, the total grants were $498,730 in 2024 and $367,479 in 2023.\\n\\t+ For employees other than KMP, the total grants were $4,640,640 in 2024 and $1,784,975 in 2023.\\n* Cash settled RSUs:\\n\\t+ No equity settled RSUs were granted to KMP in 2019 or 2015.\\n\\t+ Cash settled RSUs worth $176,990 (in 2024) and $92,400 (in 2015) were granted to employees other than KMP.\\n\\nOverall, the total grants for equity settled RSUs increased from $2,244,854 in 2015 to $5,316,360 in 2019.', '**Summary Title:** \"Stock Compensation Expense Granted to KMP and Employees\"\\n\\n\\n\\nThe table shows the stock compensation expense granted to Key Management Personnel (KMP) and employees of the company over three months ended March 31, 2024, as well as for the year ended March 31, 2023. The data is presented in Indian rupees (X crore).\\n\\nKey observations:\\n\\n* KMP received a total of 17 million shares (2024) and 8 million shares (2023), with a significant increase from 8 to 17 million shares.\\n* Employees other than KMP received a total of 208 million shares (2024) and 125 million shares (2023), also showing an increase.\\n* The total stock compensation expense granted was higher in 2024 compared to 2023, with a significant jump from 133 million shares to 652 million shares.\\n\\nNote: Cash-settled stock compensation expenses are included in the above figures.', \"The table provides information on the assumptions and calculations used to value stock options granted by the company in fiscal years 2024 and 2023. The main parameters considered are:\\n\\n* Weighted average share price (or ADS) at grant date\\n* Exercise price per share (or ADS)\\n* Expected volatility, life of the option, and dividends\\n* Risk-free interest rate\\n\\nThe assumptions for each year's options grants vary slightly, with some parameters having a wider range than others. The weighted average fair value of the options as on grant date is also provided.\", '**Summary**\\n\\nThe table provides information on the company\\'s other financial liabilities as of March 31, 2024 and March 31, 2023.\\n\\n**Key Points:**\\n\\n* Non-current other financial liabilities increased to ₹2,130 crore in 2024 from ₹2,058 crore in 2023.\\n* Current other financial liabilities decreased to ₹16,959 crore in 2024 from ₹18,558 crore in 2023.\\n* Total other financial liabilities decreased to ₹19,089 crore in 2024 from ₹20,616 crore in 2023.\\n\\n**Title:** \"Other Financial Liabilities as of March 31, 2024 and March 31, 2023\"', 'The total other liabilities decreased by ₹1,556 crore (14%) from March 2023 to March 2024. The non-current other liabilities decreased significantly by ₹265 crore (53%), primarily due to a reduction in accrued defined benefit liability from ₹445 crore to ₹159 crore. The current other liabilities also saw a decrease of ₹291 crore (3%), mainly driven by a decline in unearned revenue and withholding taxes and others.', '', '**Summary Title:** \"Income Tax Expense Summary\"\\n\\nHere is the summary:\\n\\n* The company\\'s income tax expense has increased in both three-month and year-to-date periods.\\n\\t+ Three months ended March 31: Income tax expense decreased by 2% to ₹2,265 crore in 2024 compared to ₹2,332 crore in 2023.\\n\\t+ Year ended March 31: Income tax expense increased by 5% to ₹9,740 crore in 2024 compared to ₹9,214 crore in 2023.\\n\\nThe main takeaway is that the company\\'s income tax expense has shown a moderate increase over the past year.', '', \"The table provides revenue data by geography for two fiscal years (2023 and 2024) and three months ended March 31, 2024.\\n\\nKey points:\\n\\n* Revenues in North America remained relatively stable between 2023 and 2024, with a slight increase from ₹22,842 crore to ₹22,606 crore.\\n* Europe saw an increase in revenues from ₹10,088 crore to ₹10,861 crore over the same period.\\n* India's revenue remained steady at around ₹981-833 crore during the three months ended March 31.\\n* Rest of the world saw a slight increase in revenues from ₹3,530 crore to ₹3,623 crore.\\n\\nOverall, total revenues increased by around 2% between 2023 and 2024, with North America and Europe contributing most to the growth.\", 'The table presents the interest income and other income of a company over three months and a full year, with a comparison between 2024 and 2023.\\n\\n**Key Points:**\\n\\n* Interest income on financial assets carried at amortized cost increased by 14% to ₹1,131 million in 2024 from ₹949 million in 2023.\\n* Interest income on financial assets carried at fair value through other comprehensive income rose by 5.6% to ₹1,007 million in 2024 from ₹955 million in 2023.\\n* Other income, including exchange gains/losses, miscellaneous income, and interest on income tax refund, surged by 75% to ₹4,711 million in 2024 from ₹2,701 million in 2023.', '**Summary Title:** \"Expenses Summary for Three Months and Year Ended March 31, [Year]\"\\n\\n\\n\\nThe expenses of the company for the three months ended March 31, [Year], were:\\n\\n* Employee benefit expenses: ₹20,393 (2024) / ₹20,311 (2023), which accounted for 63% (2024) / 62% (2023) of total expenses. This included salaries and bonuses, contributions to provident funds, share-based payments, staff welfare, and others.\\n* Cost of software packages and others: ₹13,515 (2024) / ₹10,902 (2023), which accounted for 41% (2024) / 34% (2023) of total expenses. This included costs of software packages for own use and third-party items bought for service delivery to clients.\\n* Other expenses: ₹4,716 (2024) / ₹4,392 (2023), which accounted for 14% (2024) / 12% (2023) of total expenses. This included repairs and maintenance, power and fuel, brand and marketing, rates and taxes, consumables, insurance, provision for post-sales client support, impairment loss recognized/reversed under expected credit loss model, contributions towards Corporate Social Responsibility, and others.\\n\\nOverall, the company\\'s expenses increased by 6% from ₹39,121 (2023) to ₹40,041 (2024).', '**Summary of Changes in Right-of-Use (ROU) Asset**\\n\\nBased on the provided table, here is a summary of the changes in the ROU asset account:\\n\\n* As of January 1, 2024, the balance was $6,892.\\n* Additions to the ROU asset totaled $439, consisting of $61 added to buildings and $376 added to computers.\\n* Deletions from the ROU asset amounted to $307, with $92 deleted from buildings and $215 deleted from computers.\\n* No impairment loss was recorded (—).\\n* Depreciation expense for the period was $423, comprising $185 for buildings and $234 for computers.\\n* A translation difference of $49 was recorded, primarily affecting vehicles ($35) and computers ($14).\\n* As of March 31, 2024, the balance in the ROU asset account was $6,552.', '**Summary Title:** \"Recurring Operating Utility (ROU) Asset Movement and Depreciation Summary as of March 31, 2023\"\\n\\n\\n\\nThe ROU asset movement and depreciation summary shows the changes in the balance of different categories of assets (Land, Buildings, Vehicles, and Computers) from January 1, 2023 to March 31, 2023.\\n\\nKey points:\\n\\n* The total value of ROU assets as of January 1, 2023 was ₹6,480 crore.\\n* Additions to the assets resulted in an increase of ₹881 crore, while deletions led to a decrease of ₹157 crore.\\n* Depreciation charges totaled ₹355 crore, resulting in a net decrease in asset value.\\n* Translation differences, which are adjustments for foreign currency fluctuations, increased the asset value by ₹33 crore.\\n\\nAs of March 31, 2023, the total value of ROU assets stands at ₹6,882 crore.', 'Here is a summary of the table:\\n\\n\\n\\nThe table shows the changes in Right-of-Use (ROU) assets over a one-year period from April 1, 2023 to March 31, 2024. The ROU assets are categorized into land, buildings, vehicles, and computers.\\n\\n* At the beginning of the period, the total value of ROU assets was $6,882.\\n* Additions of new assets during the period totaled $2,278.\\n* Deletions of old or disposed-of assets resulted in a decrease of $947.\\n* An impairment loss of $88 was recognized, reducing the asset values.\\n* Depreciation expenses of $1,595 were recorded to reflect the decline in value of the assets over time.\\n* A translation difference of $22 was recognized due to changes in exchange rates.\\n\\nAs a result, the total value of ROU assets at the end of the period was $6,552, representing a decrease of $330 from the beginning of the period.', '**Summary Title:** \"Right-of-Use (ROU) Asset Movement and Depreciation Summary\"\\n\\n\\n\\nThe ROU asset movement and depreciation summary reveals the changes in the company\\'s Right-of-Use assets, including additions, deletions, depreciation, and translation differences, from April 1, 2022 to March 31, 2023.\\n\\n* As of April 1, 2022, the total ROU assets stood at ₹4,823 crore, comprising land (₹628 crore), buildings (₹3,711 crore), vehicles (₹16 crore), and computers (₹468 crore).\\n* Additions to ROU assets during the period were primarily in buildings (₹847 crore) and computers (₹2,646 crore), resulting in a total addition of ₹3,501 crore.\\n* Deletions from ROU assets mainly consisted of building deletions (₹45 crore) and computer deletions (₹364 crore), totaling ₹409 crore.\\n* Depreciation expenses for the period were significant, with buildings (₹671 crore), computers (₹499 crore), and vehicles (₹10 crore) contributing to a total depreciation expense of ₹1,186 crore.\\n* Translation differences, which arise from the conversion of foreign currency transactions into Indian rupees, resulted in an addition of ₹153 crore to the ROU assets.\\n\\nAs of March 31, 2023, the total ROU assets stood at ₹6,882 crore, with land (₹623 crore), buildings (₹3,896 crore), vehicles (₹15 crore), and computers (₹2,348 crore) making up this figure.', '**Summary Title:** \"Asat\\'s Lease Liability Evolution: March 31, 2024 vs. March 31, 2023\"\\n\\n\\n\\nAsat\\'s lease liability position has evolved over the year, with some notable changes. As of March 31, 2024, the company had a total lease liability of $8,359, which is a slight decrease from the previous year\\'s figure of $8,299.\\n\\nThe breakdown shows that current lease liabilities decreased by $717 to $1,959 in 2024, while non-current lease liabilities increased by $643 to $6,400. Overall, Asat\\'s lease liability position remains relatively stable, with only a minor adjustment from the previous year.', '', '', '**Summary Title:** Remuneration of Directors and Executive Officers\\n\\n\\n\\nThe tables show the remuneration of whole-time directors, executive officers, non-executive/independent directors, and total remuneration for three months ended March 31, 2024 and 2023, as well as the year ended March 31, 2024 and 2023.\\n\\nFor the three-month period:\\n\\n* Salaries and other short-term employee benefits for whole-time directors and executive officers increased from ₹25 crore in 2023 to ₹30 crore in 2024.\\n* Commission and other benefits for non-executive/independent directors rose from ₹4 crore in 2023 to ₹5 crore in 2024.\\n\\nFor the year ended March 31:\\n\\n* Salaries and other short-term employee benefits for whole-time directors and executive officers increased from ₹111 crore in 2023 to ₹113 crore in 2024.\\n* Commission and other benefits for non-executive/independent directors rose from ₹16 crore in 2023 to ₹17 crore in 2024.\\n\\nThe total remuneration for the year ended March 31, 2024 was ₹130 crore, a slight increase from ₹127 crore in 2023.', \"**Summary of Financial Performance**\\n\\nBased on the provided tables, here is a summary of the financial performance:\\n\\n**Revenue:**\\n\\n* The company's revenue from operations was ₹37,923 crore in the first period and ₹37,441 crore in the second period.\\n* Revenue from various segments was:\\n\\t+ Financial Services: ₹10,010-10,818 crore\\n\\t+ Retail: ₹5,429-5,537 crore\\n\\t+ Communication & Energy, Utilities, Resources and Services: ₹4,666-4,411 crore\\n\\t+ Manufacturing, Hi-Tech, Life Sciences, and All other segments: ₹5,068-4,825 crore\\n\\n**Operating Expenses:**\\n\\n* Identifiable operating expenses were ₹22,325 crore in the first period and ₹21,454 crore in the second period.\\n* Allocated expenses were ₹6,814-6,989 crore.\\n* Segment operating income was ₹8,784-8,998 crore.\\n\\n**Profit:**\\n\\n* Profit before tax was ₹10,240 crore in the first period and ₹8,466 crore in the second period.\\n* Income tax expense was ₹2,265-2,332 crore.\\n* Net profit was ₹7,975 crore in the first period and ₹6,134 crore in the second period.\\n\\n**Depreciation and Amortization:**\\n\\n* Depreciation and amortization expenses were ₹1,163-1,121 crore.\", \"**Summary: Financial Performance of the Company**\\n\\nThe company's financial performance can be summarized as follows:\\n\\n* Revenue from operations increased by 1% to ₹146,767 crore in FY2022 compared to ₹153,670 crore in FY2021.\\n* Identifiable operating expenses decreased by 3% to ₹84,993 crore in FY2022 compared to ₹89,877 crore in FY2021.\\n* Segment operating income increased by 10% to ₹35,130 crore in FY2022 compared to ₹36,425 crore in FY2021.\\n* Profit before tax was ₹33,322 crore in FY2022, a decrease of 7% from ₹35,988 crore in FY2021.\\n* Net profit was ₹24,108 crore in FY2022, a decrease of 9% from ₹26,248 crore in FY2021.\\n* Depreciation and amortization expense increased by 10% to ₹4,225 crore in FY2022 compared to ₹4,678 crore in FY2021.\\n\\nOverall, the company's revenue growth was driven by strong performances in its Manufacturing, Hi-Tech, and Energy segments. However, the increase in identifiable operating expenses and depreciation and amortization expense had a negative impact on the company's profit before tax and net profit.\", \"**Summary: Consolidated Financial Statements for the Year Ended March 31, [Year]**\\n\\nBased on the provided table, here is a summary of the financial performance and position of the company:\\n\\n**Revenue and Gross Profit:**\\nThe company reported revenue from operations of ₹37,923 million and ₹153,670 million for the three months and year ended March 31, 2024, respectively. The gross profit was ₹11,175 million and ₹46,257 million for the same periods.\\n\\n**Operating Expenses and Operating Profit:**\\nThe company incurred operating expenses of ₹3,554 million and ₹14,510 million for the three months and year ended March 31, 2024, respectively. The operating profit was ₹7,621 million and ₹31,747 million for the same periods.\\n\\n**Profit Before Tax and Tax Expense:**\\nThe company reported a profit before tax of ₹10,240 million and ₹35,988 million for the three months and year ended March 31, 2024, respectively. The tax expense was ₹1,173 million and ₹8,390 million for the same periods.\\n\\n**Profit for the Period and Comprehensive Income:**\\nThe company reported a profit for the period of ₹7,975 million and ₹26,248 million for the three months and year ended March 31, 2024, respectively. The comprehensive income was ₹7,823 million and ₹26,768 million for the same periods.\\n\\n**Owners' Equity and Non-Controlling Interests:**\\nThe company reported owners' equity of ₹[amount] million and non-controlling interests of ₹[amount] million at the end of the year ended March 31, 2024.\"]\n",
      "Titles: ['Interim Condensed Consolidated Financial Statements Overview and Notes', '**Summary Title:** Consolidated Balance Sheets as at March 31, 2024 and March 31, 2023\\n\\n\\n\\nThe consolidated balance sheets of [Company Name] show a significant increase in total assets from ₹125.82 crore (March 31, 2023) to ₹137.81', \"**Summary**\\n\\nThe table appears to be presenting the financial statements of a company, specifically the Statement of Comprehensive Income and the Earnings per Equity Share. Here's a breakdown of the main items:\\n\\n* **Total other co\", '\"Reserve Movements as at March 31, 2023\"', '**Summary**\\n\\nThe tables present the cash flow statements of a company for two consecutive years (2023 and 2024). The main components of the statement are:\\n\\n**Cash Flow from Operating Activities:**\\n- Profit for the period increased', \"**Summary Title:** Cash Flow Statement Summary (Financing Activities)\\n\\nHere's a summary of the tables:\\n\\nThe company's financing activities for the period resulted in a net cash outflow of $17,504 and $26,695, respectively. The mai\", '**Summary Title:** \"Purchase Price Allocation for Acquiree\\'s Net Assets and Intangible Assets\"\\n\\n\\n\\nThe table summarizes the purchase price allocation for the acquiree\\'s net assets and intangible assets. The key findings are:\\n\\n* The', 'Based on the table, here is a summary:\\n\\n**Asset Lifespan Summary**\\n\\nThe majority of assets have a lifespan ranging from 3-5 years, with some exceptions. The buildings are expected to last around 22-25 years, while leasehold improv', '**Summary Title:** \"Assets and Depreciation Summary as at January 1, 2024 and March 31, 2024\"\\n\\n\\n\\nThe table shows the gross carrying value and accumulated depreciation of various assets (Land - Freehold, Buildings, Plant and machin', '**Summary Title:** \"Asset Depreciation and Carrying Value as at January 1, 2023 and March 31, 2023\"\\n\\n\\n\\nThe table provides a breakdown of the gross carrying value and accumulated depreciation of different types of assets (land-free', '**Summary Title:** Changes in Gross Carrying Value and Accumulated Depreciation of Assets as at April 1, 2023 to March 31, 2024\\n\\n\\n\\nThe table provides information on the changes in gross carrying value and accumulated depreciation ', '**Summary Title:** \"Property, Plant and Equipment (Gross Carrying Value and Accumulated Depreciation) as at April 1, 2022 and March 31, 2023\"\\n\\n\\n\\nThe table provides information on the gross carrying value and accumulated depreciati', '\"Changes in Carrying Value of Intangible Assets\"', '\"Investment Portfolio as of March 31, 2024 and 2023\"', '**Summary**\\n\\nThe table presents the fair value of various investment classes as at March 31, 2024 and March 31, 2023. The investments are classified into six categories: Liquid mutual fund units, Target maturity fund units, Tax-fr', '**Summary Title:** \"Loans Outstanding as at March 31, 2024 and 2023\"\\n\\n\\n\\nAs of March 31, 2024, the company had total loans outstanding of $282 million, which is a decrease of $46 million compared to the same period in 2023 when tot', '**Summary**\\n\\nThe table presents the financial assets of an entity as at March 31, 2024 and March 31, 2023, categorized into non-current and current assets.\\n\\n**Key Findings:**\\n\\n1. Non-Current Financial Assets:\\n\\t* Total non-current ', '\"Trade Receivables as of March 31, 2024 and 2023\"', '**Summary Title:** Cash and Cash Equivalents Summary as of March 31, 2024\\n\\n\\n\\nThe table below shows the cash and cash equivalents balance as of March 31, 2024.\\n\\n* Balances with banks in current and deposit accounts have increased t', 'The table shows the Non-Current and Current Other Assets of a company as of March 31, 2024, and March 31, 2023.\\n\\n**Non-Current Other Assets:**\\n\\n* The value decreased from ₹2,318 crore to ₹2,121 crore, a decrease of ₹197 crore or 6', '**Summary Title:** Financial Position of [Company Name] as of [Date]\\n\\n\\n\\nThe financial position of [Company Name] as of [Date] is presented below:\\n\\n**Assets:**\\n\\n* Cash and cash equivalents: ₹14,786 (amortized cost)\\n* Investments: ₹', '**Summary Title:** Financial Assets and Liabilities of [Company Name] as of [Date]\\n\\n\\n\\nThe financial assets and liabilities of [Company Name] as of [Date] are presented in the following summary:\\n\\n**Assets:**\\n\\n* Cash and cash equiva', 'Fair Value Measurement of Investments and Derivative Financial Instruments as at March 31, 2024.', '**Summary: Fair Value Measurement of Assets and Liabilities as at March 31, 2023**\\n\\nThe table provides a breakdown of the fair value measurement of assets and liabilities as at March 31, 2023, using Level 1, Level 2, and Level 3 i', '\"Authorized and Issued Equity Shares as at March 31, 2024 and March 31, 2023\"', '\"Share Capital and Amount Held by the Company over Two Consecutive Years\"', 'Dividend Payments by [Company Name]', '**Summary: Equity Settled and Cash Settled RSUs**\\n\\nThis table provides information on equity settled and cash settled restricted stock units (RSUs) granted to Key Management Personnel (KMP) and employees other than KMP for the 201', '**Summary Title:** \"Stock Compensation Expense Granted to KMP and Employees\"\\n\\n\\n\\nThe table shows the stock compensation expense granted to Key Management Personnel (KMP) and employees of the company over three months ended March 31', '\"Assumptions and Calculations for Stock Option Grants\"', \"**Summary**\\n\\nThe table provides information on the company's other financial liabilities as of March 31, 2024 and March 31, 2023.\\n\\n**Key Points:**\\n\\n* Non-current other financial liabilities increased to ₹2,130 crore in 2024 from ₹\", '\"Change in Other Liabilities from March 2023 to March 2024\"', '\"Provisions as at March 31, 2024 and March 31, 2023\"\\n\\n**Summary:**\\n\\nThe table shows the provision details of two periods - March 31, 2024 and March 31, 2023. The provisions are categorized into two main parts: Current Provisions and Others.\\n\\nThe current provisions amount to ₹1,796 crore as at March 31, 2024, which is an increase from ₹1,307 crore as at March 31, 2023. This increase is primarily driven by post-sales client support and other provisions, which also saw a significant jump from ₹1,307 crore to ₹1,796 crore over the same period.', '**Summary Title:** \"Income Tax Expense Summary\"\\n\\nHere is the summary:\\n\\n* The company\\'s income tax expense has increased in both three-month and year-to-date periods.\\n\\t+ Three months ended March 31: Income tax expense decreased by ', 'Revenue Performance of [Company Name] (2023-2024)\\n\\n**Summary:**\\n\\nBased on the provided table, here is a summary of the revenue performance of [Company Name] for the three months ended March 31, 2024, and the year ended December 31, 2024:\\n\\n* Revenue from software services increased by 2.5% to ₹36,064 crore in Q1 FY2024 compared to ₹35,199 crore in Q1 FY2023. For the full year FY2024, revenue from software services grew by 6.0% to ₹145,285 crore compared to ₹137,575 crore in FY2023.\\n* Revenue from products and platforms declined by 17.2% to ₹1,859 crore in Q1 FY2024 compared to ₹2,242 crore in Q1 FY2023. For the full year FY2024, revenue from products and platforms decreased by 8.5% to ₹8,385 crore compared to ₹9,192 crore in FY2023.\\n* Total revenue from operations grew by 1.6% to ₹37,923 crore in Q1 FY2024 compared to ₹37,441 crore in Q1 FY2023. For the full year FY2024, total revenue from operations increased by 4.5% to ₹153,670 crore compared to ₹146,767 crore in FY2023.\\n\\nOverall, [Company Name] reported a moderate increase in total revenue from operations for both the quarter and the year ended December 31, 2024, driven mainly by growth in its software services segment.', 'The table provides revenue data by geography for two fiscal years (2023 and 2024) and three months ended March 31, 2024.\\n\\nKey points:\\n\\n* Revenues in North America remained relatively stable between 2023 and 2024, with a slight inc', 'Financial Performance - Interest Income and Other Income', '**Summary Title:** \"Expenses Summary for Three Months and Year Ended March 31, [Year]\"\\n\\n\\n\\nThe expenses of the company for the three months ended March 31, [Year], were:\\n\\n* Employee benefit expenses: ₹20,393 (2024) / ₹20,311 (2023)', '**Summary of Changes in Right-of-Use (ROU) Asset**\\n\\nBased on the provided table, here is a summary of the changes in the ROU asset account:\\n\\n* As of January 1, 2024, the balance was $6,892.\\n* Additions to the ROU asset totaled $43', '**Summary Title:** \"Recurring Operating Utility (ROU) Asset Movement and Depreciation Summary as of March 31, 2023\"\\n\\n\\n\\nThe ROU asset movement and depreciation summary shows the changes in the balance of different categories of ass', 'Changes in Right-of-Use (ROU) Assets for the Year Ended March 31, 2024', '**Summary Title:** \"Right-of-Use (ROU) Asset Movement and Depreciation Summary\"\\n\\n\\n\\nThe ROU asset movement and depreciation summary reveals the changes in the company\\'s Right-of-Use assets, including additions, deletions, depreciat', '**Summary Title:** \"Asat\\'s Lease Liability Evolution: March 31, 2024 vs. March 31, 2023\"\\n\\n\\n\\nAsat\\'s lease liability position has evolved over the year, with some notable changes. As of March 31, 2024, the company had a total lease ', 'Contingent Liabilities and Claims against the Group as of March 31, 2024\\n\\n**Summary:**\\n\\nAs of March 31, 2024, the contingent liabilities of the group amount to ₹3,583 crore, a decrease from ₹4,762 crore in the previous year.', '\"Capital Contracts and Other Commitments as of March 2024\"\\n\\n**Summary:**\\n\\nAs of March 2024, the estimated amount of contracts remaining to be executed on capital contracts and not provided for (net of advances and deposits) stands at ₹780 crore, a decrease from ₹959 crore in March 2023. Additionally, other commitments have reduced to ₹79 crore from ₹92 crore over the same period.', '**Summary Title:** Remuneration of Directors and Executive Officers\\n\\n\\n\\nThe tables show the remuneration of whole-time directors, executive officers, non-executive/independent directors, and total remuneration for three months ende', \"**Summary of Financial Performance**\\n\\nBased on the provided tables, here is a summary of the financial performance:\\n\\n**Revenue:**\\n\\n* The company's revenue from operations was ₹37,923 crore in the first period and ₹37,441 crore in \", \"**Summary: Financial Performance of the Company**\\n\\nThe company's financial performance can be summarized as follows:\\n\\n* Revenue from operations increased by 1% to ₹146,767 crore in FY2022 compared to ₹153,670 crore in FY2021.\\n* Id\", '**Summary: Consolidated Financial Statements for the Year Ended March 31, [Year]**\\n\\nBased on the provided table, here is a summary of the financial performance and position of the company:\\n\\n**Revenue and Gross Profit:**\\nThe compan']\n"
     ]
    }
   ],
   "source": [
    "# Initialize lists to store summaries and titles\n",
    "summaries = []\n",
    "titles = []\n",
    "\n",
    "# Extract summary and title from each entry in the response\n",
    "for entry in response:\n",
    "    # Check if both Summary and Title delimiters exist\n",
    "    if '**Summary:**' in entry and '**Title:**' in entry:\n",
    "        # Split the entry at the '**Title:**' delimiter\n",
    "        parts = entry.split('**Title:**')\n",
    "        \n",
    "        # Extract the summary (before '**Title:**')\n",
    "        summary = parts[0].replace('**Summary:**', '').strip()\n",
    "        \n",
    "        # Extract the title (after '**Title:**')\n",
    "        title = parts[1].strip()\n",
    "        \n",
    "        # Append to lists\n",
    "        summaries.append(summary)\n",
    "        titles.append(title)\n",
    "    else:\n",
    "        # Handle the case where the format is unexpected (missing title)\n",
    "        summary = entry.replace('**Summary:**', '').strip()\n",
    "        # Take the first 200 characters of the summary if no title is available\n",
    "        title = summary[:230] if summary else \"No title available\"\n",
    "        \n",
    "        summaries.append(summary)\n",
    "        titles.append(title)\n",
    "\n",
    "# Now `summaries` and `titles` contain the extracted values\n",
    "print(\"Summaries:\", summaries)\n",
    "print(\"Titles:\", titles)\n"
   ]
  },
  {
   "cell_type": "code",
   "execution_count": 188,
   "metadata": {},
   "outputs": [
    {
     "data": {
      "text/plain": [
       "49"
      ]
     },
     "execution_count": 188,
     "metadata": {},
     "output_type": "execute_result"
    }
   ],
   "source": [
    "len(summaries)\n",
    "len(titles)"
   ]
  },
  {
   "cell_type": "markdown",
   "metadata": {},
   "source": [
    "# process the data"
   ]
  },
  {
   "cell_type": "code",
   "execution_count": 189,
   "metadata": {},
   "outputs": [],
   "source": [
    "from typing import Any\n",
    "from pydantic import BaseModel\n",
    "\n",
    "class Element(BaseModel):\n",
    "    type: str\n",
    "    page_content: Any\n",
    "    title: str\n",
    "\n",
    "# # Categorize by type\n",
    "# categorized_elements = []\n",
    "\n",
    "# for element in elements:\n",
    "#         if \"unstructured.documents.elements.Table\" in str(type(element)):\n",
    "#             categorized_elements.append(Element(type=\"table\",year=\"2024\",title = title , page_content=str(element.metadata.text_as_html)))\n"
   ]
  },
  {
   "cell_type": "code",
   "execution_count": 190,
   "metadata": {},
   "outputs": [],
   "source": [
    "# categorized_elements = []\n",
    "\n",
    "# # Assuming `elements` is a list of your elements and titles should be assigned from the titles list\n",
    "# for i, element in enumerate(elements):\n",
    "#     # Check if the element is of type 'Table' (or other types you want to categorize)\n",
    "#     if \"unstructured.documents.elements.Table\" in str(type(element)):\n",
    "#         # Extract the title from the titles list, using `i` to index the correct title\n",
    "#         title = titles[i] if i < len(titles) else \"Default Title\"  # Fallback if the index is out of range\n",
    "        \n",
    "#         # Create an instance of Element and append to the categorized_elements list\n",
    "#         categorized_elements.append(\n",
    "#             Element(\n",
    "#                 type=\"table\",\n",
    "#                 title=str(title),\n",
    "#                 page_content=str(element.metadata.text_as_html)  # Extract HTML content as a string\n",
    "#             )\n",
    "#         )\n",
    "\n"
   ]
  },
  {
   "cell_type": "code",
   "execution_count": 191,
   "metadata": {},
   "outputs": [],
   "source": [
    "\n",
    "categorized_elements = []\n",
    "\n",
    "assert len(titles) == len(table_html)\n",
    "\n",
    "# Iterate through the table_html list\n",
    "for i, element in enumerate(table_html):\n",
    "    # Retrieve the corresponding title from the titles list\n",
    "    title = titles[i] if i < len(titles) else \"Default Title\"\n",
    "\n",
    "    # Append the Element instance to the categorized_elements list\n",
    "    categorized_elements.append(\n",
    "        Element(\n",
    "            type=\"table\",\n",
    "            title=str(title),         \n",
    "            page_content=str(element)  \n",
    "        )\n",
    "    )\n"
   ]
  },
  {
   "cell_type": "code",
   "execution_count": 192,
   "metadata": {},
   "outputs": [
    {
     "data": {
      "text/plain": [
       "49"
      ]
     },
     "execution_count": 192,
     "metadata": {},
     "output_type": "execute_result"
    }
   ],
   "source": [
    "len(categorized_elements)\n"
   ]
  },
  {
   "cell_type": "markdown",
   "metadata": {},
   "source": [
    "# store the summaries in the vectorDB"
   ]
  },
  {
   "cell_type": "markdown",
   "metadata": {},
   "source": [
    "Chroma is vector store, it is used for storing and retriveing vector embeedings. \n",
    "\n",
    "Hew does chroma DB work\n",
    "1. Datasttucted \" organises data in a structured format optimized\n",
    "2. storage\n",
    "3. indesing\n",
    "4. querying\n",
    "5. analysis\n",
    "\n",
    "- InMemoryStore stores the raw text, tables\n",
    "- vectorstore stores the embedded summaries"
   ]
  },
  {
   "cell_type": "code",
   "execution_count": 193,
   "metadata": {},
   "outputs": [
    {
     "data": {
      "text/plain": [
       "ChatOllama(model='llama3:latest')"
      ]
     },
     "execution_count": 193,
     "metadata": {},
     "output_type": "execute_result"
    }
   ],
   "source": [
    "llm"
   ]
  },
  {
   "cell_type": "code",
   "execution_count": 194,
   "metadata": {},
   "outputs": [],
   "source": [
    "# The vectorstore to use to index the child chunks\n",
    "vectorstore = Chroma(\n",
    "    collection_name=\"summaries\",\n",
    "    embedding_function=OllamaEmbeddings(model=model),\n",
    "    persist_directory=\"./chroma_data\",\n",
    ")\n"
   ]
  },
  {
   "cell_type": "code",
   "execution_count": 195,
   "metadata": {},
   "outputs": [],
   "source": [
    "# The storage layer for the parent documents\n",
    "store = InMemoryStore()\n",
    "id_key = \"doc_id\""
   ]
  },
  {
   "cell_type": "code",
   "execution_count": 196,
   "metadata": {},
   "outputs": [],
   "source": [
    "# The retriever (empty to start)\n",
    "retriever = MultiVectorRetriever(\n",
    "    vectorstore=vectorstore,\n",
    "    docstore=store,\n",
    "    id_key=id_key,\n",
    ")"
   ]
  },
  {
   "cell_type": "code",
   "execution_count": null,
   "metadata": {},
   "outputs": [],
   "source": [
    "table_ids = [str(uuid.uuid4()) for _ in categorized_elements]\n",
    "summary_tables = [\n",
    "    Document(page_content=s, metadata={id_key: table_ids[i], \"title\": titles[i]})\n",
    "    for i, s in enumerate(summaries)\n",
    "]"
   ]
  },
  {
   "cell_type": "code",
   "execution_count": 202,
   "metadata": {},
   "outputs": [
    {
     "data": {
      "text/plain": [
       "[Document(metadata={'doc_id': '158a5fe6-679c-428a-873f-3b0abb8b1535', 'title': 'Interim Condensed Consolidated Financial Statements Overview and Notes'}, page_content='The table provides an overview of the company\\'s financial statements, including its condensed consolidated balance sheet, statement of profit and loss, changes in equity, and cash flows. The \"Overview\" section covers the basis of preparation of financial statements, consolidation, use of estimates and judgments, and critical accounting estimates and judgments.\\n\\nThe \"Notes to the Interim Condensed Consolidated Financial Statements\" section provides additional information on various topics, including:\\n\\n* Business combinations\\n* Property, plant, and equipment\\n* Goodwill and other intangible assets\\n* Investments\\n* Loans\\n* Other financial assets and liabilities\\n* Trade receivables and cash and cash equivalents\\n* Other assets and equity\\n* Financial instruments\\n* Provisions, income taxes, revenue from operations, and expenses\\n\\nThe notes also cover leases, contingent liabilities and commitments, related party transactions, segment reporting, and function-wise classification of the statement of profit and loss.'),\n",
       " Document(metadata={'doc_id': '56444d07-3a73-40cf-a27f-3162e500e0ff', 'title': '**Summary Title:** Consolidated Balance Sheets as at March 31, 2024 and March 31, 2023\\n\\n\\n\\nThe consolidated balance sheets of [Company Name] show a significant increase in total assets from ₹125.82 crore (March 31, 2023) to ₹137.81'}, page_content=\"**Summary Title:** Consolidated Balance Sheets as at March 31, 2024 and March 31, 2023\\n\\n\\n\\nThe consolidated balance sheets of [Company Name] show a significant increase in total assets from ₹125.82 crore (March 31, 2023) to ₹137.81 crore (March 31, 2024). The main contributors to this growth are:\\n\\n* Non-current assets, which increased by ₹7.89 crore (15.9%) to ₹48.38 billion\\n* Current assets, which rose by ₹18.55 crore (26.2%) to ₹89.43 billion\\n\\nThe company's equity attributable to equity holders of the Company grew from ₹75.41 crore to ₹88.12 crore, an increase of ₹12.71 crore (16.8%). Non-controlling interests also increased from ₹0.39 crore to ₹0.35 crore.\\n\\nLiabilities also increased, with non-current liabilities rising by ₹1.24 crore (11.4%) to ₹10.56 billion and current liabilities increasing by ₹0.94 crore (2.4%) to ₹38.79 billion.\\n\\nOverall, the company's financial position has strengthened over the past year, with a significant increase in total assets and equity.\"),\n",
       " Document(metadata={'doc_id': '0509211b-88aa-4597-9cea-c0ef812c6541', 'title': \"**Summary**\\n\\nThe table appears to be presenting the financial statements of a company, specifically the Statement of Comprehensive Income and the Earnings per Equity Share. Here's a breakdown of the main items:\\n\\n* **Total other co\"}, page_content='**Summary**\\n\\nThe table appears to be presenting the financial statements of a company, specifically the Statement of Comprehensive Income and the Earnings per Equity Share. Here\\'s a breakdown of the main items:\\n\\n* **Total other comprehensive income/(loss), net of tax**: This item shows a decrease in comprehensive income for both 2022 and 2021, with significant amounts in 2020.\\n* **Profit attributable to: Owners of the Company** and **Non-controlling interests**: These items represent the profit distributed to shareholders (Owners) and minority interest holders (Non-controlling interests), respectively. The company reported higher profits in 2020 compared to the other two years.\\n* **Earnings per equity share**: This section presents the basic and diluted earnings per share, along with the weighted average number of shares used in computing these metrics.\\n\\n**Title**\\n\\n\"Consolidated Statement of Comprehensive Income and Earnings per Equity Share\"\\n\\nNote that this title is a suggested interpretation based on the table\\'s contents. If there are any specific instructions or context regarding the title, please provide those details for me to refine my response.'),\n",
       " Document(metadata={'doc_id': '1ff938ca-8a4c-4ed9-9e89-53b40bee52f6', 'title': '\"Reserve Movements as at March 31, 2023\"'}, page_content=\"Based on the table, I'll provide a summary and a title.\\n\\n\\n\\nThe table presents a breakdown of the company's reserve movements as at March 31, 2023. The main items include:\\n\\n* Amounts transferred to capital redemption reserve upon buyback: ₹30\\n* Transfers to Special Economic Zone Re-investment reserve: ₹3,139 (outflow) and ₹1,464 (inflow)\\n* Transfer to legal reserve: ₹3\\n* Transferred on account of exercise of stock options: ₹291\\n* Income tax benefit arising from exercise of stock options: ₹51\\n* Dividends: outflow of ₹13,632\\n* Dividends paid to non-controlling interest of subsidiary: outflow of ₹22\\n* Transfers from Special Economic Zone Re-investment reserve on utilization: inflow of ₹1,464\\n\\nThe balance as at March 31, 2023, is summarized below:\"),\n",
       " Document(metadata={'doc_id': 'ab65173b-eeb7-4645-a07d-171939d8ffd9', 'title': '**Summary**\\n\\nThe tables present the cash flow statements of a company for two consecutive years (2023 and 2024). The main components of the statement are:\\n\\n**Cash Flow from Operating Activities:**\\n- Profit for the period increased'}, page_content=\"**Summary**\\n\\nThe tables present the cash flow statements of a company for two consecutive years (2023 and 2024). The main components of the statement are:\\n\\n**Cash Flow from Operating Activities:**\\n- Profit for the period increased by ₹2,140 crore to ₹26,248 crore.\\n- Adjustments to reconcile net profit to net cash provided by operating activities include changes in income tax, depreciation, amortization, finance cost, loss under credit loss model, impairment recognized, and other adjustments.\\n- Cash generated from operations was ₹34,441 crore in 2024, a significant increase from ₹31,261 crore in 2023.\\n\\n**Cash Flow from Investing Activities:**\\n- The company invested in property, plant, and equipment, intangibles, and deposits placed with the corporation.\\n- It also acquired investments, mutual funds, and government securities, resulting in a net outflow of ₹5,009 crore in 2024.\\n\\nThe company's cash flow position is influenced by its operating activities, which generate significant cash, while investing activities result in a net outflow.\"),\n",
       " Document(metadata={'doc_id': '6ba8e651-0439-4f45-9cc7-1adf222fc0d3', 'title': \"**Summary Title:** Cash Flow Statement Summary (Financing Activities)\\n\\nHere's a summary of the tables:\\n\\nThe company's financing activities for the period resulted in a net cash outflow of $17,504 and $26,695, respectively. The mai\"}, page_content=\"**Summary Title:** Cash Flow Statement Summary (Financing Activities)\\n\\nHere's a summary of the tables:\\n\\nThe company's financing activities for the period resulted in a net cash outflow of $17,504 and $26,695, respectively. The main components driving this outflow were:\\n\\n* Payment of lease liabilities: $2,024 and $1,231\\n* Payment of dividends: $(14,692) and $(13,631)\\n* Payment towards buyback of shares pertaining to non-controlling interest of subsidiary: $(18) and $0\\n* Buyback of equity shares including transaction cost and tax on buyback: $(11,499) and $(nil)\\n\\nThese outflows were partially offset by:\\n\\n* Shares issued on exercise of employee stock options: $35 and $nil\\n* Other receipts: $132 and $nil\\n\\nThe net cash outflow from financing activities was financed through the company's existing cash and cash equivalents. The restricted cash balance increased to $348 at the end of the period, up from $362 at the beginning of the period.\\n\\n**Cash and Cash Equivalents:** The opening cash and cash equivalents balance was $12,173 and $17,472, respectively. After the net cash outflow from financing activities, the closing cash and cash equivalents balance was $14,786 and $12,173, respectively.\"),\n",
       " Document(metadata={'doc_id': '1fc131cf-5153-412a-8b99-2569b2979385', 'title': '**Summary Title:** \"Purchase Price Allocation for Acquiree\\'s Net Assets and Intangible Assets\"\\n\\n\\n\\nThe table summarizes the purchase price allocation for the acquiree\\'s net assets and intangible assets. The key findings are:\\n\\n* The'}, page_content='**Summary Title:** \"Purchase Price Allocation for Acquiree\\'s Net Assets and Intangible Assets\"\\n\\n\\n\\nThe table summarizes the purchase price allocation for the acquiree\\'s net assets and intangible assets. The key findings are:\\n\\n* The total purchase price is ₹981 crore, with a significant portion allocated to goodwill (₹630 crore).\\n* The intangible assets have a fair value of ₹248 crore, comprising:\\n\\t+ Customer contracts and relationships: ₹274 crore\\n\\t+ Vendor relationships: ₹30 crore\\n\\t+ Brand: ₹24 crore\\n\\t+ Deferred tax liabilities on intangible assets: (₹80) crore (i.e., a negative amount, indicating a liability)\\n* The total carrying amount of the acquiree\\'s net assets is ₹103 crore.\\n* The fair value adjustments result in a purchase price allocation of ₹351 crore for the intangible assets and net assets.'),\n",
       " Document(metadata={'doc_id': 'd8e4b537-ed57-4e39-a2fc-a36a4c5b4aef', 'title': 'Based on the table, here is a summary:\\n\\n**Asset Lifespan Summary**\\n\\nThe majority of assets have a lifespan ranging from 3-5 years, with some exceptions. The buildings are expected to last around 22-25 years, while leasehold improv'}, page_content='Based on the table, here is a summary:\\n\\n**Asset Lifespan Summary**\\n\\nThe majority of assets have a lifespan ranging from 3-5 years, with some exceptions. The buildings are expected to last around 22-25 years, while leasehold improvements have an uncertain lifespan tied to their usefulness.\\n\\nAs for the title, I suggest:\\n\\n**\"Estimated Asset Lifespans for Accounting and Financial Planning Purposes\"**\\n\\nLet me know if you\\'d like me to make any changes!'),\n",
       " Document(metadata={'doc_id': 'f1d3b975-475d-4e79-b42a-28b0fd13fca9', 'title': '**Summary Title:** \"Assets and Depreciation Summary as at January 1, 2024 and March 31, 2024\"\\n\\n\\n\\nThe table shows the gross carrying value and accumulated depreciation of various assets (Land - Freehold, Buildings, Plant and machin'}, page_content='**Summary Title:** \"Assets and Depreciation Summary as at January 1, 2024 and March 31, 2024\"\\n\\n\\n\\nThe table shows the gross carrying value and accumulated depreciation of various assets (Land - Freehold, Buildings, Plant and machinery, Office Equipment, Computer equipment, Furniture and fixtures, Vehicles) as at January 1, 2024 and March 31, 2024. The additions, deletions, and translation differences for each asset category are also provided.\\n\\n**Key Points:**\\n\\n* Gross carrying value of assets increased from ₹30,051 (as at January 1, 2024) to ₹30,587 (as at March 31, 2024).\\n* Accumulated depreciation increased from ₹17,898 (as at January 1, 2024) to ₹18,217 (as at March 31, 2024).\\n* The carrying value of assets (gross carrying value minus accumulated depreciation) increased from ₹12,153 (as at January 1, 2024) to ₹12,370 (as at March 31, 2024).'),\n",
       " Document(metadata={'doc_id': 'd0fc99be-ea6a-4cee-a711-c187e20e1f99', 'title': '**Summary Title:** \"Asset Depreciation and Carrying Value as at January 1, 2023 and March 31, 2023\"\\n\\n\\n\\nThe table provides a breakdown of the gross carrying value and accumulated depreciation of different types of assets (land-free'}, page_content='**Summary Title:** \"Asset Depreciation and Carrying Value as at January 1, 2023 and March 31, 2023\"\\n\\n\\n\\nThe table provides a breakdown of the gross carrying value and accumulated depreciation of different types of assets (land-freehold, buildings, plant and machinery, office equipment, computer equipment, furniture and fixtures, vehicles) as at January 1, 2023 and March 31, 2023.\\n\\nKey points:\\n\\n* The gross carrying value of all assets increased from ₹30.54 crore as at January 1, 2023 to ₹30.09 crore as at March 31, 2023.\\n* Accumulated depreciation also increased during the same period, from ₹17.47 crore to ₹16.74 crore.\\n* Depreciation expenses for the period were ₹670 lakh.\\n* The carrying value of assets as at January 1, 2023 was ₹13.07 crore, which increased to ₹13.35 crore as at March 31, 2023.'),\n",
       " Document(metadata={'doc_id': '5e91a5d2-69e4-4d37-8b4b-b314277f6b04', 'title': '**Summary Title:** Changes in Gross Carrying Value and Accumulated Depreciation of Assets as at April 1, 2023 to March 31, 2024\\n\\n\\n\\nThe table provides information on the changes in gross carrying value and accumulated depreciation '}, page_content='**Summary Title:** Changes in Gross Carrying Value and Accumulated Depreciation of Assets as at April 1, 2023 to March 31, 2024\\n\\n\\n\\nThe table provides information on the changes in gross carrying value and accumulated depreciation of various assets from April 1, 2023 to March 31, 2024.\\n\\n**Key Points:**\\n\\n* Gross carrying value increased by ₹1,761 (from ₹30,089 to ₹30,587) due to additions and minor translation differences.\\n* Accumulated depreciation increased by ₹1,474 (from ₹16,743 to ₹18,217) primarily due to depreciation charges of ₹2,685.\\n* The carrying value of assets decreased by ₹976 (from ₹13,346 to ₹12,370) due to the increase in accumulated depreciation.\\n\\nNote: ₹ represents Indian Rupees.'),\n",
       " Document(metadata={'doc_id': '0854d643-3298-44d0-9d0c-7a5d3c1cf2c8', 'title': '**Summary Title:** \"Property, Plant and Equipment (Gross Carrying Value and Accumulated Depreciation) as at April 1, 2022 and March 31, 2023\"\\n\\n\\n\\nThe table provides information on the gross carrying value and accumulated depreciati'}, page_content='**Summary Title:** \"Property, Plant and Equipment (Gross Carrying Value and Accumulated Depreciation) as at April 1, 2022 and March 31, 2023\"\\n\\n\\n\\nThe table provides information on the gross carrying value and accumulated depreciation of property, plant, and equipment as at April 1, 2022, and March 31, 2023. The main points are:\\n\\n* Gross carrying value:\\n\\t+ As at April 1, 2022: ₹29,375 crore\\n\\t+ Additions: ₹14 crore (Business Combination) and ₹2,830 crore (other additions)\\n\\t+ Deletions: ₹2,197 crore\\n\\t+ Translation difference: ₹67 crore\\n\\t+ As at March 31, 2023: ₹30,089 crore\\n* Accumulated depreciation:\\n\\t+ As at April 1, 2022: ₹16,300 crore\\n\\t+ Depreciation: ₹2,577 crore\\n\\t+ Accumulated depreciation on deletions: ₹2,182 crore\\n\\t+ Translation difference: ₹48 crore\\n\\t+ As at March 31, 2023: ₹16,743 crore\\n* Carrying value:\\n\\t+ As at April 1, 2022: ₹13,075 crore\\n\\t+ As at March 31, 2023: ₹13,346 crore'),\n",
       " Document(metadata={'doc_id': 'fe6aed1b-fe9a-4b15-a623-c5cdb2029edb', 'title': '\"Changes in Carrying Value of Intangible Assets\"'}, page_content='Based on the table, I generated a summary as follows:\\n\\n The carrying value of intangible assets increased by $108 (from $6,195 to $7,303) between March 31, 2023 and March 31, 2024. This increase was primarily driven by the translation differences, which added $55 to the carrying value. Goodwill on acquisitions also contributed to the increase in the previous year.'),\n",
       " Document(metadata={'doc_id': '2921ffaa-be94-4442-9486-7a444b605730', 'title': '\"Investment Portfolio as of March 31, 2024 and 2023\"'}, page_content=\"The table provides a breakdown of the company's non-current and current investments as of March 31, 2024, and March 31, 2023.\\n\\n**Non-Current Investments:**\\n\\n* The total value of non-current investments increased from ₹12,569 million in 2023 to ₹11,708 million in 2024.\\n* Quoted investments (carried at amortized cost) decreased by ₹37 million, while unquoted investments increased by ₹5,650 million.\\n* Fair value through other comprehensive income (FVOCI) investments increased by ₹1,141 million, with a significant increase in government securities.\\n\\n**Current Investments:**\\n\\n* The total value of current investments increased from ₹6,909 million in 2023 to ₹12,915 million in 2024.\\n* Unquoted investments (carried at FVOCI) increased by ₹7,296 million, driven primarily by commercial papers and certificates of deposit.\\n* Fair value through profit or loss (FVPL) investments increased by ₹2,369 million.\"),\n",
       " Document(metadata={'doc_id': '3a7816ad-3606-4319-9365-71aa88c7fad6', 'title': '**Summary**\\n\\nThe table presents the fair value of various investment classes as at March 31, 2024 and March 31, 2023. The investments are classified into six categories: Liquid mutual fund units, Target maturity fund units, Tax-fr'}, page_content='**Summary**\\n\\nThe table presents the fair value of various investment classes as at March 31, 2024 and March 31, 2023. The investments are classified into six categories: Liquid mutual fund units, Target maturity fund units, Tax-free bonds and government bonds, Non-convertible debentures, Government securities, and Others.\\n\\n**Key Points:**\\n\\n* Total fair value of investments increased from ₹19,706 crore in 2023 to ₹24,837 crore in 2024.\\n* Liquid mutual fund units and Target maturity fund units saw significant increases in fair value, from ₹975 crore to ₹2,615 crore and from ₹402 crore to ₹431 crore, respectively.\\n* Non-convertible debentures and Government securities had the highest fair values at ₹4,179 crore and ₹7,362 crore, respectively.\\n\\n**Title:** Fair Value of Investments as at March 31, 2024 and March 31, 2023'),\n",
       " Document(metadata={'doc_id': '27aab8e8-0fc4-438a-890c-6c886b9d8a95', 'title': '**Summary Title:** \"Loans Outstanding as at March 31, 2024 and 2023\"\\n\\n\\n\\nAs of March 31, 2024, the company had total loans outstanding of $282 million, which is a decrease of $46 million compared to the same period in 2023 when tot'}, page_content='**Summary Title:** \"Loans Outstanding as at March 31, 2024 and 2023\"\\n\\n\\n\\nAs of March 31, 2024, the company had total loans outstanding of $282 million, which is a decrease of $46 million compared to the same period in 2023 when total loans stood at $328 million.\\n\\nThe breakdown of non-current loans shows that Loans considered good - Unsecured and Other loans (including Loans to employees) decreased by $5 million from $39 million in 2023 to $34 million in 2024. The Loans credit impaired - Unsecured also decreased by $1 million from $2 million in 2023 to $1 million in 2024.\\n\\nFor current loans, the company had total loans outstanding of $248 million as at March 31, 2024, which is a decrease of $41 million compared to the same period in 2023 when total current loans stood at $289 million. The Loans considered good - Unsecured and Other loans (including Loans to employees) also decreased by $41 million from $289 million in 2023 to $248 million in 2024.'),\n",
       " Document(metadata={'doc_id': '33b1cfee-b507-4c78-b4cb-90a8c47c1ad8', 'title': '**Summary**\\n\\nThe table presents the financial assets of an entity as at March 31, 2024 and March 31, 2023, categorized into non-current and current assets.\\n\\n**Key Findings:**\\n\\n1. Non-Current Financial Assets:\\n\\t* Total non-current '}, page_content='**Summary**\\n\\nThe table presents the financial assets of an entity as at March 31, 2024 and March 31, 2023, categorized into non-current and current assets.\\n\\n**Key Findings:**\\n\\n1. Non-Current Financial Assets:\\n\\t* Total non-current other financial assets increased from $2,798 in 2023 to $3,105 in 2024.\\n\\t* The main components of non-current financial assets are security deposits ($259 in 2024), unbilled revenues ($1,677 in 2024), and others ($1,119 in 2024).\\n2. Current Financial Assets:\\n\\t* Total current other financial assets increased from $11,604 in 2023 to $12,085 in 2024.\\n\\t* The main components of current financial assets are unbilled revenues ($7,923 in 2024), restricted deposits ($2,535 in 2024), and others ($925 in 2024).\\n\\n**Title:** Financial Assets as at March 31, 2024 and March 31, 2023'),\n",
       " Document(metadata={'doc_id': 'a2fb5268-597a-4140-8c32-5ef466e1e574', 'title': '\"Trade Receivables as of March 31, 2024 and 2023\"'}, page_content='Based on the table, here is a summary:\\n\\n The total trade receivables as of March 31, 2024 are ₹30,193 crore, which represents an increase of ₹4,769 crore compared to March 31, 2023 when it was ₹25,424 crore. The amount considered good and unsecured has increased by ₹4,669 crore from ₹25,965 crore in 2023 to ₹30,193 crore in 2024.'),\n",
       " Document(metadata={'doc_id': '63fb43bf-f4b1-4fdb-a94b-abf0409014f1', 'title': '**Summary Title:** Cash and Cash Equivalents Summary as of March 31, 2024\\n\\n\\n\\nThe table below shows the cash and cash equivalents balance as of March 31, 2024.\\n\\n* Balances with banks in current and deposit accounts have increased t'}, page_content='**Summary Title:** Cash and Cash Equivalents Summary as of March 31, 2024\\n\\n\\n\\nThe table below shows the cash and cash equivalents balance as of March 31, 2024.\\n\\n* Balances with banks in current and deposit accounts have increased to ₹14,786 crore from ₹10,026 crore as of March 31, 2023.\\n* Deposits with financial institutions have decreased to zero from ₹2,147 crore as of March 31, 2023.\\n* Total cash and cash equivalents have increased to ₹14,786 crore from ₹12,173 crore as of March 31, 2023.\\n* Balances with banks in unpaid dividend accounts remained unchanged at ₹37 crore.\\n* Deposits with more than 12 months maturity decreased to ₹57 crore from ₹833 crore as of March 31, 2023.'),\n",
       " Document(metadata={'doc_id': 'df4ebae1-0ae3-4fd1-8ca4-4609bdcab399', 'title': 'The table shows the Non-Current and Current Other Assets of a company as of March 31, 2024, and March 31, 2023.\\n\\n**Non-Current Other Assets:**\\n\\n* The value decreased from ₹2,318 crore to ₹2,121 crore, a decrease of ₹197 crore or 6'}, page_content='The table shows the Non-Current and Current Other Assets of a company as of March 31, 2024, and March 31, 2023.\\n\\n**Non-Current Other Assets:**\\n\\n* The value decreased from ₹2,318 crore to ₹2,121 crore, a decrease of ₹197 crore or 6.8%.\\n* The main components are:\\n\\t+ Capital advances: ₹155 crore (down from ₹159 crore)\\n\\t+ Advances other than capital advances: Not disclosed\\n\\t+ Others: ₹673 crore (down from ₹684 crore), including withholding taxes and others, unbilled revenues, defined benefit plan assets, and prepaid expenses.\\n* The Deferred Contract Cost decreased by ₹62 crore, from ₹652 crore to ₹687 crore.\\n\\n**Current Other Assets:**\\n\\n* The value decreased from ₹14,476 crore to ₹12,808 crore, a decrease of ₹668 crore or 4.6%.\\n* The main components are:\\n\\t+ Advances other than capital advances: ₹356 crore (up from ₹202 crore)\\n\\t+ Others: ₹4,845 crore (down from ₹6,972 crore), including unbilled revenues, withholding taxes and others, prepaid expenses, and Deferred Contract Cost.\\n* The Deferred Contract Cost decreased by ₹653 crore, from ₹853 crore to ₹200 crore.\\n\\n**Total Other Assets:**\\n\\n* The value decreased from ₹16,794 crore to ₹14,929 crore, a decrease of ₹1,865 crore or 11.1%.'),\n",
       " Document(metadata={'doc_id': '4553770d-813f-4c9f-a0a0-4846a58c7d28', 'title': '**Summary Title:** Financial Position of [Company Name] as of [Date]\\n\\n\\n\\nThe financial position of [Company Name] as of [Date] is presented below:\\n\\n**Assets:**\\n\\n* Cash and cash equivalents: ₹14,786 (amortized cost)\\n* Investments: ₹'}, page_content='**Summary Title:** Financial Position of [Company Name] as of [Date]\\n\\n\\n\\nThe financial position of [Company Name] as of [Date] is presented below:\\n\\n**Assets:**\\n\\n* Cash and cash equivalents: ₹14,786 (amortized cost)\\n* Investments: ₹3,305 (fair value through profit or loss) + ₹206 (fair value through OCI) = ₹3,511\\n* Non-current assets:\\n\\t+ Tax-free bonds and government bonds: ₹1,759 (amortized cost)\\n\\t+ Liquid mutual fund units: ₹2,615 (fair value)\\n\\t+ Target maturity fund units: ₹431 (fair value)\\n\\t+ Non-convertible debentures: ₹4,179 (amortized cost)\\n\\t+ Government securities: ₹7,362 (amortized cost)\\n\\t+ Commercial papers: ₹4,830 (amortized cost)\\n\\t+ Certificates of deposit: ₹3,043 (amortized cost)\\n\\t+ Other investments: ₹198 (fair value) = ₹85,074 (total carrying value)\\n\\n**Liabilities:**\\n\\n* Trade payables: ₹3,956\\n* Lease liabilities: ₹8,359\\n* Financial liability under option arrangements: ₹597 (fair value)\\n* Other financial liabilities: ₹15,781 (amortized cost) = ₹28,693 (total carrying value)\\n\\nThe total carrying value of assets is ₹85,074 and the total carrying value of liabilities is ₹28,693. The net asset position of [Company Name] as of [Date] is therefore ₹56,381.'),\n",
       " Document(metadata={'doc_id': '842a58fb-99c6-48a2-8e38-f92323e45bb1', 'title': '**Summary Title:** Financial Assets and Liabilities of [Company Name] as of [Date]\\n\\n\\n\\nThe financial assets and liabilities of [Company Name] as of [Date] are presented in the following summary:\\n\\n**Assets:**\\n\\n* Cash and cash equiva'}, page_content='**Summary Title:** Financial Assets and Liabilities of [Company Name] as of [Date]\\n\\n\\n\\nThe financial assets and liabilities of [Company Name] as of [Date] are presented in the following summary:\\n\\n**Assets:**\\n\\n* Cash and cash equivalents: ₹12,173 crore\\n* Investments: ₹3,920 crore (including equity and preference securities, tax-free bonds, government bonds, liquid mutual fund units, target maturity fund units, non-convertible debentures, government securities, commercial papers, certificates of deposit, and other investments)\\n\\t+ Equity instruments designated upon initial recognition: ₹196 crore\\n* Trade receivables: ₹25,424 crore\\n* Loans: ₹328 crore\\n* Other financial assets: ₹14,402 crore\\n\\nTotal Assets: ₹71,949 crore\\n\\n**Liabilities:**\\n\\n* Trade payables: ₹3,865 crore\\n* Lease liabilities: ₹8,299 crore\\n* Financial liability under option arrangements: ₹600 crore\\n* Other financial liabilities: ₹17,534 crore\\n\\nTotal Liabilities: ₹30,298 crore'),\n",
       " Document(metadata={'doc_id': '767752e9-4da4-4916-a5b2-168347d69baf', 'title': 'Fair Value Measurement of Investments and Derivative Financial Instruments as at March 31, 2024.'}, page_content=\"The table provides a breakdown of the Company's investments and derivative financial instruments as at March 31, 2024, classified according to the fair value measurement hierarchy (Level 1, Level 2, and Level 3).\\n\\n**Key Points:**\\n\\n* The majority of investments are in liquid mutual funds, target maturity fund units, tax-free bonds, government bonds, non-convertible debentures, and commercial papers, all of which were valued at Level 1 or Level 2 (fair value measurement using observable market prices).\\n* A smaller portion of investments is in government securities, equity securities, preference securities, and certificates of deposit, with some of these being valued at Level 3 (fair value measurement using valuation models or unobservable inputs).\\n* The Company also holds derivative financial instruments, including a gain on outstanding foreign exchange forward and option contracts, and a loss on outstanding foreign exchange forward and option contracts.\\n* Financial liabilities under option arrangements are also recorded.\"),\n",
       " Document(metadata={'doc_id': '3aaa9cff-2091-48a1-85bb-9fd09409c4a5', 'title': '**Summary: Fair Value Measurement of Assets and Liabilities as at March 31, 2023**\\n\\nThe table provides a breakdown of the fair value measurement of assets and liabilities as at March 31, 2023, using Level 1, Level 2, and Level 3 i'}, page_content='**Summary: Fair Value Measurement of Assets and Liabilities as at March 31, 2023**\\n\\nThe table provides a breakdown of the fair value measurement of assets and liabilities as at March 31, 2023, using Level 1, Level 2, and Level 3 inputs. The summary is as follows:\\n\\n**Assets:**\\n\\n* Investments in liquid mutual funds (Level 1) - ₹975 million\\n* Investments in tax-free bonds (Level 2) - ₹1,331 million; investments in non-convertible debentures (Level 3) - ₹789 million; investment in government securities (Level 3) - ₹83 million\\n* Other investments (Level 3) - ₹169 million\\n* Equity securities and preference securities are not valued at fair value\\n\\n**Liabilities:**\\n\\n* Derivative financial instruments - loss on outstanding foreign exchange forward and option contracts (Level 3) - ₹78 million\\n* Financial liability under option arrangements (Level 3) - ₹600 million; liability towards contingent consideration (Level 3) - ₹97 million'),\n",
       " Document(metadata={'doc_id': '55fef491-6632-4809-8978-9adc8dda73d9', 'title': '\"Authorized and Issued Equity Shares as at March 31, 2024 and March 31, 2023\"'}, page_content='The table provides information on the authorized and issued equity shares of a company as at March 31, 2024, and March 31, 2023.\\n\\n**Authorized Shares:** The company has authorized 480,000,000,000 equity shares with a par value of Z5/-.\\n\\n**Issued, Subscribed, and Paid-Up Shares:**\\n\\nAs at March 31, 2024, the company had issued and subscribed 2,071,000,000 equity shares, which are fully paid-up. This represents approximately 43% of the authorized shares.\\n\\nAs at March 31, 2023, the company had issued and subscribed 2,069,000,000 equity shares, which are also fully paid-up. There is a slight increase in the number of issued and subscribed shares from March 31, 2023 to March 31, 2024.'),\n",
       " Document(metadata={'doc_id': 'dd43edc4-ed71-465f-bd56-c54d3bd63789', 'title': '\"Share Capital and Amount Held by the Company over Two Consecutive Years\"'}, page_content='The table shows the changes in the number of shares and amount (in crores) held by the company over two consecutive years (March 31, 2023 to March 31, 2024).\\n\\n* At the beginning of the period (March 31, 2023), the company had approximately 419.30 billion shares with a total value of ₹2,098 crore.\\n* During the year, an additional 35.62 million shares were issued on the exercise of employee stock options, bringing the total number of shares to 413.63 billion.\\n* However, the company also bought back 6.04 billion shares, which reduced the total number of shares to approximately 413.99 billion at the end of the period (March 31, 2024).\\n* The amount held by the company remained relatively stable throughout the year, with a slight increase from ₹2,098 crore to ₹2,071 crore.'),\n",
       " Document(metadata={'doc_id': '448e887c-2063-47bd-b0a7-52ba52269a2e', 'title': 'Dividend Payments by [Company Name]'}, page_content='The table provides information on dividend payments made by a company over three periods:\\n\\n* Three months ended March 31, [year]: No dividend was paid during this period.\\n* Year ended March 31, [year]:\\n\\t+ For fiscal year 2022, the final dividend payment was 20% of the share value (equivalent to $16.00).\\n\\t+ For fiscal year 2023, the interim dividend payment was $16.50 and the final dividend payment was $17.50.\\n\\t+ For fiscal year 2024, the interim dividend payment is expected to be $18.00.'),\n",
       " Document(metadata={'doc_id': '4ac53bbb-1c8b-4a6a-a506-4dbc75ba88dd', 'title': '**Summary: Equity Settled and Cash Settled RSUs**\\n\\nThis table provides information on equity settled and cash settled restricted stock units (RSUs) granted to Key Management Personnel (KMP) and employees other than KMP for the 201'}, page_content='**Summary: Equity Settled and Cash Settled RSUs**\\n\\nThis table provides information on equity settled and cash settled restricted stock units (RSUs) granted to Key Management Personnel (KMP) and employees other than KMP for the 2019 plan and 2015 plan.\\n\\nThe main points from the summary are:\\n\\n* Equity settled RSUs:\\n\\t+ For KMP, the total grants were $498,730 in 2024 and $367,479 in 2023.\\n\\t+ For employees other than KMP, the total grants were $4,640,640 in 2024 and $1,784,975 in 2023.\\n* Cash settled RSUs:\\n\\t+ No equity settled RSUs were granted to KMP in 2019 or 2015.\\n\\t+ Cash settled RSUs worth $176,990 (in 2024) and $92,400 (in 2015) were granted to employees other than KMP.\\n\\nOverall, the total grants for equity settled RSUs increased from $2,244,854 in 2015 to $5,316,360 in 2019.'),\n",
       " Document(metadata={'doc_id': '7a3f66a6-208b-4eab-8025-be779dfe21ba', 'title': '**Summary Title:** \"Stock Compensation Expense Granted to KMP and Employees\"\\n\\n\\n\\nThe table shows the stock compensation expense granted to Key Management Personnel (KMP) and employees of the company over three months ended March 31'}, page_content='**Summary Title:** \"Stock Compensation Expense Granted to KMP and Employees\"\\n\\n\\n\\nThe table shows the stock compensation expense granted to Key Management Personnel (KMP) and employees of the company over three months ended March 31, 2024, as well as for the year ended March 31, 2023. The data is presented in Indian rupees (X crore).\\n\\nKey observations:\\n\\n* KMP received a total of 17 million shares (2024) and 8 million shares (2023), with a significant increase from 8 to 17 million shares.\\n* Employees other than KMP received a total of 208 million shares (2024) and 125 million shares (2023), also showing an increase.\\n* The total stock compensation expense granted was higher in 2024 compared to 2023, with a significant jump from 133 million shares to 652 million shares.\\n\\nNote: Cash-settled stock compensation expenses are included in the above figures.'),\n",
       " Document(metadata={'doc_id': '5bfaf247-4f5a-4056-ae47-3dbdb585e965', 'title': '\"Assumptions and Calculations for Stock Option Grants\"'}, page_content=\"The table provides information on the assumptions and calculations used to value stock options granted by the company in fiscal years 2024 and 2023. The main parameters considered are:\\n\\n* Weighted average share price (or ADS) at grant date\\n* Exercise price per share (or ADS)\\n* Expected volatility, life of the option, and dividends\\n* Risk-free interest rate\\n\\nThe assumptions for each year's options grants vary slightly, with some parameters having a wider range than others. The weighted average fair value of the options as on grant date is also provided.\"),\n",
       " Document(metadata={'doc_id': 'f5712051-87b4-4670-8481-8a46137f145c', 'title': \"**Summary**\\n\\nThe table provides information on the company's other financial liabilities as of March 31, 2024 and March 31, 2023.\\n\\n**Key Points:**\\n\\n* Non-current other financial liabilities increased to ₹2,130 crore in 2024 from ₹\"}, page_content='**Summary**\\n\\nThe table provides information on the company\\'s other financial liabilities as of March 31, 2024 and March 31, 2023.\\n\\n**Key Points:**\\n\\n* Non-current other financial liabilities increased to ₹2,130 crore in 2024 from ₹2,058 crore in 2023.\\n* Current other financial liabilities decreased to ₹16,959 crore in 2024 from ₹18,558 crore in 2023.\\n* Total other financial liabilities decreased to ₹19,089 crore in 2024 from ₹20,616 crore in 2023.\\n\\n**Title:** \"Other Financial Liabilities as of March 31, 2024 and March 31, 2023\"'),\n",
       " Document(metadata={'doc_id': 'eacf6e8f-cde3-4878-8cc2-6b0841bcd189', 'title': '\"Change in Other Liabilities from March 2023 to March 2024\"'}, page_content='The total other liabilities decreased by ₹1,556 crore (14%) from March 2023 to March 2024. The non-current other liabilities decreased significantly by ₹265 crore (53%), primarily due to a reduction in accrued defined benefit liability from ₹445 crore to ₹159 crore. The current other liabilities also saw a decrease of ₹291 crore (3%), mainly driven by a decline in unearned revenue and withholding taxes and others.'),\n",
       " Document(metadata={'doc_id': 'ef69cc06-fb99-4126-b555-cad6d03c11c7', 'title': '\"Provisions as at March 31, 2024 and March 31, 2023\"\\n\\n**Summary:**\\n\\nThe table shows the provision details of two periods - March 31, 2024 and March 31, 2023. The provisions are categorized into two main parts: Current Provisions and Others.\\n\\nThe current provisions amount to ₹1,796 crore as at March 31, 2024, which is an increase from ₹1,307 crore as at March 31, 2023. This increase is primarily driven by post-sales client support and other provisions, which also saw a significant jump from ₹1,307 crore to ₹1,796 crore over the same period.'}, page_content=''),\n",
       " Document(metadata={'doc_id': '3c711fe9-c9c9-4890-b353-efad3e840184', 'title': '**Summary Title:** \"Income Tax Expense Summary\"\\n\\nHere is the summary:\\n\\n* The company\\'s income tax expense has increased in both three-month and year-to-date periods.\\n\\t+ Three months ended March 31: Income tax expense decreased by '}, page_content='**Summary Title:** \"Income Tax Expense Summary\"\\n\\nHere is the summary:\\n\\n* The company\\'s income tax expense has increased in both three-month and year-to-date periods.\\n\\t+ Three months ended March 31: Income tax expense decreased by 2% to ₹2,265 crore in 2024 compared to ₹2,332 crore in 2023.\\n\\t+ Year ended March 31: Income tax expense increased by 5% to ₹9,740 crore in 2024 compared to ₹9,214 crore in 2023.\\n\\nThe main takeaway is that the company\\'s income tax expense has shown a moderate increase over the past year.'),\n",
       " Document(metadata={'doc_id': '899f9a51-a63a-4a5d-864d-a158f7d9ed44', 'title': 'Revenue Performance of [Company Name] (2023-2024)\\n\\n**Summary:**\\n\\nBased on the provided table, here is a summary of the revenue performance of [Company Name] for the three months ended March 31, 2024, and the year ended December 31, 2024:\\n\\n* Revenue from software services increased by 2.5% to ₹36,064 crore in Q1 FY2024 compared to ₹35,199 crore in Q1 FY2023. For the full year FY2024, revenue from software services grew by 6.0% to ₹145,285 crore compared to ₹137,575 crore in FY2023.\\n* Revenue from products and platforms declined by 17.2% to ₹1,859 crore in Q1 FY2024 compared to ₹2,242 crore in Q1 FY2023. For the full year FY2024, revenue from products and platforms decreased by 8.5% to ₹8,385 crore compared to ₹9,192 crore in FY2023.\\n* Total revenue from operations grew by 1.6% to ₹37,923 crore in Q1 FY2024 compared to ₹37,441 crore in Q1 FY2023. For the full year FY2024, total revenue from operations increased by 4.5% to ₹153,670 crore compared to ₹146,767 crore in FY2023.\\n\\nOverall, [Company Name] reported a moderate increase in total revenue from operations for both the quarter and the year ended December 31, 2024, driven mainly by growth in its software services segment.'}, page_content=''),\n",
       " Document(metadata={'doc_id': '61a0b13a-2016-49ad-89a9-605bddc6d48e', 'title': 'The table provides revenue data by geography for two fiscal years (2023 and 2024) and three months ended March 31, 2024.\\n\\nKey points:\\n\\n* Revenues in North America remained relatively stable between 2023 and 2024, with a slight inc'}, page_content=\"The table provides revenue data by geography for two fiscal years (2023 and 2024) and three months ended March 31, 2024.\\n\\nKey points:\\n\\n* Revenues in North America remained relatively stable between 2023 and 2024, with a slight increase from ₹22,842 crore to ₹22,606 crore.\\n* Europe saw an increase in revenues from ₹10,088 crore to ₹10,861 crore over the same period.\\n* India's revenue remained steady at around ₹981-833 crore during the three months ended March 31.\\n* Rest of the world saw a slight increase in revenues from ₹3,530 crore to ₹3,623 crore.\\n\\nOverall, total revenues increased by around 2% between 2023 and 2024, with North America and Europe contributing most to the growth.\"),\n",
       " Document(metadata={'doc_id': 'a2b8ae64-b7bd-43cd-9dd5-6a8f02f2208d', 'title': 'Financial Performance - Interest Income and Other Income'}, page_content='The table presents the interest income and other income of a company over three months and a full year, with a comparison between 2024 and 2023.\\n\\n**Key Points:**\\n\\n* Interest income on financial assets carried at amortized cost increased by 14% to ₹1,131 million in 2024 from ₹949 million in 2023.\\n* Interest income on financial assets carried at fair value through other comprehensive income rose by 5.6% to ₹1,007 million in 2024 from ₹955 million in 2023.\\n* Other income, including exchange gains/losses, miscellaneous income, and interest on income tax refund, surged by 75% to ₹4,711 million in 2024 from ₹2,701 million in 2023.'),\n",
       " Document(metadata={'doc_id': 'b5b9f19c-4bfb-4141-9bdc-3241ed612766', 'title': '**Summary Title:** \"Expenses Summary for Three Months and Year Ended March 31, [Year]\"\\n\\n\\n\\nThe expenses of the company for the three months ended March 31, [Year], were:\\n\\n* Employee benefit expenses: ₹20,393 (2024) / ₹20,311 (2023)'}, page_content='**Summary Title:** \"Expenses Summary for Three Months and Year Ended March 31, [Year]\"\\n\\n\\n\\nThe expenses of the company for the three months ended March 31, [Year], were:\\n\\n* Employee benefit expenses: ₹20,393 (2024) / ₹20,311 (2023), which accounted for 63% (2024) / 62% (2023) of total expenses. This included salaries and bonuses, contributions to provident funds, share-based payments, staff welfare, and others.\\n* Cost of software packages and others: ₹13,515 (2024) / ₹10,902 (2023), which accounted for 41% (2024) / 34% (2023) of total expenses. This included costs of software packages for own use and third-party items bought for service delivery to clients.\\n* Other expenses: ₹4,716 (2024) / ₹4,392 (2023), which accounted for 14% (2024) / 12% (2023) of total expenses. This included repairs and maintenance, power and fuel, brand and marketing, rates and taxes, consumables, insurance, provision for post-sales client support, impairment loss recognized/reversed under expected credit loss model, contributions towards Corporate Social Responsibility, and others.\\n\\nOverall, the company\\'s expenses increased by 6% from ₹39,121 (2023) to ₹40,041 (2024).'),\n",
       " Document(metadata={'doc_id': '46b9dddd-ac38-4adf-b405-44b7d3a3475f', 'title': '**Summary of Changes in Right-of-Use (ROU) Asset**\\n\\nBased on the provided table, here is a summary of the changes in the ROU asset account:\\n\\n* As of January 1, 2024, the balance was $6,892.\\n* Additions to the ROU asset totaled $43'}, page_content='**Summary of Changes in Right-of-Use (ROU) Asset**\\n\\nBased on the provided table, here is a summary of the changes in the ROU asset account:\\n\\n* As of January 1, 2024, the balance was $6,892.\\n* Additions to the ROU asset totaled $439, consisting of $61 added to buildings and $376 added to computers.\\n* Deletions from the ROU asset amounted to $307, with $92 deleted from buildings and $215 deleted from computers.\\n* No impairment loss was recorded (—).\\n* Depreciation expense for the period was $423, comprising $185 for buildings and $234 for computers.\\n* A translation difference of $49 was recorded, primarily affecting vehicles ($35) and computers ($14).\\n* As of March 31, 2024, the balance in the ROU asset account was $6,552.'),\n",
       " Document(metadata={'doc_id': '63aa9f04-ed5c-4ddb-97c1-13293e98ea76', 'title': '**Summary Title:** \"Recurring Operating Utility (ROU) Asset Movement and Depreciation Summary as of March 31, 2023\"\\n\\n\\n\\nThe ROU asset movement and depreciation summary shows the changes in the balance of different categories of ass'}, page_content='**Summary Title:** \"Recurring Operating Utility (ROU) Asset Movement and Depreciation Summary as of March 31, 2023\"\\n\\n\\n\\nThe ROU asset movement and depreciation summary shows the changes in the balance of different categories of assets (Land, Buildings, Vehicles, and Computers) from January 1, 2023 to March 31, 2023.\\n\\nKey points:\\n\\n* The total value of ROU assets as of January 1, 2023 was ₹6,480 crore.\\n* Additions to the assets resulted in an increase of ₹881 crore, while deletions led to a decrease of ₹157 crore.\\n* Depreciation charges totaled ₹355 crore, resulting in a net decrease in asset value.\\n* Translation differences, which are adjustments for foreign currency fluctuations, increased the asset value by ₹33 crore.\\n\\nAs of March 31, 2023, the total value of ROU assets stands at ₹6,882 crore.'),\n",
       " Document(metadata={'doc_id': 'f9ac1c51-78d1-4ade-8454-1af7866c99f6', 'title': 'Changes in Right-of-Use (ROU) Assets for the Year Ended March 31, 2024'}, page_content='Here is a summary of the table:\\n\\n\\n\\nThe table shows the changes in Right-of-Use (ROU) assets over a one-year period from April 1, 2023 to March 31, 2024. The ROU assets are categorized into land, buildings, vehicles, and computers.\\n\\n* At the beginning of the period, the total value of ROU assets was $6,882.\\n* Additions of new assets during the period totaled $2,278.\\n* Deletions of old or disposed-of assets resulted in a decrease of $947.\\n* An impairment loss of $88 was recognized, reducing the asset values.\\n* Depreciation expenses of $1,595 were recorded to reflect the decline in value of the assets over time.\\n* A translation difference of $22 was recognized due to changes in exchange rates.\\n\\nAs a result, the total value of ROU assets at the end of the period was $6,552, representing a decrease of $330 from the beginning of the period.'),\n",
       " Document(metadata={'doc_id': 'ddc6f14e-5078-43d5-8e6f-d5c3791d8a91', 'title': '**Summary Title:** \"Right-of-Use (ROU) Asset Movement and Depreciation Summary\"\\n\\n\\n\\nThe ROU asset movement and depreciation summary reveals the changes in the company\\'s Right-of-Use assets, including additions, deletions, depreciat'}, page_content='**Summary Title:** \"Right-of-Use (ROU) Asset Movement and Depreciation Summary\"\\n\\n\\n\\nThe ROU asset movement and depreciation summary reveals the changes in the company\\'s Right-of-Use assets, including additions, deletions, depreciation, and translation differences, from April 1, 2022 to March 31, 2023.\\n\\n* As of April 1, 2022, the total ROU assets stood at ₹4,823 crore, comprising land (₹628 crore), buildings (₹3,711 crore), vehicles (₹16 crore), and computers (₹468 crore).\\n* Additions to ROU assets during the period were primarily in buildings (₹847 crore) and computers (₹2,646 crore), resulting in a total addition of ₹3,501 crore.\\n* Deletions from ROU assets mainly consisted of building deletions (₹45 crore) and computer deletions (₹364 crore), totaling ₹409 crore.\\n* Depreciation expenses for the period were significant, with buildings (₹671 crore), computers (₹499 crore), and vehicles (₹10 crore) contributing to a total depreciation expense of ₹1,186 crore.\\n* Translation differences, which arise from the conversion of foreign currency transactions into Indian rupees, resulted in an addition of ₹153 crore to the ROU assets.\\n\\nAs of March 31, 2023, the total ROU assets stood at ₹6,882 crore, with land (₹623 crore), buildings (₹3,896 crore), vehicles (₹15 crore), and computers (₹2,348 crore) making up this figure.'),\n",
       " Document(metadata={'doc_id': 'e00bf8ed-98fb-4bad-a8b3-cf7d938e534f', 'title': '**Summary Title:** \"Asat\\'s Lease Liability Evolution: March 31, 2024 vs. March 31, 2023\"\\n\\n\\n\\nAsat\\'s lease liability position has evolved over the year, with some notable changes. As of March 31, 2024, the company had a total lease '}, page_content='**Summary Title:** \"Asat\\'s Lease Liability Evolution: March 31, 2024 vs. March 31, 2023\"\\n\\n\\n\\nAsat\\'s lease liability position has evolved over the year, with some notable changes. As of March 31, 2024, the company had a total lease liability of $8,359, which is a slight decrease from the previous year\\'s figure of $8,299.\\n\\nThe breakdown shows that current lease liabilities decreased by $717 to $1,959 in 2024, while non-current lease liabilities increased by $643 to $6,400. Overall, Asat\\'s lease liability position remains relatively stable, with only a minor adjustment from the previous year.'),\n",
       " Document(metadata={'doc_id': 'dd62ee76-ca94-4261-ba2c-e01148fad562', 'title': 'Contingent Liabilities and Claims against the Group as of March 31, 2024\\n\\n**Summary:**\\n\\nAs of March 31, 2024, the contingent liabilities of the group amount to ₹3,583 crore, a decrease from ₹4,762 crore in the previous year.'}, page_content=''),\n",
       " Document(metadata={'doc_id': '4bb9842b-46cc-465c-8b9c-b5afe41f02b4', 'title': '\"Capital Contracts and Other Commitments as of March 2024\"\\n\\n**Summary:**\\n\\nAs of March 2024, the estimated amount of contracts remaining to be executed on capital contracts and not provided for (net of advances and deposits) stands at ₹780 crore, a decrease from ₹959 crore in March 2023. Additionally, other commitments have reduced to ₹79 crore from ₹92 crore over the same period.'}, page_content=''),\n",
       " Document(metadata={'doc_id': '7bf4325c-0005-4222-8e4b-b48dd1348967', 'title': '**Summary Title:** Remuneration of Directors and Executive Officers\\n\\n\\n\\nThe tables show the remuneration of whole-time directors, executive officers, non-executive/independent directors, and total remuneration for three months ende'}, page_content='**Summary Title:** Remuneration of Directors and Executive Officers\\n\\n\\n\\nThe tables show the remuneration of whole-time directors, executive officers, non-executive/independent directors, and total remuneration for three months ended March 31, 2024 and 2023, as well as the year ended March 31, 2024 and 2023.\\n\\nFor the three-month period:\\n\\n* Salaries and other short-term employee benefits for whole-time directors and executive officers increased from ₹25 crore in 2023 to ₹30 crore in 2024.\\n* Commission and other benefits for non-executive/independent directors rose from ₹4 crore in 2023 to ₹5 crore in 2024.\\n\\nFor the year ended March 31:\\n\\n* Salaries and other short-term employee benefits for whole-time directors and executive officers increased from ₹111 crore in 2023 to ₹113 crore in 2024.\\n* Commission and other benefits for non-executive/independent directors rose from ₹16 crore in 2023 to ₹17 crore in 2024.\\n\\nThe total remuneration for the year ended March 31, 2024 was ₹130 crore, a slight increase from ₹127 crore in 2023.'),\n",
       " Document(metadata={'doc_id': 'ac94c824-96af-484a-96cb-df2b3749be9c', 'title': \"**Summary of Financial Performance**\\n\\nBased on the provided tables, here is a summary of the financial performance:\\n\\n**Revenue:**\\n\\n* The company's revenue from operations was ₹37,923 crore in the first period and ₹37,441 crore in \"}, page_content=\"**Summary of Financial Performance**\\n\\nBased on the provided tables, here is a summary of the financial performance:\\n\\n**Revenue:**\\n\\n* The company's revenue from operations was ₹37,923 crore in the first period and ₹37,441 crore in the second period.\\n* Revenue from various segments was:\\n\\t+ Financial Services: ₹10,010-10,818 crore\\n\\t+ Retail: ₹5,429-5,537 crore\\n\\t+ Communication & Energy, Utilities, Resources and Services: ₹4,666-4,411 crore\\n\\t+ Manufacturing, Hi-Tech, Life Sciences, and All other segments: ₹5,068-4,825 crore\\n\\n**Operating Expenses:**\\n\\n* Identifiable operating expenses were ₹22,325 crore in the first period and ₹21,454 crore in the second period.\\n* Allocated expenses were ₹6,814-6,989 crore.\\n* Segment operating income was ₹8,784-8,998 crore.\\n\\n**Profit:**\\n\\n* Profit before tax was ₹10,240 crore in the first period and ₹8,466 crore in the second period.\\n* Income tax expense was ₹2,265-2,332 crore.\\n* Net profit was ₹7,975 crore in the first period and ₹6,134 crore in the second period.\\n\\n**Depreciation and Amortization:**\\n\\n* Depreciation and amortization expenses were ₹1,163-1,121 crore.\"),\n",
       " Document(metadata={'doc_id': '84c8ce6f-8270-42ee-aebd-2a4bf34a5e91', 'title': \"**Summary: Financial Performance of the Company**\\n\\nThe company's financial performance can be summarized as follows:\\n\\n* Revenue from operations increased by 1% to ₹146,767 crore in FY2022 compared to ₹153,670 crore in FY2021.\\n* Id\"}, page_content=\"**Summary: Financial Performance of the Company**\\n\\nThe company's financial performance can be summarized as follows:\\n\\n* Revenue from operations increased by 1% to ₹146,767 crore in FY2022 compared to ₹153,670 crore in FY2021.\\n* Identifiable operating expenses decreased by 3% to ₹84,993 crore in FY2022 compared to ₹89,877 crore in FY2021.\\n* Segment operating income increased by 10% to ₹35,130 crore in FY2022 compared to ₹36,425 crore in FY2021.\\n* Profit before tax was ₹33,322 crore in FY2022, a decrease of 7% from ₹35,988 crore in FY2021.\\n* Net profit was ₹24,108 crore in FY2022, a decrease of 9% from ₹26,248 crore in FY2021.\\n* Depreciation and amortization expense increased by 10% to ₹4,225 crore in FY2022 compared to ₹4,678 crore in FY2021.\\n\\nOverall, the company's revenue growth was driven by strong performances in its Manufacturing, Hi-Tech, and Energy segments. However, the increase in identifiable operating expenses and depreciation and amortization expense had a negative impact on the company's profit before tax and net profit.\"),\n",
       " Document(metadata={'doc_id': '4deabecf-1c1b-413a-b948-4f87cb591bf6', 'title': '**Summary: Consolidated Financial Statements for the Year Ended March 31, [Year]**\\n\\nBased on the provided table, here is a summary of the financial performance and position of the company:\\n\\n**Revenue and Gross Profit:**\\nThe compan'}, page_content=\"**Summary: Consolidated Financial Statements for the Year Ended March 31, [Year]**\\n\\nBased on the provided table, here is a summary of the financial performance and position of the company:\\n\\n**Revenue and Gross Profit:**\\nThe company reported revenue from operations of ₹37,923 million and ₹153,670 million for the three months and year ended March 31, 2024, respectively. The gross profit was ₹11,175 million and ₹46,257 million for the same periods.\\n\\n**Operating Expenses and Operating Profit:**\\nThe company incurred operating expenses of ₹3,554 million and ₹14,510 million for the three months and year ended March 31, 2024, respectively. The operating profit was ₹7,621 million and ₹31,747 million for the same periods.\\n\\n**Profit Before Tax and Tax Expense:**\\nThe company reported a profit before tax of ₹10,240 million and ₹35,988 million for the three months and year ended March 31, 2024, respectively. The tax expense was ₹1,173 million and ₹8,390 million for the same periods.\\n\\n**Profit for the Period and Comprehensive Income:**\\nThe company reported a profit for the period of ₹7,975 million and ₹26,248 million for the three months and year ended March 31, 2024, respectively. The comprehensive income was ₹7,823 million and ₹26,768 million for the same periods.\\n\\n**Owners' Equity and Non-Controlling Interests:**\\nThe company reported owners' equity of ₹[amount] million and non-controlling interests of ₹[amount] million at the end of the year ended March 31, 2024.\")]"
      ]
     },
     "execution_count": 202,
     "metadata": {},
     "output_type": "execute_result"
    }
   ],
   "source": [
    "summary_tables\n"
   ]
  },
  {
   "cell_type": "code",
   "execution_count": 203,
   "metadata": {},
   "outputs": [
    {
     "name": "stderr",
     "output_type": "stream",
     "text": [
      "INFO: HTTP Request: POST http://127.0.0.1:11434/api/embed \"HTTP/1.1 200 OK\"\n"
     ]
    },
    {
     "data": {
      "text/plain": [
       "['ce5a56ba-e9d5-4628-beb4-6e35e2c814ee',\n",
       " 'ed61a884-5660-4b41-80c4-adb19a0ec2ce',\n",
       " '544f98ea-05e4-42a7-aabf-b5f33ac1d7b3',\n",
       " 'e38d1595-3aa9-4733-8fce-f17c37833e74',\n",
       " 'a649ed81-8c4f-4415-9152-26c46e5d8350',\n",
       " '7a7c5c61-f111-400b-b686-a66e360ad9a6',\n",
       " '0b349923-b6bd-4b10-bfba-430f3126db30',\n",
       " '33f59cda-aea6-4ff4-9968-99798cb4bca5',\n",
       " '638fcb58-ce26-42c2-8f0f-6e10f7f91f77',\n",
       " '94a53883-5bac-43c7-abf8-b9d172d7c426',\n",
       " 'bc5b8c44-716d-4408-bbe5-1b2e1f860aa3',\n",
       " '9e55ec62-41cb-4130-bdb5-933c7cd25b2b',\n",
       " '2dc36851-7598-41ac-88bb-b11c2e8c9bf0',\n",
       " '8611d96f-e27f-40f9-9690-afee5e798863',\n",
       " '6799507a-d936-422c-a9e3-87c05e8de991',\n",
       " '88db1dec-446c-4058-a7af-eff54a084f7e',\n",
       " '0eef1171-cb9d-41b7-af97-7d89c41990a5',\n",
       " 'f8ca46ec-38f2-4f81-9b3d-5c3c4bdd7c10',\n",
       " 'e82bad60-3aa8-471e-8f24-0a0569d6fb24',\n",
       " '69626e5a-cc49-4749-80de-3a08be18ae69',\n",
       " '56da847a-3693-4470-96b0-3fb3de19f902',\n",
       " '23830b7b-b191-47f0-9574-712b97df6184',\n",
       " '7cda5cc3-4f97-41c5-8c14-959e1f5e289f',\n",
       " '2cec9294-ad13-4fc5-a55f-c2970dcb8d9e',\n",
       " 'cad53d1e-9888-4242-a41c-986de84d52a1',\n",
       " 'f5345df2-8510-4915-bf7e-7deb2a54ee1e',\n",
       " 'fffede93-c911-436c-a02a-9610d9b5851f',\n",
       " '0c25e904-ff89-489e-93ac-ad7075f3b342',\n",
       " '130b77cd-1daa-444f-bc3f-567e44048097',\n",
       " 'd234e88a-2688-44d2-a6a7-0a04dccd801d',\n",
       " '5a4576b7-4ffc-46fe-a3c3-202187c9c74e',\n",
       " '51b8e698-b02d-4b19-b608-994889e55700',\n",
       " '296421cd-d544-4a23-adab-2f9030763078',\n",
       " '59c09e6a-8344-41a5-8309-238208113807',\n",
       " '18e8d15f-28c7-4d64-95f3-b4198c424175',\n",
       " '5d4e9501-3c7b-499f-98cc-03f1aaf90964',\n",
       " '1209872b-6e4b-48e5-b68c-4550daf20cb0',\n",
       " '8d04ec5a-2e6e-4fce-892c-67604d5a5fb7',\n",
       " '19e467fe-a51d-4260-8704-31adb6d070da',\n",
       " '94dad1f6-5504-4cb2-b1ae-af837091b548',\n",
       " '5c5e890d-02ed-4d47-959c-e13a85bedaeb',\n",
       " 'b04b280f-608e-423d-bf90-4d83705c83b8',\n",
       " '399c6d43-7346-458b-9941-57092a8f7284',\n",
       " '8b79929d-d8c3-4c0a-b8cf-7bba04b4b015',\n",
       " '2e0ff9e8-41e2-4483-b6ac-8d11be164944',\n",
       " '0cef26e2-af8c-495b-8703-53c5f6e92443',\n",
       " '9fb89d28-6f3b-49a9-a7b6-a7bb68315988',\n",
       " '27dc476c-aff4-49c9-91eb-32cb9e96c1d3',\n",
       " 'cc77e475-6739-4be8-980b-463f77d5a51a']"
      ]
     },
     "execution_count": 203,
     "metadata": {},
     "output_type": "execute_result"
    }
   ],
   "source": [
    "retriever.vectorstore.add_documents(summary_tables)"
   ]
  },
  {
   "cell_type": "code",
   "execution_count": 205,
   "metadata": {},
   "outputs": [],
   "source": [
    "retriever.docstore.mset(list(zip(table_ids, categorized_elements)))"
   ]
  },
  {
   "cell_type": "code",
   "execution_count": 206,
   "metadata": {},
   "outputs": [
    {
     "name": "stderr",
     "output_type": "stream",
     "text": [
      "INFO: HTTP Request: POST http://127.0.0.1:11434/api/embed \"HTTP/1.1 200 OK\"\n"
     ]
    }
   ],
   "source": [
    "retriever_first_response = retriever.invoke(\"what is the total equity value in march 2023\")"
   ]
  },
  {
   "cell_type": "code",
   "execution_count": 208,
   "metadata": {},
   "outputs": [
    {
     "name": "stdout",
     "output_type": "stream",
     "text": [
      "[Element(type='table', page_content='<table><thead><tr><th rowspan=\"3\">Class of investment</th><th rowspan=\"3\">Method</th><th colspan=\"2\">(In X crore)</th></tr><tr><th colspan=\"2\">Fair value as at</th></tr><tr><th>March 31, 2024</th><th>March 31, 2023</th></tr></thead><tbody><tr><td>Liquid mutual fund units - carried at fair value through profit or loss</td><td>Quoted price</td><td>2,615</td><td>975</td></tr><tr><td>Target maturity fund units - carried at fair value through profit or loss</td><td>Quoted price</td><td>431</td><td>402</td></tr><tr><td>Tax free bonds and government bonds - carried at amortized cost</td><td>Quoted price and market observable inputs</td><td>1,973</td><td>2,148</td></tr><tr><td>Non-convertible debentures - carried at fair value through other comprehensive income</td><td>Quoted price and market observable inputs</td><td>4,179</td><td>3,868</td></tr><tr><td>Government securities - carried at fair value through other comprehensive income</td><td>Quoted price and market observable inputs</td><td>7,362</td><td>7,632</td></tr><tr><td>Commercial Papers - carried at fair value through other comprehensive income</td><td>Market observable inputs</td><td>4,830</td><td>742</td></tr><tr><td>Certificates of deposit - carried at fair value through other comprehensive income</td><td>Market observable inputs</td><td>3,043</td><td>3,574</td></tr><tr><td>Quoted Equity securities - carried at fair value through other comprehensive income</td><td>Quoted price</td><td>113</td><td>—</td></tr><tr><td>Unquoted equity and preference securities - carried at fair value through other comprehensive income</td><td>Discounted cash flows method, Market multiples method, Option pricing model</td><td>93</td><td>196</td></tr><tr><td>Others - carried at fair value through profit or loss</td><td>Discounted cash flows method, Market multiples method, Option pricing model</td><td>198</td><td>169</td></tr><tr><td>Total</td><td></td><td>24,837</td><td>19,706</td></tr></tbody></table>', title='**Summary**\\n\\nThe table presents the fair value of various investment classes as at March 31, 2024 and March 31, 2023. The investments are classified into six categories: Liquid mutual fund units, Target maturity fund units, Tax-fr'), Element(type='table', page_content='<table><thead><tr><th rowspan=\"2\">Particulars</th><th rowspan=\"2\">Land - Freehold</th><th rowspan=\"2\">Buildings \\n (1)</th><th rowspan=\"2\">Plant and machinery</th><th rowspan=\"2\">Office Equipment</th><th colspan=\"2\"></th><th rowspan=\"2\">Leasehold \\n Improvements</th><th colspan=\"2\">(In % crore)</th></tr><tr><th>Computer \\n equipment</th><th>Furniture and fixtures</th><th>Vehicles</th><th>Total</th></tr></thead><tbody><tr><td>Gross carrying value as at April 1, 2022</td><td>1,431</td><td>11,224</td><td>3,210</td><td>1,427</td><td>8,527</td><td>2,278</td><td>1,234</td><td></td><td>29,375</td></tr><tr><td>Additions - Business Combination (Refer to Note 2.1)</td><td>—                 —                —</td><td></td><td></td><td>5</td><td>6</td><td>1</td><td>2</td><td></td><td>14</td></tr><tr><td>Additions</td><td></td><td>337</td><td>273</td><td>122</td><td>1,510</td><td>364</td><td>220</td><td></td><td>2,830</td></tr><tr><td>Deletions*</td><td>2</td><td>—</td><td>(182)</td><td>(76)</td><td>(1,563)</td><td>(348)</td><td>(25)</td><td>1)</td><td>(2,197)</td></tr><tr><td>Translation difference</td><td></td><td>1</td><td>1</td><td>4</td><td>39</td><td>8</td><td>14</td><td></td><td>67</td></tr><tr><td>Gross carrying value as at March 31, 2023</td><td>1,4;</td><td>11,562</td><td>3,302</td><td>1,482</td><td>8,519</td><td>2,303</td><td>1,445</td><td>45</td><td>30,089</td></tr><tr><td>Accumulated depreciation as at April 1, 2022</td><td></td><td>(4,100)</td><td>(2,344)</td><td>(1,150)</td><td>(6,034</td><td>(1,779)</td><td>(856)</td><td>37</td><td>(16,300)</td></tr><tr><td>Depreciation</td><td></td><td>(434)</td><td>(273)</td><td>(121)</td><td>(1,322)</td><td>(236)</td><td>(187)</td><td>4)</td><td>(2,577)</td></tr><tr><td>Accumulated depreciation on deletions*</td><td></td><td>—</td><td>181</td><td>76</td><td>1,556</td><td>347</td><td>21</td><td></td><td>2,182</td></tr><tr><td>Translation difference</td><td></td><td>(1)</td><td>(1)</td><td>(©)</td><td>(26)</td><td>(7)</td><td>(10)</td><td></td><td>(48)</td></tr><tr><td>Accumulated depreciation as at March 31, 2023</td><td></td><td>(4,535)</td><td>(2,437)</td><td>(1,198)</td><td>(5,826)</td><td>(1,675)</td><td>(1,032)</td><td>(40)</td><td>(16,743)</td></tr><tr><td>Carrying value as at April 1, 2022</td><td>1,4;</td><td>7,124</td><td>866</td><td>277</td><td>2,493</td><td>499</td><td>378</td><td></td><td>13,075</td></tr><tr><td>Carrying value as at March 31, 2023</td><td>1,431</td><td>7,027</td><td>865</td><td>284</td><td>2,693</td><td>628</td><td>413</td><td></td><td>13,346</td></tr></tbody></table>', title='**Summary Title:** \"Property, Plant and Equipment (Gross Carrying Value and Accumulated Depreciation) as at April 1, 2022 and March 31, 2023\"\\n\\n\\n\\nThe table provides information on the gross carrying value and accumulated depreciati'), Element(type='table', page_content='<table><thead><tr><th rowspan=\"3\">Particulars</th><th rowspan=\"3\">Amortized \\n cost</th><th colspan=\"2\" rowspan=\"2\">Financial assets/ liabilities at fair value through profit or loss</th><th></th><th></th><th></th><th rowspan=\"3\">(In X crore) Total fair value</th></tr><tr><th colspan=\"2\">Financial assets/liabilities at fair value through OCI</th><th rowspan=\"2\">Total carrying value</th></tr><tr><th>Designated \\n upon initial recognition</th><th>Mandatory</th><th>Equity instruments designated upon initial recognition</th><th>Mandatory</th></tr></thead><tbody><tr><td colspan=\"8\">Assets:</td></tr><tr><td>Cash and cash equivalents (Refer to Note 2.8)</td><td>12,173</td><td>—</td><td></td><td></td><td></td><td>12,173</td><td>12,173</td></tr><tr><td colspan=\"8\">Investments (Refer to Note 2.4)</td></tr><tr><td>Equity and preference securities</td><td>—</td><td>—</td><td></td><td>196</td><td></td><td>196</td><td>196</td></tr><tr><td>Tax free bonds and government bonds</td><td>1,920</td><td>—</td><td></td><td></td><td></td><td>1,920</td><td>(1) 2,148</td></tr><tr><td>Liquid mutual fund units</td><td>—</td><td></td><td>975</td><td></td><td></td><td>975</td><td>975</td></tr><tr><td>Target maturity fund units</td><td>—</td><td></td><td>402</td><td></td><td></td><td>402</td><td>402</td></tr><tr><td>Non convertible debentures</td><td>—</td><td>—</td><td></td><td></td><td>3,868</td><td>3,868</td><td>3,868</td></tr><tr><td>Government securities</td><td>—</td><td>—</td><td></td><td></td><td>7,632</td><td>7,632</td><td>7,632</td></tr><tr><td>Commercial papers</td><td>—</td><td>—</td><td></td><td></td><td>742</td><td>742</td><td>742</td></tr><tr><td>Certificates of deposit</td><td>—</td><td>—</td><td></td><td></td><td>3,574</td><td>3,574</td><td>3,574</td></tr><tr><td>Other investments</td><td>—</td><td></td><td>169</td><td></td><td></td><td>169</td><td>169</td></tr><tr><td>Trade receivables (Refer to Note 2.7)</td><td>25,424</td><td>—</td><td></td><td></td><td></td><td>25,424</td><td>25,424</td></tr><tr><td>Loans (Refer to Note 2.5)</td><td>328</td><td>—</td><td></td><td></td><td></td><td>328</td><td>328</td></tr><tr><td>Other financials assets (Refer to Note 2.6) @</td><td>14,301</td><td></td><td>69</td><td></td><td>32</td><td>14,402</td><td>14,318 (2)</td></tr><tr><td>Total</td><td>54,146</td><td></td><td>1,615</td><td>196</td><td>15,848</td><td>71,805</td><td>71,949</td></tr><tr><td colspan=\"8\">Liabilities:</td></tr><tr><td>Trade payables</td><td>3,865</td><td>—</td><td></td><td></td><td></td><td>3,865</td><td>3,865</td></tr><tr><td>Lease liahilities (Refer to Note 2.19)</td><td>8,299</td><td>—</td><td></td><td></td><td></td><td>8,299</td><td>8,299</td></tr><tr><td>Financial Liability under option arrangements Refer to Note 2.12)</td><td>.</td><td></td><td>600</td><td></td><td></td><td>600</td><td>600</td></tr><tr><td>Other financial liabilities (Refer to Note 2.12)</td><td>17,359</td><td></td><td>161</td><td></td><td>14</td><td>17,534</td><td>17,534</td></tr><tr><td>Total</td><td>29,523</td><td></td><td>761</td><td></td><td>14</td><td>30,298</td><td>30,298</td></tr></tbody></table>', title='**Summary Title:** Financial Assets and Liabilities of [Company Name] as of [Date]\\n\\n\\n\\nThe financial assets and liabilities of [Company Name] as of [Date] are presented in the following summary:\\n\\n**Assets:**\\n\\n* Cash and cash equiva'), Element(type='table', page_content='<table><thead><tr><th rowspan=\"2\">Particulars</th><th rowspan=\"2\">Asat March 31, 2023</th><th colspan=\"3\">Fair value measurement at end of the reporting period using</th></tr><tr><th>Level 1</th><th>Level 2</th><th>Level 3</th></tr></thead><tbody><tr><td colspan=\"5\">Assets</td></tr><tr><td colspan=\"5\">Investments (Refer to note 2.4)</td></tr><tr><td>Investments in liquid mutual funds</td><td>975</td><td>975</td><td></td><td></td></tr><tr><td>nvestments in target maturity fund units</td><td>402</td><td>402</td><td></td><td></td></tr><tr><td>Investments in tax free bonds</td><td>2,120</td><td>1,331</td><td>789</td><td></td></tr><tr><td>nvestments in government bonds</td><td>28</td><td>28</td><td></td><td></td></tr><tr><td>Investments in non convertible debentures</td><td>3,868</td><td>1,793</td><td>2,075</td><td></td></tr><tr><td>nvestment in government securities</td><td>7,632</td><td>7,549</td><td>83</td><td></td></tr><tr><td>Investments in equity securities</td><td></td><td>3                             —                                 —                                    3</td><td></td><td></td></tr><tr><td>nvestments in preference securities</td><td>193</td><td></td><td></td><td>193</td></tr><tr><td>Investments in commercial papers</td><td>742</td><td></td><td>742</td><td>—</td></tr><tr><td>nvestments in certificates of deposit</td><td>3,574</td><td></td><td>3,574</td><td>—</td></tr><tr><td>Other investments</td><td>169</td><td></td><td></td><td>169</td></tr><tr><td colspan=\"5\">Others</td></tr><tr><td>Derivative financial instruments - gain on outstanding foreign exchange forward and option contracts (Refer to Note 2.6)</td><td>101</td><td></td><td>101</td><td></td></tr><tr><td colspan=\"5\">Liabilities</td></tr><tr><td>Derivative financial instruments - loss on outstanding foreign exchange forward and option contracts (Refer to Note 2.12)</td><td>78</td><td></td><td>78</td><td></td></tr><tr><td>Financial liability under option arrangements (Refer to Note 2.12) M</td><td>600</td><td></td><td></td><td>600</td></tr><tr><td>Liability towards contingent consideration (Refer to Note 2.12)</td><td>97</td><td></td><td></td><td>97</td></tr></tbody></table>', title='**Summary: Fair Value Measurement of Assets and Liabilities as at March 31, 2023**\\n\\nThe table provides a breakdown of the fair value measurement of assets and liabilities as at March 31, 2023, using Level 1, Level 2, and Level 3 i')]\n",
      "<table><thead><tr><th rowspan=\"3\">Class of investment</th><th rowspan=\"3\">Method</th><th colspan=\"2\">(In X crore)</th></tr><tr><th colspan=\"2\">Fair value as at</th></tr><tr><th>March 31, 2024</th><th>March 31, 2023</th></tr></thead><tbody><tr><td>Liquid mutual fund units - carried at fair value through profit or loss</td><td>Quoted price</td><td>2,615</td><td>975</td></tr><tr><td>Target maturity fund units - carried at fair value through profit or loss</td><td>Quoted price</td><td>431</td><td>402</td></tr><tr><td>Tax free bonds and government bonds - carried at amortized cost</td><td>Quoted price and market observable inputs</td><td>1,973</td><td>2,148</td></tr><tr><td>Non-convertible debentures - carried at fair value through other comprehensive income</td><td>Quoted price and market observable inputs</td><td>4,179</td><td>3,868</td></tr><tr><td>Government securities - carried at fair value through other comprehensive income</td><td>Quoted price and market observable inputs</td><td>7,362</td><td>7,632</td></tr><tr><td>Commercial Papers - carried at fair value through other comprehensive income</td><td>Market observable inputs</td><td>4,830</td><td>742</td></tr><tr><td>Certificates of deposit - carried at fair value through other comprehensive income</td><td>Market observable inputs</td><td>3,043</td><td>3,574</td></tr><tr><td>Quoted Equity securities - carried at fair value through other comprehensive income</td><td>Quoted price</td><td>113</td><td>—</td></tr><tr><td>Unquoted equity and preference securities - carried at fair value through other comprehensive income</td><td>Discounted cash flows method, Market multiples method, Option pricing model</td><td>93</td><td>196</td></tr><tr><td>Others - carried at fair value through profit or loss</td><td>Discounted cash flows method, Market multiples method, Option pricing model</td><td>198</td><td>169</td></tr><tr><td>Total</td><td></td><td>24,837</td><td>19,706</td></tr></tbody></table>\n"
     ]
    }
   ],
   "source": [
    "print(retriever_first_response)\n",
    "\n",
    "retriever_first_response_page_content = retriever_first_response[0].page_content\n",
    "print(retriever_first_response_page_content)"
   ]
  },
  {
   "cell_type": "code",
   "execution_count": 210,
   "metadata": {},
   "outputs": [
    {
     "data": {
      "text/markdown": [
       "<table><thead><tr><th rowspan=\"3\">Class of investment</th><th rowspan=\"3\">Method</th><th colspan=\"2\">(In X crore)</th></tr><tr><th colspan=\"2\">Fair value as at</th></tr><tr><th>March 31, 2024</th><th>March 31, 2023</th></tr></thead><tbody><tr><td>Liquid mutual fund units - carried at fair value through profit or loss</td><td>Quoted price</td><td>2,615</td><td>975</td></tr><tr><td>Target maturity fund units - carried at fair value through profit or loss</td><td>Quoted price</td><td>431</td><td>402</td></tr><tr><td>Tax free bonds and government bonds - carried at amortized cost</td><td>Quoted price and market observable inputs</td><td>1,973</td><td>2,148</td></tr><tr><td>Non-convertible debentures - carried at fair value through other comprehensive income</td><td>Quoted price and market observable inputs</td><td>4,179</td><td>3,868</td></tr><tr><td>Government securities - carried at fair value through other comprehensive income</td><td>Quoted price and market observable inputs</td><td>7,362</td><td>7,632</td></tr><tr><td>Commercial Papers - carried at fair value through other comprehensive income</td><td>Market observable inputs</td><td>4,830</td><td>742</td></tr><tr><td>Certificates of deposit - carried at fair value through other comprehensive income</td><td>Market observable inputs</td><td>3,043</td><td>3,574</td></tr><tr><td>Quoted Equity securities - carried at fair value through other comprehensive income</td><td>Quoted price</td><td>113</td><td>—</td></tr><tr><td>Unquoted equity and preference securities - carried at fair value through other comprehensive income</td><td>Discounted cash flows method, Market multiples method, Option pricing model</td><td>93</td><td>196</td></tr><tr><td>Others - carried at fair value through profit or loss</td><td>Discounted cash flows method, Market multiples method, Option pricing model</td><td>198</td><td>169</td></tr><tr><td>Total</td><td></td><td>24,837</td><td>19,706</td></tr></tbody></table>"
      ],
      "text/plain": [
       "<IPython.core.display.Markdown object>"
      ]
     },
     "execution_count": 210,
     "metadata": {},
     "output_type": "execute_result"
    }
   ],
   "source": [
    "from IPython.display import Markdown\n",
    "\n",
    "\n",
    "Markdown(retriever_first_response_page_content)"
   ]
  },
  {
   "cell_type": "code",
   "execution_count": 215,
   "metadata": {},
   "outputs": [],
   "source": [
    "# Prompt template\n",
    "template = \"\"\"Answer the question based only on the following context, which can include text and tables:\n",
    "{context}\n",
    "Question: {question}\n",
    "\"\"\"\n",
    "prompt = ChatPromptTemplate.from_template(template)\n",
    "\n",
    "# LLM\n",
    "model = llm\n",
    "\n",
    "# RAG pipeline\n",
    "chain = (\n",
    "    {\"context\": retriever, \"question\": RunnablePassthrough()}\n",
    "    | prompt\n",
    "    | model\n",
    "    | StrOutputParser()\n",
    ")"
   ]
  },
  {
   "cell_type": "code",
   "execution_count": 216,
   "metadata": {},
   "outputs": [
    {
     "name": "stderr",
     "output_type": "stream",
     "text": [
      "INFO: HTTP Request: POST http://127.0.0.1:11434/api/embed \"HTTP/1.1 200 OK\"\n",
      "INFO: HTTP Request: POST http://127.0.0.1:11434/api/chat \"HTTP/1.1 200 OK\"\n"
     ]
    },
    {
     "data": {
      "text/plain": [
       "'Based on the given context, I can answer the question as follows:\\n\\nThe \"Share Capital and Amount Held by the Company over Two Consecutive Years\" table shows that the total share capital at the end of March 31, 2024 is ₹413,99,50,635.\\n\\nAdditionally, the \"Non-Current Other Assets\" table shows that the non-current other assets as of March 31, 2024 are ₹14,929 crore. Similarly, the \"Current Other Assets\" table shows that the current other assets as of March 31, 2024 are ₹12,808 crore.\\n\\nTherefore, the total assets in march 31, 2024 would be:\\n\\nShare Capital: ₹413,99,50,635\\nNon-Current Other Assets: ₹14,929 crore\\nCurrent Other Assets: ₹12,808 crore\\n\\nTotal Assets: ₹441,73,87,368'"
      ]
     },
     "execution_count": 216,
     "metadata": {},
     "output_type": "execute_result"
    }
   ],
   "source": [
    "chain.invoke(\"What is the Total assets in march31, 2024?\")"
   ]
  },
  {
   "cell_type": "code",
   "execution_count": null,
   "metadata": {},
   "outputs": [],
   "source": []
  }
 ],
 "metadata": {
  "kernelspec": {
   "display_name": ".venv",
   "language": "python",
   "name": "python3"
  },
  "language_info": {
   "codemirror_mode": {
    "name": "ipython",
    "version": 3
   },
   "file_extension": ".py",
   "mimetype": "text/x-python",
   "name": "python",
   "nbconvert_exporter": "python",
   "pygments_lexer": "ipython3",
   "version": "3.12.4"
  }
 },
 "nbformat": 4,
 "nbformat_minor": 2
}
